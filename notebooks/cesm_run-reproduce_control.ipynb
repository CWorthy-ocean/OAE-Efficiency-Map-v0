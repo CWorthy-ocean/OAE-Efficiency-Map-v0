{
 "cells": [
  {
   "cell_type": "markdown",
   "id": "420d1f8b-c056-4d36-8869-2b87f0378206",
   "metadata": {
    "tags": []
   },
   "source": [
    "# Run a CESM case"
   ]
  },
  {
   "cell_type": "code",
   "execution_count": 1,
   "id": "336df1de-66ab-4cbd-bfea-65600660b5bd",
   "metadata": {
    "tags": []
   },
   "outputs": [],
   "source": [
    "%load_ext autoreload\n",
    "%autoreload 2"
   ]
  },
  {
   "cell_type": "code",
   "execution_count": 2,
   "id": "561f6b97-4390-4068-8653-b4811ba85b58",
   "metadata": {
    "tags": []
   },
   "outputs": [],
   "source": [
    "import os\n",
    "from glob import glob\n",
    "from subprocess import check_call\n",
    "import cesm_tools\n",
    "\n",
    "from project import *"
   ]
  },
  {
   "cell_type": "code",
   "execution_count": 3,
   "id": "08925241-ed43-4661-85e7-9d03abf3cf21",
   "metadata": {
    "tags": [
     "parameters"
    ]
   },
   "outputs": [],
   "source": [
    "clobber = True\n",
    "\n",
    "refcase = \"g.e22.GOMIPECOIAF_JRA-1p4-2018.TL319_g17.SMYLE.005\"\n",
    "refdate = \"0347-01-01\"\n",
    "refcaserest_root = f\"{dir_project_root}/data/{refcase}/rest\"\n",
    "cesm_tag = \"release-cesm2.1.5\"\n",
    "\n",
    "compset = \"OMIP_DATM%JRA-1p4-2018_SLND_CICE_POP2%ECO_DROF%JRA-1p4-2018_SGLC_WW3_SIAC_SESP\"\n",
    "res = \"TL319_g17\"\n",
    "\n",
    "case = f\"smyle.control.{mach}.001\"\n",
    "\n",
    "stop_n = 15\n",
    "stop_option = \"nyear\"\n",
    "resubmit = 0\n",
    "\n",
    "queue = \"regular\"\n",
    "\n",
    "wallclock = \"00:30:00\" if queue == \"debug\" else \"24:00:00\"    "
   ]
  },
  {
   "cell_type": "code",
   "execution_count": 4,
   "id": "c34ac3e9-7b56-414b-ac8b-4c49af3e0fdb",
   "metadata": {
    "tags": []
   },
   "outputs": [
    {
     "name": "stdout",
     "output_type": "stream",
     "text": [
      "Check for right tag: /global/cfs/projectdirs/m4746/Projects/OAE-Efficiency-Map/codes/release-cesm2.1.5\n",
      "HEAD detached at release-cesm2.1.5\n",
      "nothing to commit, working tree clean\n",
      "\n",
      "\n"
     ]
    },
    {
     "data": {
      "text/plain": [
       "'/global/cfs/projectdirs/m4746/Projects/OAE-Efficiency-Map/codes/release-cesm2.1.5'"
      ]
     },
     "execution_count": 4,
     "metadata": {},
     "output_type": "execute_result"
    }
   ],
   "source": [
    "coderoot = os.path.join(dir_codes, cesm_tag)\n",
    "cesm_tools.code_checkout(\"https://github.com/ESCOMP/CESM.git\", dir_codes, cesm_tag)"
   ]
  },
  {
   "cell_type": "code",
   "execution_count": 5,
   "id": "a769bcda-cc83-45f4-9ae5-4b2ef1ce789c",
   "metadata": {
    "tags": []
   },
   "outputs": [
    {
     "name": "stdout",
     "output_type": "stream",
     "text": [
      "Did not find an alias or longname compset match for OMIP_DATM%JRA-1p4-2018_SLND_CICE_POP2%ECO_DROF%JRA-1p4-2018_SGLC_WW3_SIAC_SESP \n",
      "Compset forcing is \n",
      "ATM component is  Data driven ATM interannual JRA55 forcing, v1.4, through 2018\n",
      "LND component is Stub land component\n",
      "ICE component is Sea ICE (cice) model version 5\n",
      "OCN component is POP2 Ecosystem\n",
      "ROF component is Data runoff modelJRA55 interannual forcing, v1.4, through 2018\n",
      "GLC component is Stub glacier (land ice) component\n",
      "WAV component is Wave Watch\n",
      "ESP component is \n",
      "Pes     specification file is /global/cfs/cdirs/m4746/Projects/OAE-Efficiency-Map/codes/release-cesm2.1.5/cime/../components/pop//cime_config/config_pes.xml\n",
      "Machine is perlmutter\n",
      "Pes setting: compset_match is _DATM.*_POP2 \n",
      "Pes setting: grid          is a%TL319_l%null_oi%gx1v7_r%JRA025v2_g%null_w%ww3a_m%gx1v7 \n",
      "Pes setting: compset       is OMIP_DATM%JRA-1p4-2018_SLND_CICE_POP2%ECO_DROF%JRA-1p4-2018_SGLC_WW3_SIAC_SESP \n",
      "Pes setting: tasks       is {'NTASKS_OCN': -1, 'NTASKS_ICE': -1, 'NTASKS_CPL': -1, 'NTASKS_WAV': -1, 'NTASKS_ATM': -1, 'NTASKS_GLC': -1, 'NTASKS_LND': -1, 'NTASKS_ROF': -1} \n",
      "Pes setting: threads     is {'NTHRDS_OCN': 1, 'NTHRDS_ICE': 1, 'NTHRDS_CPL': 1, 'NTHRDS_WAV': 1, 'NTHRDS_ATM': 1, 'NTHRDS_GLC': 1, 'NTHRDS_LND': 1, 'NTHRDS_ROF': 1} \n",
      "Pes setting: rootpe      is {'ROOTPE_OCN': 0, 'ROOTPE_ICE': 0, 'ROOTPE_CPL': 0, 'ROOTPE_WAV': 0, 'ROOTPE_ATM': 0, 'ROOTPE_GLC': 0, 'ROOTPE_LND': 0, 'ROOTPE_ROF': 0} \n",
      "Pes setting: pstrid      is {} \n",
      "Pes other settings: {}\n",
      "Pes comments: Either did not recognize the resolution or the machine name specified\n"
     ]
    },
    {
     "name": "stderr",
     "output_type": "stream",
     "text": [
      "Could not find machine match for 'login29.chn' or 'login29'\n"
     ]
    },
    {
     "name": "stdout",
     "output_type": "stream",
     "text": [
      " Compset is: OMIP_DATM%JRA-1p4-2018_SLND_CICE_POP2%ECO_DROF%JRA-1p4-2018_SGLC_WW3_SIAC_SESP \n",
      " Grid is: a%TL319_l%null_oi%gx1v7_r%JRA025v2_g%null_w%ww3a_m%gx1v7 \n",
      " Components in compset are: ['datm', 'slnd', 'cice', 'pop', 'drof', 'sglc', 'ww3', 'siac', 'sesp', 'drv', 'dart'] \n",
      "No charge_account info available, using value from PROJECT\n",
      "No project info available\n",
      "cesm model version found: release-cesm2.1.5\n",
      "Batch_system_type is slurm\n",
      "job is case.run USER_REQUESTED_WALLTIME None USER_REQUESTED_QUEUE None WALLTIME_FORMAT %H:%M:%S\n",
      "job is case.st_archive USER_REQUESTED_WALLTIME None USER_REQUESTED_QUEUE None WALLTIME_FORMAT %H:%M:%S\n",
      " Creating Case directory /global/cfs/projectdirs/m4746/Projects/OAE-Efficiency-Map/cesm-cases/smyle.control.perlmutter.001\n"
     ]
    },
    {
     "data": {
      "text/plain": [
       "0"
      ]
     },
     "execution_count": 5,
     "metadata": {},
     "output_type": "execute_result"
    }
   ],
   "source": [
    "caseroot = f\"{dir_caseroot_root}/{case}\"\n",
    "assert not os.path.exists(caseroot) or clobber, f\"Case {case} exists; caseroot:\\n{caseroot}\\n\"\n",
    "\n",
    "rundir = f\"{dir_scratch}/{case}\"\n",
    "archive_root = f\"{dir_scratch}/archive/{case}\"\n",
    "\n",
    "check_call([\"rm\", \"-fr\", caseroot])\n",
    "check_call([\"rm\", \"-fr\", rundir])\n",
    "check_call([\"rm\", \"-fr\", archive_root])\n",
    "\n",
    "check_call(\n",
    "    \" \".join([\n",
    "        \"module load python\",\n",
    "        \"&&\",      \n",
    "        \"./create_newcase\",\n",
    "        \"--compset\", compset,\n",
    "        \"--case\", caseroot,\n",
    "        \"--res\", res,\n",
    "        \"--machine\", mach,\n",
    "        \"--project\", account,            \n",
    "        \"--run-unsupported\"]),\n",
    "    shell=True,\n",
    "    cwd=f\"{coderoot}/cime/scripts\",\n",
    ")"
   ]
  },
  {
   "cell_type": "code",
   "execution_count": 6,
   "id": "9e99dc40-651d-4818-9ac4-ffd4705ae1f3",
   "metadata": {
    "tags": []
   },
   "outputs": [],
   "source": [
    "def xmlchange(arg, force=False):\n",
    "    \"\"\"call xmlchange\"\"\"\n",
    "    check_call(f\"module load python && ./xmlchange {arg}\", cwd=caseroot, shell=True)"
   ]
  },
  {
   "cell_type": "code",
   "execution_count": null,
   "id": "8c74312b-5426-4d50-a4fb-5ca9c3e0fdf8",
   "metadata": {},
   "outputs": [],
   "source": []
  },
  {
   "cell_type": "code",
   "execution_count": 7,
   "id": "4c8a8d7b-df9b-4e92-94d0-038e36c8cd37",
   "metadata": {
    "tags": []
   },
   "outputs": [
    {
     "name": "stdout",
     "output_type": "stream",
     "text": [
      "'/global/cfs/projectdirs/m4746/Projects/OAE-Efficiency-Map/data/g.e22.GOMIPECOIAF_JRA-1p4-2018.TL319_g17.SMYLE.005/rest/0347-01-01-00000/g.e22.GOMIPECOIAF_JRA-1p4-2018.TL319_g17.SMYLE.005.cice.r.0347-01-01-00000.nc' -> '/pscratch/sd/m/mattlong/smyle.control.perlmutter.001/run/./g.e22.GOMIPECOIAF_JRA-1p4-2018.TL319_g17.SMYLE.005.cice.r.0347-01-01-00000.nc'\n",
      "'/global/cfs/projectdirs/m4746/Projects/OAE-Efficiency-Map/data/g.e22.GOMIPECOIAF_JRA-1p4-2018.TL319_g17.SMYLE.005/rest/0347-01-01-00000/g.e22.GOMIPECOIAF_JRA-1p4-2018.TL319_g17.SMYLE.005.cpl.r.0347-01-01-00000.nc' -> '/pscratch/sd/m/mattlong/smyle.control.perlmutter.001/run/./g.e22.GOMIPECOIAF_JRA-1p4-2018.TL319_g17.SMYLE.005.cpl.r.0347-01-01-00000.nc'\n",
      "'/global/cfs/projectdirs/m4746/Projects/OAE-Efficiency-Map/data/g.e22.GOMIPECOIAF_JRA-1p4-2018.TL319_g17.SMYLE.005/rest/0347-01-01-00000/g.e22.GOMIPECOIAF_JRA-1p4-2018.TL319_g17.SMYLE.005.datm.rs1.0347-01-01-00000.bin' -> '/pscratch/sd/m/mattlong/smyle.control.perlmutter.001/run/./g.e22.GOMIPECOIAF_JRA-1p4-2018.TL319_g17.SMYLE.005.datm.rs1.0347-01-01-00000.bin'\n",
      "'/global/cfs/projectdirs/m4746/Projects/OAE-Efficiency-Map/data/g.e22.GOMIPECOIAF_JRA-1p4-2018.TL319_g17.SMYLE.005/rest/0347-01-01-00000/g.e22.GOMIPECOIAF_JRA-1p4-2018.TL319_g17.SMYLE.005.drof.rs1.0347-01-01-00000.bin' -> '/pscratch/sd/m/mattlong/smyle.control.perlmutter.001/run/./g.e22.GOMIPECOIAF_JRA-1p4-2018.TL319_g17.SMYLE.005.drof.rs1.0347-01-01-00000.bin'\n",
      "'/global/cfs/projectdirs/m4746/Projects/OAE-Efficiency-Map/data/g.e22.GOMIPECOIAF_JRA-1p4-2018.TL319_g17.SMYLE.005/rest/0347-01-01-00000/g.e22.GOMIPECOIAF_JRA-1p4-2018.TL319_g17.SMYLE.005.pop.r.0347-01-01-00000.nc' -> '/pscratch/sd/m/mattlong/smyle.control.perlmutter.001/run/./g.e22.GOMIPECOIAF_JRA-1p4-2018.TL319_g17.SMYLE.005.pop.r.0347-01-01-00000.nc'\n",
      "'/global/cfs/projectdirs/m4746/Projects/OAE-Efficiency-Map/data/g.e22.GOMIPECOIAF_JRA-1p4-2018.TL319_g17.SMYLE.005/rest/0347-01-01-00000/g.e22.GOMIPECOIAF_JRA-1p4-2018.TL319_g17.SMYLE.005.pop.ro.0347-01-01-00000' -> '/pscratch/sd/m/mattlong/smyle.control.perlmutter.001/run/./g.e22.GOMIPECOIAF_JRA-1p4-2018.TL319_g17.SMYLE.005.pop.ro.0347-01-01-00000'\n",
      "'/global/cfs/projectdirs/m4746/Projects/OAE-Efficiency-Map/data/g.e22.GOMIPECOIAF_JRA-1p4-2018.TL319_g17.SMYLE.005/rest/0347-01-01-00000/g.e22.GOMIPECOIAF_JRA-1p4-2018.TL319_g17.SMYLE.005.ww3.r.0347-01-01-00000' -> '/pscratch/sd/m/mattlong/smyle.control.perlmutter.001/run/./g.e22.GOMIPECOIAF_JRA-1p4-2018.TL319_g17.SMYLE.005.ww3.r.0347-01-01-00000'\n",
      "'/global/cfs/projectdirs/m4746/Projects/OAE-Efficiency-Map/data/g.e22.GOMIPECOIAF_JRA-1p4-2018.TL319_g17.SMYLE.005/rest/0347-01-01-00000/rpointer.atm' -> '/pscratch/sd/m/mattlong/smyle.control.perlmutter.001/run/./rpointer.atm'\n",
      "'/global/cfs/projectdirs/m4746/Projects/OAE-Efficiency-Map/data/g.e22.GOMIPECOIAF_JRA-1p4-2018.TL319_g17.SMYLE.005/rest/0347-01-01-00000/rpointer.drv' -> '/pscratch/sd/m/mattlong/smyle.control.perlmutter.001/run/./rpointer.drv'\n",
      "'/global/cfs/projectdirs/m4746/Projects/OAE-Efficiency-Map/data/g.e22.GOMIPECOIAF_JRA-1p4-2018.TL319_g17.SMYLE.005/rest/0347-01-01-00000/rpointer.ice' -> '/pscratch/sd/m/mattlong/smyle.control.perlmutter.001/run/./rpointer.ice'\n",
      "'/global/cfs/projectdirs/m4746/Projects/OAE-Efficiency-Map/data/g.e22.GOMIPECOIAF_JRA-1p4-2018.TL319_g17.SMYLE.005/rest/0347-01-01-00000/rpointer.ocn.ovf' -> '/pscratch/sd/m/mattlong/smyle.control.perlmutter.001/run/./rpointer.ocn.ovf'\n",
      "'/global/cfs/projectdirs/m4746/Projects/OAE-Efficiency-Map/data/g.e22.GOMIPECOIAF_JRA-1p4-2018.TL319_g17.SMYLE.005/rest/0347-01-01-00000/rpointer.ocn.restart' -> '/pscratch/sd/m/mattlong/smyle.control.perlmutter.001/run/./rpointer.ocn.restart'\n",
      "'/global/cfs/projectdirs/m4746/Projects/OAE-Efficiency-Map/data/g.e22.GOMIPECOIAF_JRA-1p4-2018.TL319_g17.SMYLE.005/rest/0347-01-01-00000/rpointer.ocn.tavg' -> '/pscratch/sd/m/mattlong/smyle.control.perlmutter.001/run/./rpointer.ocn.tavg'\n",
      "'/global/cfs/projectdirs/m4746/Projects/OAE-Efficiency-Map/data/g.e22.GOMIPECOIAF_JRA-1p4-2018.TL319_g17.SMYLE.005/rest/0347-01-01-00000/rpointer.rof' -> '/pscratch/sd/m/mattlong/smyle.control.perlmutter.001/run/./rpointer.rof'\n"
     ]
    },
    {
     "data": {
      "text/plain": [
       "0"
      ]
     },
     "execution_count": 7,
     "metadata": {},
     "output_type": "execute_result"
    }
   ],
   "source": [
    "# copy restarts\n",
    "os.makedirs(f\"{dir_scratch}/{case}/run\", exist_ok=True)\n",
    "check_call(\n",
    "    f\"cp -v {refcaserest_root}/{refdate}-00000/* {dir_scratch}/{case}/run/.\",\n",
    "    shell=True,\n",
    ")\n"
   ]
  },
  {
   "cell_type": "code",
   "execution_count": 8,
   "id": "c31e1fa7-eba4-4305-b428-4785ae421766",
   "metadata": {
    "tags": []
   },
   "outputs": [
    {
     "name": "stdout",
     "output_type": "stream",
     "text": [
      "Setting resource.RLIMIT_STACK to -1 from (8388608, -1)\n",
      "job is case.run USER_REQUESTED_WALLTIME None USER_REQUESTED_QUEUE None WALLTIME_FORMAT %H:%M:%S\n",
      "Creating batch scripts\n",
      "Writing case.run script from input template /global/cfs/cdirs/m4746/Projects/OAE-Efficiency-Map/codes/release-cesm2.1.5/cime/config/cesm/machines/template.case.run\n"
     ]
    },
    {
     "name": "stderr",
     "output_type": "stream",
     "text": [
      "/global/cfs/projectdirs/m4746/Projects/OAE-Efficiency-Map/cesm-cases/smyle.control.perlmutter.001/env_mach_specific.xml already exists, delete to replace\n"
     ]
    },
    {
     "name": "stdout",
     "output_type": "stream",
     "text": [
      "Creating file .case.run\n",
      "Writing case.st_archive script from input template /global/cfs/cdirs/m4746/Projects/OAE-Efficiency-Map/codes/release-cesm2.1.5/cime/config/cesm/machines/template.st_archive\n",
      "Creating file case.st_archive\n",
      "Creating user_nl_xxx files for components and cpl\n",
      "If an old case build already exists, might want to run 'case.build --clean' before building\n",
      "You can now run './preview_run' to get more info on how your case will be run\n"
     ]
    }
   ],
   "source": [
    "xmlchange(f\"DIN_LOC_ROOT={cesm_inputdata}\")\n",
    "\n",
    "check_call(\n",
    "    \"module load python && ./case.setup\",\n",
    "    cwd=caseroot,\n",
    "    shell=True,\n",
    ")\n",
    "\n",
    "os.makedirs(f\"{caseroot}/SourceMods/src.desp\", exist_ok=True)"
   ]
  },
  {
   "cell_type": "code",
   "execution_count": 9,
   "id": "4f567842-ee9a-449f-9eac-f1f706466ef1",
   "metadata": {
    "tags": []
   },
   "outputs": [
    {
     "name": "stdout",
     "output_type": "stream",
     "text": [
      "'/global/u2/m/mattlong/codes/oae-dor-global-efficiency/notebooks/CESM-RefCase/g.e22.GOMIPECOIAF_JRA-1p4-2018.TL319_g17.SMYLE.005/SourceMods/src.cice/README' -> '/global/cfs/projectdirs/m4746/Projects/OAE-Efficiency-Map/cesm-cases/smyle.control.perlmutter.001/SourceMods/src.cice/README'\n",
      "'/global/u2/m/mattlong/codes/oae-dor-global-efficiency/notebooks/CESM-RefCase/g.e22.GOMIPECOIAF_JRA-1p4-2018.TL319_g17.SMYLE.005/SourceMods/src.datm/README' -> '/global/cfs/projectdirs/m4746/Projects/OAE-Efficiency-Map/cesm-cases/smyle.control.perlmutter.001/SourceMods/src.datm/README'\n",
      "'/global/u2/m/mattlong/codes/oae-dor-global-efficiency/notebooks/CESM-RefCase/g.e22.GOMIPECOIAF_JRA-1p4-2018.TL319_g17.SMYLE.005/SourceMods/src.drof/README' -> '/global/cfs/projectdirs/m4746/Projects/OAE-Efficiency-Map/cesm-cases/smyle.control.perlmutter.001/SourceMods/src.drof/README'\n",
      "'/global/u2/m/mattlong/codes/oae-dor-global-efficiency/notebooks/CESM-RefCase/g.e22.GOMIPECOIAF_JRA-1p4-2018.TL319_g17.SMYLE.005/SourceMods/src.drv/README' -> '/global/cfs/projectdirs/m4746/Projects/OAE-Efficiency-Map/cesm-cases/smyle.control.perlmutter.001/SourceMods/src.drv/README'\n",
      "'/global/u2/m/mattlong/codes/oae-dor-global-efficiency/notebooks/CESM-RefCase/g.e22.GOMIPECOIAF_JRA-1p4-2018.TL319_g17.SMYLE.005/SourceMods/src.pop/README' -> '/global/cfs/projectdirs/m4746/Projects/OAE-Efficiency-Map/cesm-cases/smyle.control.perlmutter.001/SourceMods/src.pop/README'\n",
      "'/global/u2/m/mattlong/codes/oae-dor-global-efficiency/notebooks/CESM-RefCase/g.e22.GOMIPECOIAF_JRA-1p4-2018.TL319_g17.SMYLE.005/SourceMods/src.pop/forcing_shf.F90' -> '/global/cfs/projectdirs/m4746/Projects/OAE-Efficiency-Map/cesm-cases/smyle.control.perlmutter.001/SourceMods/src.pop/forcing_shf.F90'\n",
      "'/global/u2/m/mattlong/codes/oae-dor-global-efficiency/notebooks/CESM-RefCase/g.e22.GOMIPECOIAF_JRA-1p4-2018.TL319_g17.SMYLE.005/SourceMods/src.share/README' -> '/global/cfs/projectdirs/m4746/Projects/OAE-Efficiency-Map/cesm-cases/smyle.control.perlmutter.001/SourceMods/src.share/README'\n",
      "'/global/u2/m/mattlong/codes/oae-dor-global-efficiency/notebooks/CESM-RefCase/g.e22.GOMIPECOIAF_JRA-1p4-2018.TL319_g17.SMYLE.005/SourceMods/src.siac/README' -> '/global/cfs/projectdirs/m4746/Projects/OAE-Efficiency-Map/cesm-cases/smyle.control.perlmutter.001/SourceMods/src.siac/README'\n",
      "'/global/u2/m/mattlong/codes/oae-dor-global-efficiency/notebooks/CESM-RefCase/g.e22.GOMIPECOIAF_JRA-1p4-2018.TL319_g17.SMYLE.005/SourceMods/src.ww3/README' -> '/global/cfs/projectdirs/m4746/Projects/OAE-Efficiency-Map/cesm-cases/smyle.control.perlmutter.001/SourceMods/src.ww3/README'\n"
     ]
    },
    {
     "data": {
      "text/plain": [
       "0"
      ]
     },
     "execution_count": 9,
     "metadata": {},
     "output_type": "execute_result"
    }
   ],
   "source": [
    "check_call(\n",
    "    f\"cp -vr {scriptroot}/CESM-RefCase/{refcase}/SourceMods/* {caseroot}/SourceMods\",\n",
    "    shell=True,\n",
    ")"
   ]
  },
  {
   "cell_type": "code",
   "execution_count": 10,
   "id": "a6e54a90-4b50-449e-85c9-4859f56f1961",
   "metadata": {
    "tags": []
   },
   "outputs": [
    {
     "name": "stdout",
     "output_type": "stream",
     "text": [
      "'/global/u2/m/mattlong/codes/oae-dor-global-efficiency/notebooks/CESM-RefCase/g.e22.GOMIPECOIAF_JRA-1p4-2018.TL319_g17.SMYLE.005/user_nl_cice' -> '/global/cfs/projectdirs/m4746/Projects/OAE-Efficiency-Map/cesm-cases/smyle.control.perlmutter.001/./user_nl_cice'\n",
      "'/global/u2/m/mattlong/codes/oae-dor-global-efficiency/notebooks/CESM-RefCase/g.e22.GOMIPECOIAF_JRA-1p4-2018.TL319_g17.SMYLE.005/user_nl_cpl' -> '/global/cfs/projectdirs/m4746/Projects/OAE-Efficiency-Map/cesm-cases/smyle.control.perlmutter.001/./user_nl_cpl'\n",
      "'/global/u2/m/mattlong/codes/oae-dor-global-efficiency/notebooks/CESM-RefCase/g.e22.GOMIPECOIAF_JRA-1p4-2018.TL319_g17.SMYLE.005/user_nl_datm' -> '/global/cfs/projectdirs/m4746/Projects/OAE-Efficiency-Map/cesm-cases/smyle.control.perlmutter.001/./user_nl_datm'\n",
      "'/global/u2/m/mattlong/codes/oae-dor-global-efficiency/notebooks/CESM-RefCase/g.e22.GOMIPECOIAF_JRA-1p4-2018.TL319_g17.SMYLE.005/user_nl_drof' -> '/global/cfs/projectdirs/m4746/Projects/OAE-Efficiency-Map/cesm-cases/smyle.control.perlmutter.001/./user_nl_drof'\n",
      "'/global/u2/m/mattlong/codes/oae-dor-global-efficiency/notebooks/CESM-RefCase/g.e22.GOMIPECOIAF_JRA-1p4-2018.TL319_g17.SMYLE.005/user_nl_pop' -> '/global/cfs/projectdirs/m4746/Projects/OAE-Efficiency-Map/cesm-cases/smyle.control.perlmutter.001/./user_nl_pop'\n",
      "'/global/u2/m/mattlong/codes/oae-dor-global-efficiency/notebooks/CESM-RefCase/g.e22.GOMIPECOIAF_JRA-1p4-2018.TL319_g17.SMYLE.005/user_nl_ww' -> '/global/cfs/projectdirs/m4746/Projects/OAE-Efficiency-Map/cesm-cases/smyle.control.perlmutter.001/./user_nl_ww'\n"
     ]
    },
    {
     "data": {
      "text/plain": [
       "0"
      ]
     },
     "execution_count": 10,
     "metadata": {},
     "output_type": "execute_result"
    }
   ],
   "source": [
    "check_call(\n",
    "    f\"cp -v {scriptroot}/CESM-RefCase/{refcase}/user_nl* {caseroot}/.\",\n",
    "    shell=True,\n",
    ")"
   ]
  },
  {
   "cell_type": "code",
   "execution_count": 11,
   "id": "525a8578-3122-4cc3-9818-a9ee65a7e560",
   "metadata": {
    "tags": []
   },
   "outputs": [
    {
     "name": "stdout",
     "output_type": "stream",
     "text": [
      "'/global/u2/m/mattlong/codes/oae-dor-global-efficiency/notebooks/CESM-RefCase/g.e22.GOMIPECOIAF_JRA-1p4-2018.TL319_g17.SMYLE.005/user_nl_cice' -> '/global/cfs/projectdirs/m4746/Projects/OAE-Efficiency-Map/cesm-cases/smyle.control.perlmutter.001/./user_nl_cice'\n",
      "'/global/u2/m/mattlong/codes/oae-dor-global-efficiency/notebooks/CESM-RefCase/g.e22.GOMIPECOIAF_JRA-1p4-2018.TL319_g17.SMYLE.005/user_nl_cpl' -> '/global/cfs/projectdirs/m4746/Projects/OAE-Efficiency-Map/cesm-cases/smyle.control.perlmutter.001/./user_nl_cpl'\n",
      "'/global/u2/m/mattlong/codes/oae-dor-global-efficiency/notebooks/CESM-RefCase/g.e22.GOMIPECOIAF_JRA-1p4-2018.TL319_g17.SMYLE.005/user_nl_datm' -> '/global/cfs/projectdirs/m4746/Projects/OAE-Efficiency-Map/cesm-cases/smyle.control.perlmutter.001/./user_nl_datm'\n",
      "'/global/u2/m/mattlong/codes/oae-dor-global-efficiency/notebooks/CESM-RefCase/g.e22.GOMIPECOIAF_JRA-1p4-2018.TL319_g17.SMYLE.005/user_nl_drof' -> '/global/cfs/projectdirs/m4746/Projects/OAE-Efficiency-Map/cesm-cases/smyle.control.perlmutter.001/./user_nl_drof'\n",
      "'/global/u2/m/mattlong/codes/oae-dor-global-efficiency/notebooks/CESM-RefCase/g.e22.GOMIPECOIAF_JRA-1p4-2018.TL319_g17.SMYLE.005/user_nl_pop' -> '/global/cfs/projectdirs/m4746/Projects/OAE-Efficiency-Map/cesm-cases/smyle.control.perlmutter.001/./user_nl_pop'\n",
      "'/global/u2/m/mattlong/codes/oae-dor-global-efficiency/notebooks/CESM-RefCase/g.e22.GOMIPECOIAF_JRA-1p4-2018.TL319_g17.SMYLE.005/user_nl_ww' -> '/global/cfs/projectdirs/m4746/Projects/OAE-Efficiency-Map/cesm-cases/smyle.control.perlmutter.001/./user_nl_ww'\n"
     ]
    },
    {
     "data": {
      "text/plain": [
       "0"
      ]
     },
     "execution_count": 11,
     "metadata": {},
     "output_type": "execute_result"
    }
   ],
   "source": [
    "check_call(\n",
    "    f\"cp -v {scriptroot}/CESM-RefCase/{refcase}/user_nl* {caseroot}/.\",\n",
    "    shell=True,\n",
    ")"
   ]
  },
  {
   "cell_type": "code",
   "execution_count": 12,
   "id": "bfc75245-c163-421c-9e9d-b91ab04eaaea",
   "metadata": {
    "tags": []
   },
   "outputs": [
    {
     "name": "stdout",
     "output_type": "stream",
     "text": [
      "/global/u2/m/mattlong/codes/oae-dor-global-efficiency/notebooks/CESM-RefCase/g.e22.GOMIPECOIAF_JRA-1p4-2018.TL319_g17.SMYLE.005/user_datm.streams.txt.co2tseries.omip -> /global/cfs/projectdirs/m4746/Projects/OAE-Efficiency-Map/cesm-cases/smyle.control.perlmutter.001/user_datm.streams.txt.co2tseries.omip\n",
      "/global/u2/m/mattlong/codes/oae-dor-global-efficiency/notebooks/CESM-RefCase/g.e22.GOMIPECOIAF_JRA-1p4-2018.TL319_g17.SMYLE.005/user_datm.streams.txt.presaero.cesm2_SMYLE -> /global/cfs/projectdirs/m4746/Projects/OAE-Efficiency-Map/cesm-cases/smyle.control.perlmutter.001/user_datm.streams.txt.presaero.cesm2_SMYLE\n",
      "/global/u2/m/mattlong/codes/oae-dor-global-efficiency/notebooks/CESM-RefCase/g.e22.GOMIPECOIAF_JRA-1p4-2018.TL319_g17.SMYLE.005/user_datm.streams.txt.presaero.clim_1850 -> /global/cfs/projectdirs/m4746/Projects/OAE-Efficiency-Map/cesm-cases/smyle.control.perlmutter.001/user_datm.streams.txt.presaero.clim_1850\n"
     ]
    }
   ],
   "source": [
    "user_datm_files = glob(f\"{scriptroot}/CESM-RefCase/{refcase}/user_datm.*\")\n",
    "\n",
    "for file in user_datm_files:\n",
    "    file_out = os.path.join(caseroot, os.path.basename(file))\n",
    "    print(f\"{file} -> {file_out}\")\n",
    "    with open(file, \"r\") as fid:\n",
    "        file_str = fid.read().replace(\"/glade/p/cesmdata/cseg/inputdata\", cesm_inputdata)\n",
    "    with open(file_out, \"w\") as fid:\n",
    "        fid.write(file_str)"
   ]
  },
  {
   "cell_type": "code",
   "execution_count": 13,
   "id": "8b2cabc7-cd0c-456a-a06d-02f6861f9ae3",
   "metadata": {
    "tags": []
   },
   "outputs": [],
   "source": [
    "xmlchange(f\"RUN_TYPE=branch\")\n",
    "xmlchange(f\"RUN_STARTDATE={refdate}\")\n",
    "xmlchange(f\"RUN_REFCASE={refcase}\")\n",
    "xmlchange(f\"RUN_REFDATE={refdate}\")\n",
    "\n",
    "xmlchange(f\"STOP_N={stop_n}\")\n",
    "xmlchange(f\"STOP_OPTION={stop_option}\")\n",
    "xmlchange(f\"REST_N={stop_n}\")\n",
    "xmlchange(f\"REST_OPTION={stop_option}\")\n",
    "xmlchange(f\"RESUBMIT={resubmit}\")\n",
    "xmlchange(f\"JOB_WALLCLOCK_TIME={wallclock}\")\n",
    "\n",
    "xmlchange(f\"CHARGE_ACCOUNT={account}\")\n",
    "xmlchange(f\"PROJECT={account}\")\n",
    "xmlchange(f\"JOB_QUEUE={queue}\")"
   ]
  },
  {
   "cell_type": "code",
   "execution_count": 14,
   "id": "1f07492c-ba7b-40be-9576-94bf8b5c0bb0",
   "metadata": {
    "tags": []
   },
   "outputs": [
    {
     "name": "stdout",
     "output_type": "stream",
     "text": [
      "Building case in directory /global/cfs/cdirs/m4746/Projects/OAE-Efficiency-Map/cesm-cases/smyle.control.perlmutter.001\n",
      "sharedlib_only is False\n",
      "model_only is False\n",
      "Setting resource.RLIMIT_STACK to -1 from (8388608, -1)\n",
      "Generating component namelists as part of build\n",
      "GET_REFCASE is false, the user is expected to stage the refcase to the run directory.\n",
      "Creating component namelists\n",
      "   Calling /global/cfs/cdirs/m4746/Projects/OAE-Efficiency-Map/codes/release-cesm2.1.5/cime/src/components/data_comps/datm/cime_config/buildnml\n"
     ]
    },
    {
     "name": "stderr",
     "output_type": "stream",
     "text": [
      "File not found: domainfile = \"/global/cfs/projectdirs/m4746/Projects/OAE-Efficiency-Map/data/cesm-inputdata/share/domains/domain.lnd.TL319_gx1v7.170705.nc\", will attempt to download in check_input_data phase\n"
     ]
    },
    {
     "name": "stdout",
     "output_type": "stream",
     "text": [
      "   Calling /global/cfs/cdirs/m4746/Projects/OAE-Efficiency-Map/codes/release-cesm2.1.5/cime/src/components/stub_comps/slnd/cime_config/buildnml\n",
      "   Calling /global/cfs/cdirs/m4746/Projects/OAE-Efficiency-Map/codes/release-cesm2.1.5/components/cice//cime_config/buildnml\n",
      "     ...buildnml calling cice buildcpp to set build time options\n",
      "   Calling /global/cfs/cdirs/m4746/Projects/OAE-Efficiency-Map/codes/release-cesm2.1.5/components/pop//cime_config/buildnml\n",
      "     ... buildnml: calling pop buildcpp to set build time options\n",
      "   Calling /global/cfs/cdirs/m4746/Projects/OAE-Efficiency-Map/codes/release-cesm2.1.5/cime/src/components/data_comps/drof/cime_config/buildnml\n",
      "   Calling /global/cfs/cdirs/m4746/Projects/OAE-Efficiency-Map/codes/release-cesm2.1.5/cime/src/components/stub_comps/sglc/cime_config/buildnml\n",
      "   Calling /global/cfs/cdirs/m4746/Projects/OAE-Efficiency-Map/codes/release-cesm2.1.5/components/ww3//cime_config/buildnml\n",
      "   Calling /global/cfs/cdirs/m4746/Projects/OAE-Efficiency-Map/codes/release-cesm2.1.5/cime/src/components/data_comps/desp/cime_config/buildnml\n",
      "   Calling /global/cfs/cdirs/m4746/Projects/OAE-Efficiency-Map/codes/release-cesm2.1.5/cime/src/drivers/mct/cime_config/buildnml\n",
      "Finished creating component namelists\n",
      "Building gptl with output to file /pscratch/sd/m/mattlong/smyle.control.perlmutter.001/bld/gptl.bldlog.240829-060233\n",
      "   Calling /global/cfs/cdirs/m4746/Projects/OAE-Efficiency-Map/codes/release-cesm2.1.5/cime/src/build_scripts/buildlib.gptl\n",
      "Building mct with output to file /pscratch/sd/m/mattlong/smyle.control.perlmutter.001/bld/mct.bldlog.240829-060233\n",
      "   Calling /global/cfs/cdirs/m4746/Projects/OAE-Efficiency-Map/codes/release-cesm2.1.5/cime/src/build_scripts/buildlib.mct\n",
      "Building pio with output to file /pscratch/sd/m/mattlong/smyle.control.perlmutter.001/bld/pio.bldlog.240829-060233\n",
      "   Calling /global/cfs/cdirs/m4746/Projects/OAE-Efficiency-Map/codes/release-cesm2.1.5/cime/src/build_scripts/buildlib.pio\n",
      "Component pio build complete with 2 warnings\n",
      "Building csm_share with output to file /pscratch/sd/m/mattlong/smyle.control.perlmutter.001/bld/csm_share.bldlog.240829-060233\n",
      "   Calling /global/cfs/cdirs/m4746/Projects/OAE-Efficiency-Map/codes/release-cesm2.1.5/cime/src/build_scripts/buildlib.csm_share\n",
      "Component csm_share build complete with 16 warnings\n",
      "Building atm with output to /pscratch/sd/m/mattlong/smyle.control.perlmutter.001/bld/atm.bldlog.240829-060233\n",
      "Building lnd with output to /pscratch/sd/m/mattlong/smyle.control.perlmutter.001/bld/lnd.bldlog.240829-060233\n",
      "Building ice with output to /pscratch/sd/m/mattlong/smyle.control.perlmutter.001/bld/ice.bldlog.240829-060233\n",
      "Building ocn with output to /pscratch/sd/m/mattlong/smyle.control.perlmutter.001/bld/ocn.bldlog.240829-060233\n",
      "Building rof with output to /pscratch/sd/m/mattlong/smyle.control.perlmutter.001/bld/rof.bldlog.240829-060233\n",
      "Building glc with output to /pscratch/sd/m/mattlong/smyle.control.perlmutter.001/bld/glc.bldlog.240829-060233\n",
      "Building wav with output to /pscratch/sd/m/mattlong/smyle.control.perlmutter.001/bld/wav.bldlog.240829-060233\n",
      "Building esp with output to /pscratch/sd/m/mattlong/smyle.control.perlmutter.001/bld/esp.bldlog.240829-060233\n",
      "sglc built in 5.608169 seconds\n",
      "slnd built in 5.685287 seconds\n",
      "drof built in 6.409628 seconds\n",
      "desp built in 6.698595 seconds\n",
      "datm built in 7.371554 seconds\n",
      "ww built in 26.458993 seconds\n",
      "Component ice build complete with 1 warnings\n",
      "cice built in 39.072222 seconds\n",
      "Component ocn build complete with 26 warnings\n",
      "pop built in 77.243125 seconds\n",
      "Building cesm with output to /pscratch/sd/m/mattlong/smyle.control.perlmutter.001/bld/cesm.bldlog.240829-060233 \n",
      "Time spent not building: 4.487040 sec\n",
      "Time spent building: 189.320693 sec\n",
      "MODEL BUILD HAS FINISHED SUCCESSFULLY\n"
     ]
    },
    {
     "data": {
      "text/plain": [
       "0"
      ]
     },
     "execution_count": 14,
     "metadata": {},
     "output_type": "execute_result"
    }
   ],
   "source": [
    "check_call(\n",
    "    \"module load python && ./case.build\",\n",
    "    cwd=caseroot,\n",
    "    shell=True,\n",
    ")"
   ]
  },
  {
   "cell_type": "code",
   "execution_count": 15,
   "id": "8b8777bb-65c9-45e7-abf1-0e69ec457c5c",
   "metadata": {
    "tags": []
   },
   "outputs": [
    {
     "name": "stdout",
     "output_type": "stream",
     "text": [
      "Setting resource.RLIMIT_STACK to -1 from (8388608, -1)\n",
      "GET_REFCASE is false, the user is expected to stage the refcase to the run directory.\n",
      "Creating component namelists\n",
      "   Calling /global/cfs/cdirs/m4746/Projects/OAE-Efficiency-Map/codes/release-cesm2.1.5/cime/src/components/data_comps/datm/cime_config/buildnml\n",
      "   Calling /global/cfs/cdirs/m4746/Projects/OAE-Efficiency-Map/codes/release-cesm2.1.5/cime/src/components/stub_comps/slnd/cime_config/buildnml\n",
      "   Calling /global/cfs/cdirs/m4746/Projects/OAE-Efficiency-Map/codes/release-cesm2.1.5/components/cice//cime_config/buildnml\n"
     ]
    },
    {
     "name": "stderr",
     "output_type": "stream",
     "text": [
      "File not found: domainfile = \"/global/cfs/projectdirs/m4746/Projects/OAE-Efficiency-Map/data/cesm-inputdata/share/domains/domain.lnd.TL319_gx1v7.170705.nc\", will attempt to download in check_input_data phase\n"
     ]
    },
    {
     "name": "stdout",
     "output_type": "stream",
     "text": [
      "   Calling /global/cfs/cdirs/m4746/Projects/OAE-Efficiency-Map/codes/release-cesm2.1.5/components/pop//cime_config/buildnml\n",
      "   Calling /global/cfs/cdirs/m4746/Projects/OAE-Efficiency-Map/codes/release-cesm2.1.5/cime/src/components/data_comps/drof/cime_config/buildnml\n",
      "   Calling /global/cfs/cdirs/m4746/Projects/OAE-Efficiency-Map/codes/release-cesm2.1.5/cime/src/components/stub_comps/sglc/cime_config/buildnml\n",
      "   Calling /global/cfs/cdirs/m4746/Projects/OAE-Efficiency-Map/codes/release-cesm2.1.5/components/ww3//cime_config/buildnml\n",
      "   Calling /global/cfs/cdirs/m4746/Projects/OAE-Efficiency-Map/codes/release-cesm2.1.5/cime/src/components/data_comps/desp/cime_config/buildnml\n",
      "   Calling /global/cfs/cdirs/m4746/Projects/OAE-Efficiency-Map/codes/release-cesm2.1.5/cime/src/drivers/mct/cime_config/buildnml\n",
      "Finished creating component namelists\n",
      "Checking that inputdata is available as part of case submission\n",
      "Setting resource.RLIMIT_STACK to -1 from (-1, -1)\n",
      "Loading input file list: 'Buildconf/cpl.input_data_list'\n",
      "Loading input file list: 'Buildconf/pop.input_data_list'\n",
      "Loading input file list: 'Buildconf/ww3.input_data_list'\n",
      "Loading input file list: 'Buildconf/datm.input_data_list'\n",
      "Loading input file list: 'Buildconf/desp.input_data_list'\n",
      "Loading input file list: 'Buildconf/drof.input_data_list'\n",
      "Loading input file list: 'Buildconf/cice.input_data_list'\n",
      "Using protocol wget with user anonymous and passwd user@example.edu\n"
     ]
    },
    {
     "name": "stderr",
     "output_type": "stream",
     "text": [
      "Model pop missing file ndep_shr_stream_file = '/glade/p/cesmdata/cseg/inputdata/ocn/pop/gx1v6/forcing/ndep_ocn_SMYLE_w_nhx_emis_gx1v6_1652-2025_c201113.nc'\n",
      "  Model datm missing file file10 = '/global/cfs/projectdirs/m4746/Projects/OAE-Efficiency-Map/data/cesm-inputdata/ocn/jra55/v1.3_noleap/JRA.v1.3.v_10.TL319.1967.190528.nc'\n",
      "  Model datm missing file file11 = '/global/cfs/projectdirs/m4746/Projects/OAE-Efficiency-Map/data/cesm-inputdata/ocn/jra55/v1.3_noleap/JRA.v1.3.v_10.TL319.1968.190528.nc'\n",
      "  Model datm missing file file12 = '/global/cfs/projectdirs/m4746/Projects/OAE-Efficiency-Map/data/cesm-inputdata/ocn/jra55/v1.3_noleap/JRA.v1.3.v_10.TL319.1969.190528.nc'\n",
      "  Model datm missing file file13 = '/global/cfs/projectdirs/m4746/Projects/OAE-Efficiency-Map/data/cesm-inputdata/ocn/jra55/v1.3_noleap/JRA.v1.3.v_10.TL319.1970.190528.nc'\n",
      "  Model datm missing file file14 = '/global/cfs/projectdirs/m4746/Projects/OAE-Efficiency-Map/data/cesm-inputdata/ocn/jra55/v1.3_noleap/JRA.v1.3.v_10.TL319.1971.190528.nc'\n",
      "  Model datm missing file file15 = '/global/cfs/projectdirs/m4746/Projects/OAE-Efficiency-Map/data/cesm-inputdata/ocn/jra55/v1.3_noleap/JRA.v1.3.v_10.TL319.1972.190528.nc'\n",
      "  Model datm missing file file16 = '/global/cfs/projectdirs/m4746/Projects/OAE-Efficiency-Map/data/cesm-inputdata/ocn/jra55/v1.3_noleap/JRA.v1.3.v_10.TL319.1973.190528.nc'\n",
      "  Model datm missing file file17 = '/global/cfs/projectdirs/m4746/Projects/OAE-Efficiency-Map/data/cesm-inputdata/ocn/jra55/v1.3_noleap/JRA.v1.3.v_10.TL319.1974.190528.nc'\n",
      "  Model datm missing file file18 = '/global/cfs/projectdirs/m4746/Projects/OAE-Efficiency-Map/data/cesm-inputdata/ocn/jra55/v1.3_noleap/JRA.v1.3.v_10.TL319.1975.190528.nc'\n",
      "  Model datm missing file file19 = '/global/cfs/projectdirs/m4746/Projects/OAE-Efficiency-Map/data/cesm-inputdata/ocn/jra55/v1.3_noleap/JRA.v1.3.v_10.TL319.1976.190528.nc'\n",
      "  Model datm missing file file20 = '/global/cfs/projectdirs/m4746/Projects/OAE-Efficiency-Map/data/cesm-inputdata/ocn/jra55/v1.3_noleap/JRA.v1.3.v_10.TL319.1977.190528.nc'\n",
      "  Model datm missing file file21 = '/global/cfs/projectdirs/m4746/Projects/OAE-Efficiency-Map/data/cesm-inputdata/ocn/jra55/v1.3_noleap/JRA.v1.3.v_10.TL319.1978.190528.nc'\n",
      "  Model datm missing file file22 = '/global/cfs/projectdirs/m4746/Projects/OAE-Efficiency-Map/data/cesm-inputdata/ocn/jra55/v1.3_noleap/JRA.v1.3.v_10.TL319.1979.190528.nc'\n",
      "  Model datm missing file file23 = '/global/cfs/projectdirs/m4746/Projects/OAE-Efficiency-Map/data/cesm-inputdata/ocn/jra55/v1.3_noleap/JRA.v1.3.v_10.TL319.1980.190528.nc'\n",
      "  Model datm missing file file24 = '/global/cfs/projectdirs/m4746/Projects/OAE-Efficiency-Map/data/cesm-inputdata/ocn/jra55/v1.3_noleap/JRA.v1.3.v_10.TL319.1981.190528.nc'\n",
      "  Model datm missing file file25 = '/global/cfs/projectdirs/m4746/Projects/OAE-Efficiency-Map/data/cesm-inputdata/ocn/jra55/v1.3_noleap/JRA.v1.3.v_10.TL319.1982.190528.nc'\n",
      "  Model datm missing file file26 = '/global/cfs/projectdirs/m4746/Projects/OAE-Efficiency-Map/data/cesm-inputdata/ocn/jra55/v1.3_noleap/JRA.v1.3.v_10.TL319.1983.190528.nc'\n",
      "  Model datm missing file file27 = '/global/cfs/projectdirs/m4746/Projects/OAE-Efficiency-Map/data/cesm-inputdata/ocn/jra55/v1.3_noleap/JRA.v1.3.v_10.TL319.1984.190528.nc'\n",
      "  Model datm missing file file28 = '/global/cfs/projectdirs/m4746/Projects/OAE-Efficiency-Map/data/cesm-inputdata/ocn/jra55/v1.3_noleap/JRA.v1.3.v_10.TL319.1985.190528.nc'\n",
      "  Model datm missing file file29 = '/global/cfs/projectdirs/m4746/Projects/OAE-Efficiency-Map/data/cesm-inputdata/ocn/jra55/v1.3_noleap/JRA.v1.3.v_10.TL319.1986.190528.nc'\n",
      "  Model datm missing file file30 = '/global/cfs/projectdirs/m4746/Projects/OAE-Efficiency-Map/data/cesm-inputdata/ocn/jra55/v1.3_noleap/JRA.v1.3.v_10.TL319.1987.190528.nc'\n",
      "  Model datm missing file file31 = '/global/cfs/projectdirs/m4746/Projects/OAE-Efficiency-Map/data/cesm-inputdata/ocn/jra55/v1.3_noleap/JRA.v1.3.v_10.TL319.1988.190528.nc'\n",
      "  Model datm missing file file32 = '/global/cfs/projectdirs/m4746/Projects/OAE-Efficiency-Map/data/cesm-inputdata/ocn/jra55/v1.3_noleap/JRA.v1.3.v_10.TL319.1989.190528.nc'\n",
      "  Model datm missing file file33 = '/global/cfs/projectdirs/m4746/Projects/OAE-Efficiency-Map/data/cesm-inputdata/ocn/jra55/v1.3_noleap/JRA.v1.3.v_10.TL319.1990.190528.nc'\n",
      "  Model datm missing file file34 = '/global/cfs/projectdirs/m4746/Projects/OAE-Efficiency-Map/data/cesm-inputdata/ocn/jra55/v1.3_noleap/JRA.v1.3.v_10.TL319.1991.190528.nc'\n",
      "  Model datm missing file file35 = '/global/cfs/projectdirs/m4746/Projects/OAE-Efficiency-Map/data/cesm-inputdata/ocn/jra55/v1.3_noleap/JRA.v1.3.v_10.TL319.1992.190528.nc'\n",
      "  Model datm missing file file36 = '/global/cfs/projectdirs/m4746/Projects/OAE-Efficiency-Map/data/cesm-inputdata/ocn/jra55/v1.3_noleap/JRA.v1.3.v_10.TL319.1993.190528.nc'\n",
      "  Model datm missing file file37 = '/global/cfs/projectdirs/m4746/Projects/OAE-Efficiency-Map/data/cesm-inputdata/ocn/jra55/v1.3_noleap/JRA.v1.3.v_10.TL319.1994.190528.nc'\n",
      "  Model datm missing file file38 = '/global/cfs/projectdirs/m4746/Projects/OAE-Efficiency-Map/data/cesm-inputdata/ocn/jra55/v1.3_noleap/JRA.v1.3.v_10.TL319.1995.190528.nc'\n",
      "  Model datm missing file file39 = '/global/cfs/projectdirs/m4746/Projects/OAE-Efficiency-Map/data/cesm-inputdata/ocn/jra55/v1.3_noleap/JRA.v1.3.v_10.TL319.1996.190528.nc'\n",
      "  Model datm missing file file40 = '/global/cfs/projectdirs/m4746/Projects/OAE-Efficiency-Map/data/cesm-inputdata/ocn/jra55/v1.3_noleap/JRA.v1.3.v_10.TL319.1997.190528.nc'\n",
      "  Model datm missing file file41 = '/global/cfs/projectdirs/m4746/Projects/OAE-Efficiency-Map/data/cesm-inputdata/ocn/jra55/v1.3_noleap/JRA.v1.3.v_10.TL319.1998.190528.nc'\n",
      "  Model datm missing file file42 = '/global/cfs/projectdirs/m4746/Projects/OAE-Efficiency-Map/data/cesm-inputdata/ocn/jra55/v1.3_noleap/JRA.v1.3.v_10.TL319.1999.190528.nc'\n",
      "  Model datm missing file file43 = '/global/cfs/projectdirs/m4746/Projects/OAE-Efficiency-Map/data/cesm-inputdata/ocn/jra55/v1.3_noleap/JRA.v1.3.v_10.TL319.2000.190528.nc'\n",
      "  Model datm missing file file44 = '/global/cfs/projectdirs/m4746/Projects/OAE-Efficiency-Map/data/cesm-inputdata/ocn/jra55/v1.3_noleap/JRA.v1.3.v_10.TL319.2001.190528.nc'\n",
      "  Model datm missing file file45 = '/global/cfs/projectdirs/m4746/Projects/OAE-Efficiency-Map/data/cesm-inputdata/ocn/jra55/v1.3_noleap/JRA.v1.3.v_10.TL319.2002.190528.nc'\n",
      "  Model datm missing file file46 = '/global/cfs/projectdirs/m4746/Projects/OAE-Efficiency-Map/data/cesm-inputdata/ocn/jra55/v1.3_noleap/JRA.v1.3.v_10.TL319.2003.190528.nc'\n",
      "  Model datm missing file file47 = '/global/cfs/projectdirs/m4746/Projects/OAE-Efficiency-Map/data/cesm-inputdata/ocn/jra55/v1.3_noleap/JRA.v1.3.v_10.TL319.2004.190528.nc'\n",
      "  Model datm missing file file48 = '/global/cfs/projectdirs/m4746/Projects/OAE-Efficiency-Map/data/cesm-inputdata/ocn/jra55/v1.3_noleap/JRA.v1.3.v_10.TL319.2005.190528.nc'\n",
      "  Model datm missing file file49 = '/global/cfs/projectdirs/m4746/Projects/OAE-Efficiency-Map/data/cesm-inputdata/ocn/jra55/v1.3_noleap/JRA.v1.3.v_10.TL319.2006.190528.nc'\n",
      "  Model datm missing file file50 = '/global/cfs/projectdirs/m4746/Projects/OAE-Efficiency-Map/data/cesm-inputdata/ocn/jra55/v1.3_noleap/JRA.v1.3.v_10.TL319.2007.190528.nc'\n",
      "  Model datm missing file file51 = '/global/cfs/projectdirs/m4746/Projects/OAE-Efficiency-Map/data/cesm-inputdata/ocn/jra55/v1.3_noleap/JRA.v1.3.v_10.TL319.2008.190528.nc'\n",
      "  Model datm missing file file52 = '/global/cfs/projectdirs/m4746/Projects/OAE-Efficiency-Map/data/cesm-inputdata/ocn/jra55/v1.3_noleap/JRA.v1.3.v_10.TL319.2009.190528.nc'\n",
      "  Model datm missing file file53 = '/global/cfs/projectdirs/m4746/Projects/OAE-Efficiency-Map/data/cesm-inputdata/ocn/jra55/v1.3_noleap/JRA.v1.3.v_10.TL319.2010.190528.nc'\n",
      "  Model datm missing file file54 = '/global/cfs/projectdirs/m4746/Projects/OAE-Efficiency-Map/data/cesm-inputdata/ocn/jra55/v1.3_noleap/JRA.v1.3.v_10.TL319.2011.190528.nc'\n",
      "  Model datm missing file file55 = '/global/cfs/projectdirs/m4746/Projects/OAE-Efficiency-Map/data/cesm-inputdata/ocn/jra55/v1.3_noleap/JRA.v1.3.v_10.TL319.2012.190528.nc'\n",
      "  Model datm missing file file56 = '/global/cfs/projectdirs/m4746/Projects/OAE-Efficiency-Map/data/cesm-inputdata/ocn/jra55/v1.3_noleap/JRA.v1.3.v_10.TL319.2013.190528.nc'\n",
      "  Model datm missing file file57 = '/global/cfs/projectdirs/m4746/Projects/OAE-Efficiency-Map/data/cesm-inputdata/ocn/jra55/v1.3_noleap/JRA.v1.3.v_10.TL319.2014.190528.nc'\n",
      "  Model datm missing file file58 = '/global/cfs/projectdirs/m4746/Projects/OAE-Efficiency-Map/data/cesm-inputdata/ocn/jra55/v1.3_noleap/JRA.v1.3.v_10.TL319.2015.190528.nc'\n",
      "  Model datm missing file file59 = '/global/cfs/projectdirs/m4746/Projects/OAE-Efficiency-Map/data/cesm-inputdata/ocn/jra55/v1.3_noleap/JRA.v1.3.v_10.TL319.2016.190528.nc'\n",
      "  Model datm missing file file60 = '/global/cfs/projectdirs/m4746/Projects/OAE-Efficiency-Map/data/cesm-inputdata/ocn/jra55/v1.3_noleap/JRA.v1.3.v_10.TL319.2017.190528.nc'\n",
      "  Model datm missing file file61 = '/global/cfs/projectdirs/m4746/Projects/OAE-Efficiency-Map/data/cesm-inputdata/ocn/jra55/v1.3_noleap/JRA.v1.3.v_10.TL319.2018.190528.nc'\n",
      "  Model datm missing file domain1 = '/global/cfs/projectdirs/m4746/Projects/OAE-Efficiency-Map/data/cesm-inputdata/atm/cam/chem/trop_mozart_aero/aero/aerosoldep_WACCM.ensmean_monthly_hist_1849-2014_0.9x1.25_CMIP6_c201111.nc'\n",
      "  Model datm missing file file1 = '/global/cfs/projectdirs/m4746/Projects/OAE-Efficiency-Map/data/cesm-inputdata/atm/cam/chem/trop_mozart_aero/aero/aerosoldep_WACCM.ensmean_1849vals_1637-1848_CMIP6_c190522.nc'\n",
      "  Model datm missing file file2 = '/global/cfs/projectdirs/m4746/Projects/OAE-Efficiency-Map/data/cesm-inputdata/atm/cam/chem/trop_mozart_aero/aero/aerosoldep_WACCM.ensmean_monthly_hist_1849-2014_0.9x1.25_CMIP6_c201111.nc'\n",
      "  Model datm missing file file3 = '/global/cfs/projectdirs/m4746/Projects/OAE-Efficiency-Map/data/cesm-inputdata/atm/cam/chem/trop_mozart_aero/aero/aerodep_clm_SSP370_b.e21.BWSSP370cmip6.f09_g17.CMIP6-SSP3-7.0-WACCM.001_2015-2025_monthly_0.9x1.25_c201111.nc'\n",
      "  Model datm missing file domain1 = '/global/cfs/projectdirs/m4746/Projects/OAE-Efficiency-Map/data/cesm-inputdata/atm/datm7/CO2/fco2_datm_global_ssp370_simyr_1750-2025_CMIP6_c201113.nc'\n",
      "  Model datm missing file file1 = '/global/cfs/projectdirs/m4746/Projects/OAE-Efficiency-Map/data/cesm-inputdata/atm/datm7/CO2/fco2_datm_global_ssp370_simyr_1750-2025_CMIP6_c201113.nc'\n",
      "  Model datm missing file domainfile = '/global/cfs/projectdirs/m4746/Projects/OAE-Efficiency-Map/data/cesm-inputdata/share/domains/domain.lnd.TL319_gx1v7.170705.nc'\n",
      "  Model drof missing file domain1 = '/global/cfs/projectdirs/m4746/Projects/OAE-Efficiency-Map/data/cesm-inputdata/lnd/dlnd7/JRA55/domain.roff.JRA025.170111.nc'\n",
      "  Model drof missing file file1 = '/global/cfs/projectdirs/m4746/Projects/OAE-Efficiency-Map/data/cesm-inputdata/lnd/dlnd7/JRA55/JRA.v1.4.runoff.1958.190214.nc'\n",
      "  Model drof missing file file2 = '/global/cfs/projectdirs/m4746/Projects/OAE-Efficiency-Map/data/cesm-inputdata/lnd/dlnd7/JRA55/JRA.v1.4.runoff.1959.190214.nc'\n",
      "  Model drof missing file file3 = '/global/cfs/projectdirs/m4746/Projects/OAE-Efficiency-Map/data/cesm-inputdata/lnd/dlnd7/JRA55/JRA.v1.4.runoff.1960.190214.nc'\n",
      "  Model drof missing file file4 = '/global/cfs/projectdirs/m4746/Projects/OAE-Efficiency-Map/data/cesm-inputdata/lnd/dlnd7/JRA55/JRA.v1.4.runoff.1961.190214.nc'\n",
      "  Model drof missing file file5 = '/global/cfs/projectdirs/m4746/Projects/OAE-Efficiency-Map/data/cesm-inputdata/lnd/dlnd7/JRA55/JRA.v1.4.runoff.1962.190214.nc'\n",
      "  Model drof missing file file6 = '/global/cfs/projectdirs/m4746/Projects/OAE-Efficiency-Map/data/cesm-inputdata/lnd/dlnd7/JRA55/JRA.v1.4.runoff.1963.190214.nc'\n",
      "  Model drof missing file file7 = '/global/cfs/projectdirs/m4746/Projects/OAE-Efficiency-Map/data/cesm-inputdata/lnd/dlnd7/JRA55/JRA.v1.4.runoff.1964.190214.nc'\n",
      "  Model drof missing file file8 = '/global/cfs/projectdirs/m4746/Projects/OAE-Efficiency-Map/data/cesm-inputdata/lnd/dlnd7/JRA55/JRA.v1.4.runoff.1965.190214.nc'\n",
      "  Model drof missing file file9 = '/global/cfs/projectdirs/m4746/Projects/OAE-Efficiency-Map/data/cesm-inputdata/lnd/dlnd7/JRA55/JRA.v1.4.runoff.1966.190214.nc'\n",
      "  Model drof missing file file10 = '/global/cfs/projectdirs/m4746/Projects/OAE-Efficiency-Map/data/cesm-inputdata/lnd/dlnd7/JRA55/JRA.v1.4.runoff.1967.190214.nc'\n",
      "  Model drof missing file file11 = '/global/cfs/projectdirs/m4746/Projects/OAE-Efficiency-Map/data/cesm-inputdata/lnd/dlnd7/JRA55/JRA.v1.4.runoff.1968.190214.nc'\n",
      "  Model drof missing file file12 = '/global/cfs/projectdirs/m4746/Projects/OAE-Efficiency-Map/data/cesm-inputdata/lnd/dlnd7/JRA55/JRA.v1.4.runoff.1969.190214.nc'\n",
      "  Model drof missing file file13 = '/global/cfs/projectdirs/m4746/Projects/OAE-Efficiency-Map/data/cesm-inputdata/lnd/dlnd7/JRA55/JRA.v1.4.runoff.1970.190214.nc'\n",
      "  Model drof missing file file14 = '/global/cfs/projectdirs/m4746/Projects/OAE-Efficiency-Map/data/cesm-inputdata/lnd/dlnd7/JRA55/JRA.v1.4.runoff.1971.190214.nc'\n",
      "  Model drof missing file file15 = '/global/cfs/projectdirs/m4746/Projects/OAE-Efficiency-Map/data/cesm-inputdata/lnd/dlnd7/JRA55/JRA.v1.4.runoff.1972.190214.nc'\n",
      "  Model drof missing file file16 = '/global/cfs/projectdirs/m4746/Projects/OAE-Efficiency-Map/data/cesm-inputdata/lnd/dlnd7/JRA55/JRA.v1.4.runoff.1973.190214.nc'\n",
      "  Model drof missing file file17 = '/global/cfs/projectdirs/m4746/Projects/OAE-Efficiency-Map/data/cesm-inputdata/lnd/dlnd7/JRA55/JRA.v1.4.runoff.1974.190214.nc'\n",
      "  Model drof missing file file18 = '/global/cfs/projectdirs/m4746/Projects/OAE-Efficiency-Map/data/cesm-inputdata/lnd/dlnd7/JRA55/JRA.v1.4.runoff.1975.190214.nc'\n",
      "  Model drof missing file file19 = '/global/cfs/projectdirs/m4746/Projects/OAE-Efficiency-Map/data/cesm-inputdata/lnd/dlnd7/JRA55/JRA.v1.4.runoff.1976.190214.nc'\n",
      "  Model drof missing file file20 = '/global/cfs/projectdirs/m4746/Projects/OAE-Efficiency-Map/data/cesm-inputdata/lnd/dlnd7/JRA55/JRA.v1.4.runoff.1977.190214.nc'\n",
      "  Model drof missing file file21 = '/global/cfs/projectdirs/m4746/Projects/OAE-Efficiency-Map/data/cesm-inputdata/lnd/dlnd7/JRA55/JRA.v1.4.runoff.1978.190214.nc'\n",
      "  Model drof missing file file22 = '/global/cfs/projectdirs/m4746/Projects/OAE-Efficiency-Map/data/cesm-inputdata/lnd/dlnd7/JRA55/JRA.v1.4.runoff.1979.190214.nc'\n",
      "  Model drof missing file file23 = '/global/cfs/projectdirs/m4746/Projects/OAE-Efficiency-Map/data/cesm-inputdata/lnd/dlnd7/JRA55/JRA.v1.4.runoff.1980.190214.nc'\n",
      "  Model drof missing file file24 = '/global/cfs/projectdirs/m4746/Projects/OAE-Efficiency-Map/data/cesm-inputdata/lnd/dlnd7/JRA55/JRA.v1.4.runoff.1981.190214.nc'\n",
      "  Model drof missing file file25 = '/global/cfs/projectdirs/m4746/Projects/OAE-Efficiency-Map/data/cesm-inputdata/lnd/dlnd7/JRA55/JRA.v1.4.runoff.1982.190214.nc'\n",
      "  Model drof missing file file26 = '/global/cfs/projectdirs/m4746/Projects/OAE-Efficiency-Map/data/cesm-inputdata/lnd/dlnd7/JRA55/JRA.v1.4.runoff.1983.190214.nc'\n",
      "  Model drof missing file file27 = '/global/cfs/projectdirs/m4746/Projects/OAE-Efficiency-Map/data/cesm-inputdata/lnd/dlnd7/JRA55/JRA.v1.4.runoff.1984.190214.nc'\n",
      "  Model drof missing file file28 = '/global/cfs/projectdirs/m4746/Projects/OAE-Efficiency-Map/data/cesm-inputdata/lnd/dlnd7/JRA55/JRA.v1.4.runoff.1985.190214.nc'\n",
      "  Model drof missing file file29 = '/global/cfs/projectdirs/m4746/Projects/OAE-Efficiency-Map/data/cesm-inputdata/lnd/dlnd7/JRA55/JRA.v1.4.runoff.1986.190214.nc'\n",
      "  Model drof missing file file30 = '/global/cfs/projectdirs/m4746/Projects/OAE-Efficiency-Map/data/cesm-inputdata/lnd/dlnd7/JRA55/JRA.v1.4.runoff.1987.190214.nc'\n",
      "  Model drof missing file file31 = '/global/cfs/projectdirs/m4746/Projects/OAE-Efficiency-Map/data/cesm-inputdata/lnd/dlnd7/JRA55/JRA.v1.4.runoff.1988.190214.nc'\n",
      "  Model drof missing file file32 = '/global/cfs/projectdirs/m4746/Projects/OAE-Efficiency-Map/data/cesm-inputdata/lnd/dlnd7/JRA55/JRA.v1.4.runoff.1989.190214.nc'\n",
      "  Model drof missing file file33 = '/global/cfs/projectdirs/m4746/Projects/OAE-Efficiency-Map/data/cesm-inputdata/lnd/dlnd7/JRA55/JRA.v1.4.runoff.1990.190214.nc'\n",
      "  Model drof missing file file34 = '/global/cfs/projectdirs/m4746/Projects/OAE-Efficiency-Map/data/cesm-inputdata/lnd/dlnd7/JRA55/JRA.v1.4.runoff.1991.190214.nc'\n",
      "  Model drof missing file file35 = '/global/cfs/projectdirs/m4746/Projects/OAE-Efficiency-Map/data/cesm-inputdata/lnd/dlnd7/JRA55/JRA.v1.4.runoff.1992.190214.nc'\n",
      "  Model drof missing file file36 = '/global/cfs/projectdirs/m4746/Projects/OAE-Efficiency-Map/data/cesm-inputdata/lnd/dlnd7/JRA55/JRA.v1.4.runoff.1993.190214.nc'\n",
      "  Model drof missing file file37 = '/global/cfs/projectdirs/m4746/Projects/OAE-Efficiency-Map/data/cesm-inputdata/lnd/dlnd7/JRA55/JRA.v1.4.runoff.1994.190214.nc'\n",
      "  Model drof missing file file38 = '/global/cfs/projectdirs/m4746/Projects/OAE-Efficiency-Map/data/cesm-inputdata/lnd/dlnd7/JRA55/JRA.v1.4.runoff.1995.190214.nc'\n",
      "  Model drof missing file file39 = '/global/cfs/projectdirs/m4746/Projects/OAE-Efficiency-Map/data/cesm-inputdata/lnd/dlnd7/JRA55/JRA.v1.4.runoff.1996.190214.nc'\n",
      "  Model drof missing file file40 = '/global/cfs/projectdirs/m4746/Projects/OAE-Efficiency-Map/data/cesm-inputdata/lnd/dlnd7/JRA55/JRA.v1.4.runoff.1997.190214.nc'\n",
      "  Model drof missing file file41 = '/global/cfs/projectdirs/m4746/Projects/OAE-Efficiency-Map/data/cesm-inputdata/lnd/dlnd7/JRA55/JRA.v1.4.runoff.1998.190214.nc'\n",
      "  Model drof missing file file42 = '/global/cfs/projectdirs/m4746/Projects/OAE-Efficiency-Map/data/cesm-inputdata/lnd/dlnd7/JRA55/JRA.v1.4.runoff.1999.190214.nc'\n",
      "  Model drof missing file file43 = '/global/cfs/projectdirs/m4746/Projects/OAE-Efficiency-Map/data/cesm-inputdata/lnd/dlnd7/JRA55/JRA.v1.4.runoff.2000.190214.nc'\n",
      "  Model drof missing file file44 = '/global/cfs/projectdirs/m4746/Projects/OAE-Efficiency-Map/data/cesm-inputdata/lnd/dlnd7/JRA55/JRA.v1.4.runoff.2001.190214.nc'\n",
      "  Model drof missing file file45 = '/global/cfs/projectdirs/m4746/Projects/OAE-Efficiency-Map/data/cesm-inputdata/lnd/dlnd7/JRA55/JRA.v1.4.runoff.2002.190214.nc'\n",
      "  Model drof missing file file46 = '/global/cfs/projectdirs/m4746/Projects/OAE-Efficiency-Map/data/cesm-inputdata/lnd/dlnd7/JRA55/JRA.v1.4.runoff.2003.190214.nc'\n",
      "  Model drof missing file file47 = '/global/cfs/projectdirs/m4746/Projects/OAE-Efficiency-Map/data/cesm-inputdata/lnd/dlnd7/JRA55/JRA.v1.4.runoff.2004.190214.nc'\n",
      "  Model drof missing file file48 = '/global/cfs/projectdirs/m4746/Projects/OAE-Efficiency-Map/data/cesm-inputdata/lnd/dlnd7/JRA55/JRA.v1.4.runoff.2005.190214.nc'\n",
      "  Model drof missing file file49 = '/global/cfs/projectdirs/m4746/Projects/OAE-Efficiency-Map/data/cesm-inputdata/lnd/dlnd7/JRA55/JRA.v1.4.runoff.2006.190214.nc'\n",
      "  Model drof missing file file50 = '/global/cfs/projectdirs/m4746/Projects/OAE-Efficiency-Map/data/cesm-inputdata/lnd/dlnd7/JRA55/JRA.v1.4.runoff.2007.190214.nc'\n",
      "  Model drof missing file file51 = '/global/cfs/projectdirs/m4746/Projects/OAE-Efficiency-Map/data/cesm-inputdata/lnd/dlnd7/JRA55/JRA.v1.4.runoff.2008.190214.nc'\n",
      "  Model drof missing file file52 = '/global/cfs/projectdirs/m4746/Projects/OAE-Efficiency-Map/data/cesm-inputdata/lnd/dlnd7/JRA55/JRA.v1.4.runoff.2009.190214.nc'\n",
      "  Model drof missing file file53 = '/global/cfs/projectdirs/m4746/Projects/OAE-Efficiency-Map/data/cesm-inputdata/lnd/dlnd7/JRA55/JRA.v1.4.runoff.2010.190214.nc'\n",
      "  Model drof missing file file54 = '/global/cfs/projectdirs/m4746/Projects/OAE-Efficiency-Map/data/cesm-inputdata/lnd/dlnd7/JRA55/JRA.v1.4.runoff.2011.190214.nc'\n",
      "  Model drof missing file file55 = '/global/cfs/projectdirs/m4746/Projects/OAE-Efficiency-Map/data/cesm-inputdata/lnd/dlnd7/JRA55/JRA.v1.4.runoff.2012.190214.nc'\n",
      "  Model drof missing file file56 = '/global/cfs/projectdirs/m4746/Projects/OAE-Efficiency-Map/data/cesm-inputdata/lnd/dlnd7/JRA55/JRA.v1.4.runoff.2013.190214.nc'\n",
      "  Model drof missing file file57 = '/global/cfs/projectdirs/m4746/Projects/OAE-Efficiency-Map/data/cesm-inputdata/lnd/dlnd7/JRA55/JRA.v1.4.runoff.2014.190214.nc'\n",
      "  Model drof missing file file58 = '/global/cfs/projectdirs/m4746/Projects/OAE-Efficiency-Map/data/cesm-inputdata/lnd/dlnd7/JRA55/JRA.v1.4.runoff.2015.190214.nc'\n",
      "  Model drof missing file file59 = '/global/cfs/projectdirs/m4746/Projects/OAE-Efficiency-Map/data/cesm-inputdata/lnd/dlnd7/JRA55/JRA.v1.4.runoff.2016.190214.nc'\n",
      "  Model drof missing file file60 = '/global/cfs/projectdirs/m4746/Projects/OAE-Efficiency-Map/data/cesm-inputdata/lnd/dlnd7/JRA55/JRA.v1.4.runoff.2017.190214.nc'\n",
      "  Model drof missing file file61 = '/global/cfs/projectdirs/m4746/Projects/OAE-Efficiency-Map/data/cesm-inputdata/lnd/dlnd7/JRA55/JRA.v1.4.runoff.2018.190214.nc'\n",
      "Client protocol gftp not enabled\n"
     ]
    },
    {
     "name": "stdout",
     "output_type": "stream",
     "text": [
      "Trying to download file: '../inputdata_checksum.dat' to path '/pscratch/sd/m/mattlong/smyle.control.perlmutter.001/run/inputdata_checksum.dat.raw' using WGET protocol.\n",
      "SUCCESS\n",
      "\n",
      "Using protocol ftp with user anonymous and passwd user@example.edu\n",
      "server address ftp.cgd.ucar.edu root path cesm/inputdata\n",
      "Trying to download file: '../inputdata_checksum.dat' to path '/pscratch/sd/m/mattlong/smyle.control.perlmutter.001/run/inputdata_checksum.dat.raw' using FTP protocol.\n",
      "Using protocol svn with user  and passwd \n",
      "Trying to download file: 'None' to path '/pscratch/sd/m/mattlong/smyle.control.perlmutter.001/run/inputdata_checksum.dat.raw' using SVN protocol.\n",
      "Checking server ftp://gridanon.cgd.ucar.edu:2811/cesm/inputdata/ with protocol gftp\n"
     ]
    },
    {
     "name": "stderr",
     "output_type": "stream",
     "text": [
      "Could not automatically download file /pscratch/sd/m/mattlong/smyle.control.perlmutter.001/run/inputdata_checksum.dat Restoring existing version.\n",
      "Client protocol None not enabled\n"
     ]
    },
    {
     "name": "stdout",
     "output_type": "stream",
     "text": [
      "Setting resource.RLIMIT_STACK to -1 from (-1, -1)\n",
      "Checking server ftp://ftp.cgd.ucar.edu/cesm/inputdata/ with protocol wget\n"
     ]
    },
    {
     "name": "stderr",
     "output_type": "stream",
     "text": [
      "Client protocol gftp not enabled\n"
     ]
    },
    {
     "name": "stdout",
     "output_type": "stream",
     "text": [
      "Setting resource.RLIMIT_STACK to -1 from (-1, -1)\n",
      "Using protocol wget with user anonymous and passwd user@example.edu\n",
      "Loading input file list: 'Buildconf/cpl.input_data_list'\n",
      "Loading input file list: 'Buildconf/pop.input_data_list'\n",
      "Loading input file list: 'Buildconf/ww3.input_data_list'\n",
      "Loading input file list: 'Buildconf/datm.input_data_list'\n",
      "Trying to download file: 'ocn/jra55/v1.3_noleap/JRA.v1.3.v_10.TL319.1967.190528.nc' to path '/global/cfs/projectdirs/m4746/Projects/OAE-Efficiency-Map/data/cesm-inputdata/ocn/jra55/v1.3_noleap/JRA.v1.3.v_10.TL319.1967.190528.nc' using WGET protocol.\n"
     ]
    },
    {
     "name": "stderr",
     "output_type": "stream",
     "text": [
      "Model pop missing file ndep_shr_stream_file = '/glade/p/cesmdata/cseg/inputdata/ocn/pop/gx1v6/forcing/ndep_ocn_SMYLE_w_nhx_emis_gx1v6_1652-2025_c201113.nc'\n",
      "    Cannot download file since it lives outside of the input_data_root '/global/cfs/projectdirs/m4746/Projects/OAE-Efficiency-Map/data/cesm-inputdata'\n",
      "  Model datm missing file file10 = '/global/cfs/projectdirs/m4746/Projects/OAE-Efficiency-Map/data/cesm-inputdata/ocn/jra55/v1.3_noleap/JRA.v1.3.v_10.TL319.1967.190528.nc'\n"
     ]
    },
    {
     "name": "stdout",
     "output_type": "stream",
     "text": [
      "SUCCESS\n",
      "\n"
     ]
    },
    {
     "name": "stderr",
     "output_type": "stream",
     "text": [
      "Did not find hash for file ocn/jra55/v1.3_noleap/JRA.v1.3.v_10.TL319.1967.190528.nc in chksum file /pscratch/sd/m/mattlong/smyle.control.perlmutter.001/run/inputdata_checksum.dat\n",
      "  Model datm missing file file11 = '/global/cfs/projectdirs/m4746/Projects/OAE-Efficiency-Map/data/cesm-inputdata/ocn/jra55/v1.3_noleap/JRA.v1.3.v_10.TL319.1968.190528.nc'\n"
     ]
    },
    {
     "name": "stdout",
     "output_type": "stream",
     "text": [
      "Trying to download file: 'ocn/jra55/v1.3_noleap/JRA.v1.3.v_10.TL319.1968.190528.nc' to path '/global/cfs/projectdirs/m4746/Projects/OAE-Efficiency-Map/data/cesm-inputdata/ocn/jra55/v1.3_noleap/JRA.v1.3.v_10.TL319.1968.190528.nc' using WGET protocol.\n",
      "SUCCESS\n",
      "\n"
     ]
    },
    {
     "name": "stderr",
     "output_type": "stream",
     "text": [
      "Did not find hash for file ocn/jra55/v1.3_noleap/JRA.v1.3.v_10.TL319.1968.190528.nc in chksum file /pscratch/sd/m/mattlong/smyle.control.perlmutter.001/run/inputdata_checksum.dat\n",
      "  Model datm missing file file12 = '/global/cfs/projectdirs/m4746/Projects/OAE-Efficiency-Map/data/cesm-inputdata/ocn/jra55/v1.3_noleap/JRA.v1.3.v_10.TL319.1969.190528.nc'\n"
     ]
    },
    {
     "name": "stdout",
     "output_type": "stream",
     "text": [
      "Trying to download file: 'ocn/jra55/v1.3_noleap/JRA.v1.3.v_10.TL319.1969.190528.nc' to path '/global/cfs/projectdirs/m4746/Projects/OAE-Efficiency-Map/data/cesm-inputdata/ocn/jra55/v1.3_noleap/JRA.v1.3.v_10.TL319.1969.190528.nc' using WGET protocol.\n",
      "SUCCESS\n",
      "\n"
     ]
    },
    {
     "name": "stderr",
     "output_type": "stream",
     "text": [
      "Did not find hash for file ocn/jra55/v1.3_noleap/JRA.v1.3.v_10.TL319.1969.190528.nc in chksum file /pscratch/sd/m/mattlong/smyle.control.perlmutter.001/run/inputdata_checksum.dat\n",
      "  Model datm missing file file13 = '/global/cfs/projectdirs/m4746/Projects/OAE-Efficiency-Map/data/cesm-inputdata/ocn/jra55/v1.3_noleap/JRA.v1.3.v_10.TL319.1970.190528.nc'\n"
     ]
    },
    {
     "name": "stdout",
     "output_type": "stream",
     "text": [
      "Trying to download file: 'ocn/jra55/v1.3_noleap/JRA.v1.3.v_10.TL319.1970.190528.nc' to path '/global/cfs/projectdirs/m4746/Projects/OAE-Efficiency-Map/data/cesm-inputdata/ocn/jra55/v1.3_noleap/JRA.v1.3.v_10.TL319.1970.190528.nc' using WGET protocol.\n",
      "SUCCESS\n",
      "\n"
     ]
    },
    {
     "name": "stderr",
     "output_type": "stream",
     "text": [
      "Did not find hash for file ocn/jra55/v1.3_noleap/JRA.v1.3.v_10.TL319.1970.190528.nc in chksum file /pscratch/sd/m/mattlong/smyle.control.perlmutter.001/run/inputdata_checksum.dat\n",
      "  Model datm missing file file14 = '/global/cfs/projectdirs/m4746/Projects/OAE-Efficiency-Map/data/cesm-inputdata/ocn/jra55/v1.3_noleap/JRA.v1.3.v_10.TL319.1971.190528.nc'\n"
     ]
    },
    {
     "name": "stdout",
     "output_type": "stream",
     "text": [
      "Trying to download file: 'ocn/jra55/v1.3_noleap/JRA.v1.3.v_10.TL319.1971.190528.nc' to path '/global/cfs/projectdirs/m4746/Projects/OAE-Efficiency-Map/data/cesm-inputdata/ocn/jra55/v1.3_noleap/JRA.v1.3.v_10.TL319.1971.190528.nc' using WGET protocol.\n",
      "SUCCESS\n",
      "\n"
     ]
    },
    {
     "name": "stderr",
     "output_type": "stream",
     "text": [
      "Did not find hash for file ocn/jra55/v1.3_noleap/JRA.v1.3.v_10.TL319.1971.190528.nc in chksum file /pscratch/sd/m/mattlong/smyle.control.perlmutter.001/run/inputdata_checksum.dat\n",
      "  Model datm missing file file15 = '/global/cfs/projectdirs/m4746/Projects/OAE-Efficiency-Map/data/cesm-inputdata/ocn/jra55/v1.3_noleap/JRA.v1.3.v_10.TL319.1972.190528.nc'\n"
     ]
    },
    {
     "name": "stdout",
     "output_type": "stream",
     "text": [
      "Trying to download file: 'ocn/jra55/v1.3_noleap/JRA.v1.3.v_10.TL319.1972.190528.nc' to path '/global/cfs/projectdirs/m4746/Projects/OAE-Efficiency-Map/data/cesm-inputdata/ocn/jra55/v1.3_noleap/JRA.v1.3.v_10.TL319.1972.190528.nc' using WGET protocol.\n",
      "SUCCESS\n",
      "\n"
     ]
    },
    {
     "name": "stderr",
     "output_type": "stream",
     "text": [
      "Did not find hash for file ocn/jra55/v1.3_noleap/JRA.v1.3.v_10.TL319.1972.190528.nc in chksum file /pscratch/sd/m/mattlong/smyle.control.perlmutter.001/run/inputdata_checksum.dat\n",
      "  Model datm missing file file16 = '/global/cfs/projectdirs/m4746/Projects/OAE-Efficiency-Map/data/cesm-inputdata/ocn/jra55/v1.3_noleap/JRA.v1.3.v_10.TL319.1973.190528.nc'\n"
     ]
    },
    {
     "name": "stdout",
     "output_type": "stream",
     "text": [
      "Trying to download file: 'ocn/jra55/v1.3_noleap/JRA.v1.3.v_10.TL319.1973.190528.nc' to path '/global/cfs/projectdirs/m4746/Projects/OAE-Efficiency-Map/data/cesm-inputdata/ocn/jra55/v1.3_noleap/JRA.v1.3.v_10.TL319.1973.190528.nc' using WGET protocol.\n",
      "SUCCESS\n",
      "\n"
     ]
    },
    {
     "name": "stderr",
     "output_type": "stream",
     "text": [
      "Did not find hash for file ocn/jra55/v1.3_noleap/JRA.v1.3.v_10.TL319.1973.190528.nc in chksum file /pscratch/sd/m/mattlong/smyle.control.perlmutter.001/run/inputdata_checksum.dat\n",
      "  Model datm missing file file17 = '/global/cfs/projectdirs/m4746/Projects/OAE-Efficiency-Map/data/cesm-inputdata/ocn/jra55/v1.3_noleap/JRA.v1.3.v_10.TL319.1974.190528.nc'\n"
     ]
    },
    {
     "name": "stdout",
     "output_type": "stream",
     "text": [
      "Trying to download file: 'ocn/jra55/v1.3_noleap/JRA.v1.3.v_10.TL319.1974.190528.nc' to path '/global/cfs/projectdirs/m4746/Projects/OAE-Efficiency-Map/data/cesm-inputdata/ocn/jra55/v1.3_noleap/JRA.v1.3.v_10.TL319.1974.190528.nc' using WGET protocol.\n"
     ]
    },
    {
     "name": "stderr",
     "output_type": "stream",
     "text": [
      "Traceback (most recent call last):\n",
      "  File \"/global/cfs/cdirs/m4746/Projects/OAE-Efficiency-Map/cesm-cases/smyle.control.perlmutter.001/./case.submit\", line 107, in <module>\n",
      "    _main_func(__doc__)\n",
      "  File \"/global/cfs/cdirs/m4746/Projects/OAE-Efficiency-Map/cesm-cases/smyle.control.perlmutter.001/./case.submit\", line 102, in _main_func\n",
      "    case.submit(job=job, no_batch=no_batch, prereq=prereq, allow_fail=allow_fail,\n",
      "  File \"/global/cfs/cdirs/m4746/Projects/OAE-Efficiency-Map/codes/release-cesm2.1.5/cime/scripts/Tools/../../scripts/lib/CIME/case/case_submit.py\", line 156, in submit\n",
      "    run_and_log_case_status(functor, \"case.submit\", caseroot=caseroot,\n",
      "  File \"/global/cfs/cdirs/m4746/Projects/OAE-Efficiency-Map/codes/release-cesm2.1.5/cime/scripts/Tools/../../scripts/lib/CIME/utils.py\", line 1684, in run_and_log_case_status\n",
      "    rv = func()\n",
      "         ^^^^^^\n",
      "  File \"/global/cfs/cdirs/m4746/Projects/OAE-Efficiency-Map/codes/release-cesm2.1.5/cime/scripts/Tools/../../scripts/lib/CIME/case/case_submit.py\", line 151, in <lambda>\n",
      "    functor = lambda: _submit(self, job=job, no_batch=no_batch, prereq=prereq,\n",
      "                      ^^^^^^^^^^^^^^^^^^^^^^^^^^^^^^^^^^^^^^^^^^^^^^^^^^^^^^^^\n",
      "  File \"/global/cfs/cdirs/m4746/Projects/OAE-Efficiency-Map/codes/release-cesm2.1.5/cime/scripts/Tools/../../scripts/lib/CIME/case/case_submit.py\", line 85, in _submit\n",
      "    case.check_case()\n",
      "  File \"/global/cfs/cdirs/m4746/Projects/OAE-Efficiency-Map/codes/release-cesm2.1.5/cime/scripts/Tools/../../scripts/lib/CIME/case/case_submit.py\", line 171, in check_case\n",
      "    self.check_all_input_data()\n",
      "  File \"/global/cfs/cdirs/m4746/Projects/OAE-Efficiency-Map/codes/release-cesm2.1.5/cime/scripts/Tools/../../scripts/lib/CIME/case/check_input_data.py\", line 165, in check_all_input_data\n",
      "    success = _downloadfromserver(self, input_data_root, data_list_dir)\n",
      "              ^^^^^^^^^^^^^^^^^^^^^^^^^^^^^^^^^^^^^^^^^^^^^^^^^^^^^^^^^\n",
      "  File \"/global/cfs/cdirs/m4746/Projects/OAE-Efficiency-Map/codes/release-cesm2.1.5/cime/scripts/Tools/../../scripts/lib/CIME/case/check_input_data.py\", line 184, in _downloadfromserver\n",
      "    success = case.check_input_data(protocol=protocol, address=address, download=True,\n",
      "              ^^^^^^^^^^^^^^^^^^^^^^^^^^^^^^^^^^^^^^^^^^^^^^^^^^^^^^^^^^^^^^^^^^^^^^^^\n",
      "  File \"/global/cfs/cdirs/m4746/Projects/OAE-Efficiency-Map/codes/release-cesm2.1.5/cime/scripts/Tools/../../scripts/lib/CIME/case/check_input_data.py\", line 342, in check_input_data\n",
      "    no_files_missing = _download_if_in_repo(server,\n",
      "                       ^^^^^^^^^^^^^^^^^^^^^^^^^^^^\n",
      "  File \"/global/cfs/cdirs/m4746/Projects/OAE-Efficiency-Map/codes/release-cesm2.1.5/cime/scripts/Tools/../../scripts/lib/CIME/case/check_input_data.py\", line 141, in _download_if_in_repo\n",
      "    success = server.getfile(rel_path, full_path)\n",
      "              ^^^^^^^^^^^^^^^^^^^^^^^^^^^^^^^^^^^\n",
      "  File \"/global/cfs/cdirs/m4746/Projects/OAE-Efficiency-Map/codes/release-cesm2.1.5/cime/scripts/Tools/../../scripts/lib/CIME/Servers/wget.py\", line 51, in getfile\n",
      "    run_cmd(\"wget {} {} -nc --output-document {}\".format(self._args, full_url, full_path))\n",
      "  File \"/global/cfs/cdirs/m4746/Projects/OAE-Efficiency-Map/codes/release-cesm2.1.5/cime/scripts/Tools/../../scripts/lib/CIME/utils.py\", line 445, in run_cmd\n",
      "    output, errput = proc.communicate(input_str)\n",
      "                     ^^^^^^^^^^^^^^^^^^^^^^^^^^^\n",
      "  File \"/global/common/software/nersc/pe/conda-envs/24.1.0/python-3.11/nersc-python/lib/python3.11/subprocess.py\", line 1209, in communicate\n",
      "    stdout, stderr = self._communicate(input, endtime, timeout)\n",
      "                     ^^^^^^^^^^^^^^^^^^^^^^^^^^^^^^^^^^^^^^^^^^\n",
      "  File \"/global/common/software/nersc/pe/conda-envs/24.1.0/python-3.11/nersc-python/lib/python3.11/subprocess.py\", line 2108, in _communicate\n",
      "    ready = selector.select(timeout)\n",
      "            ^^^^^^^^^^^^^^^^^^^^^^^^\n",
      "  File \"/global/common/software/nersc/pe/conda-envs/24.1.0/python-3.11/nersc-python/lib/python3.11/selectors.py\", line 415, in select\n",
      "    fd_event_list = self._selector.poll(timeout)\n",
      "                    ^^^^^^^^^^^^^^^^^^^^^^^^^^^^\n",
      "KeyboardInterrupt\n"
     ]
    },
    {
     "ename": "KeyboardInterrupt",
     "evalue": "",
     "output_type": "error",
     "traceback": [
      "\u001b[0;31m---------------------------------------------------------------------------\u001b[0m",
      "\u001b[0;31mKeyboardInterrupt\u001b[0m                         Traceback (most recent call last)",
      "Cell \u001b[0;32mIn[15], line 1\u001b[0m\n\u001b[0;32m----> 1\u001b[0m \u001b[43mcheck_call\u001b[49m\u001b[43m(\u001b[49m\n\u001b[1;32m      2\u001b[0m \u001b[43m    \u001b[49m\u001b[38;5;124;43m\"\u001b[39;49m\u001b[38;5;124;43mmodule load python && ./case.submit\u001b[39;49m\u001b[38;5;124;43m\"\u001b[39;49m\u001b[43m,\u001b[49m\n\u001b[1;32m      3\u001b[0m \u001b[43m    \u001b[49m\u001b[43mcwd\u001b[49m\u001b[38;5;241;43m=\u001b[39;49m\u001b[43mcaseroot\u001b[49m\u001b[43m,\u001b[49m\n\u001b[1;32m      4\u001b[0m \u001b[43m    \u001b[49m\u001b[43mshell\u001b[49m\u001b[38;5;241;43m=\u001b[39;49m\u001b[38;5;28;43;01mTrue\u001b[39;49;00m\u001b[43m,\u001b[49m\n\u001b[1;32m      5\u001b[0m \u001b[43m)\u001b[49m\n",
      "File \u001b[0;32m~/.conda/envs/cworthy/lib/python3.12/subprocess.py:408\u001b[0m, in \u001b[0;36mcheck_call\u001b[0;34m(*popenargs, **kwargs)\u001b[0m\n\u001b[1;32m    398\u001b[0m \u001b[38;5;28;01mdef\u001b[39;00m \u001b[38;5;21mcheck_call\u001b[39m(\u001b[38;5;241m*\u001b[39mpopenargs, \u001b[38;5;241m*\u001b[39m\u001b[38;5;241m*\u001b[39mkwargs):\n\u001b[1;32m    399\u001b[0m \u001b[38;5;250m    \u001b[39m\u001b[38;5;124;03m\"\"\"Run command with arguments.  Wait for command to complete.  If\u001b[39;00m\n\u001b[1;32m    400\u001b[0m \u001b[38;5;124;03m    the exit code was zero then return, otherwise raise\u001b[39;00m\n\u001b[1;32m    401\u001b[0m \u001b[38;5;124;03m    CalledProcessError.  The CalledProcessError object will have the\u001b[39;00m\n\u001b[0;32m   (...)\u001b[0m\n\u001b[1;32m    406\u001b[0m \u001b[38;5;124;03m    check_call([\"ls\", \"-l\"])\u001b[39;00m\n\u001b[1;32m    407\u001b[0m \u001b[38;5;124;03m    \"\"\"\u001b[39;00m\n\u001b[0;32m--> 408\u001b[0m     retcode \u001b[38;5;241m=\u001b[39m \u001b[43mcall\u001b[49m\u001b[43m(\u001b[49m\u001b[38;5;241;43m*\u001b[39;49m\u001b[43mpopenargs\u001b[49m\u001b[43m,\u001b[49m\u001b[43m \u001b[49m\u001b[38;5;241;43m*\u001b[39;49m\u001b[38;5;241;43m*\u001b[39;49m\u001b[43mkwargs\u001b[49m\u001b[43m)\u001b[49m\n\u001b[1;32m    409\u001b[0m     \u001b[38;5;28;01mif\u001b[39;00m retcode:\n\u001b[1;32m    410\u001b[0m         cmd \u001b[38;5;241m=\u001b[39m kwargs\u001b[38;5;241m.\u001b[39mget(\u001b[38;5;124m\"\u001b[39m\u001b[38;5;124margs\u001b[39m\u001b[38;5;124m\"\u001b[39m)\n",
      "File \u001b[0;32m~/.conda/envs/cworthy/lib/python3.12/subprocess.py:391\u001b[0m, in \u001b[0;36mcall\u001b[0;34m(timeout, *popenargs, **kwargs)\u001b[0m\n\u001b[1;32m    389\u001b[0m \u001b[38;5;28;01mwith\u001b[39;00m Popen(\u001b[38;5;241m*\u001b[39mpopenargs, \u001b[38;5;241m*\u001b[39m\u001b[38;5;241m*\u001b[39mkwargs) \u001b[38;5;28;01mas\u001b[39;00m p:\n\u001b[1;32m    390\u001b[0m     \u001b[38;5;28;01mtry\u001b[39;00m:\n\u001b[0;32m--> 391\u001b[0m         \u001b[38;5;28;01mreturn\u001b[39;00m \u001b[43mp\u001b[49m\u001b[38;5;241;43m.\u001b[39;49m\u001b[43mwait\u001b[49m\u001b[43m(\u001b[49m\u001b[43mtimeout\u001b[49m\u001b[38;5;241;43m=\u001b[39;49m\u001b[43mtimeout\u001b[49m\u001b[43m)\u001b[49m\n\u001b[1;32m    392\u001b[0m     \u001b[38;5;28;01mexcept\u001b[39;00m:  \u001b[38;5;66;03m# Including KeyboardInterrupt, wait handled that.\u001b[39;00m\n\u001b[1;32m    393\u001b[0m         p\u001b[38;5;241m.\u001b[39mkill()\n",
      "File \u001b[0;32m~/.conda/envs/cworthy/lib/python3.12/subprocess.py:1264\u001b[0m, in \u001b[0;36mPopen.wait\u001b[0;34m(self, timeout)\u001b[0m\n\u001b[1;32m   1262\u001b[0m     endtime \u001b[38;5;241m=\u001b[39m _time() \u001b[38;5;241m+\u001b[39m timeout\n\u001b[1;32m   1263\u001b[0m \u001b[38;5;28;01mtry\u001b[39;00m:\n\u001b[0;32m-> 1264\u001b[0m     \u001b[38;5;28;01mreturn\u001b[39;00m \u001b[38;5;28;43mself\u001b[39;49m\u001b[38;5;241;43m.\u001b[39;49m\u001b[43m_wait\u001b[49m\u001b[43m(\u001b[49m\u001b[43mtimeout\u001b[49m\u001b[38;5;241;43m=\u001b[39;49m\u001b[43mtimeout\u001b[49m\u001b[43m)\u001b[49m\n\u001b[1;32m   1265\u001b[0m \u001b[38;5;28;01mexcept\u001b[39;00m \u001b[38;5;167;01mKeyboardInterrupt\u001b[39;00m:\n\u001b[1;32m   1266\u001b[0m     \u001b[38;5;66;03m# https://bugs.python.org/issue25942\u001b[39;00m\n\u001b[1;32m   1267\u001b[0m     \u001b[38;5;66;03m# The first keyboard interrupt waits briefly for the child to\u001b[39;00m\n\u001b[1;32m   1268\u001b[0m     \u001b[38;5;66;03m# exit under the common assumption that it also received the ^C\u001b[39;00m\n\u001b[1;32m   1269\u001b[0m     \u001b[38;5;66;03m# generated SIGINT and will exit rapidly.\u001b[39;00m\n\u001b[1;32m   1270\u001b[0m     \u001b[38;5;28;01mif\u001b[39;00m timeout \u001b[38;5;129;01mis\u001b[39;00m \u001b[38;5;129;01mnot\u001b[39;00m \u001b[38;5;28;01mNone\u001b[39;00m:\n",
      "File \u001b[0;32m~/.conda/envs/cworthy/lib/python3.12/subprocess.py:2053\u001b[0m, in \u001b[0;36mPopen._wait\u001b[0;34m(self, timeout)\u001b[0m\n\u001b[1;32m   2051\u001b[0m \u001b[38;5;28;01mif\u001b[39;00m \u001b[38;5;28mself\u001b[39m\u001b[38;5;241m.\u001b[39mreturncode \u001b[38;5;129;01mis\u001b[39;00m \u001b[38;5;129;01mnot\u001b[39;00m \u001b[38;5;28;01mNone\u001b[39;00m:\n\u001b[1;32m   2052\u001b[0m     \u001b[38;5;28;01mbreak\u001b[39;00m  \u001b[38;5;66;03m# Another thread waited.\u001b[39;00m\n\u001b[0;32m-> 2053\u001b[0m (pid, sts) \u001b[38;5;241m=\u001b[39m \u001b[38;5;28;43mself\u001b[39;49m\u001b[38;5;241;43m.\u001b[39;49m\u001b[43m_try_wait\u001b[49m\u001b[43m(\u001b[49m\u001b[38;5;241;43m0\u001b[39;49m\u001b[43m)\u001b[49m\n\u001b[1;32m   2054\u001b[0m \u001b[38;5;66;03m# Check the pid and loop as waitpid has been known to\u001b[39;00m\n\u001b[1;32m   2055\u001b[0m \u001b[38;5;66;03m# return 0 even without WNOHANG in odd situations.\u001b[39;00m\n\u001b[1;32m   2056\u001b[0m \u001b[38;5;66;03m# http://bugs.python.org/issue14396.\u001b[39;00m\n\u001b[1;32m   2057\u001b[0m \u001b[38;5;28;01mif\u001b[39;00m pid \u001b[38;5;241m==\u001b[39m \u001b[38;5;28mself\u001b[39m\u001b[38;5;241m.\u001b[39mpid:\n",
      "File \u001b[0;32m~/.conda/envs/cworthy/lib/python3.12/subprocess.py:2011\u001b[0m, in \u001b[0;36mPopen._try_wait\u001b[0;34m(self, wait_flags)\u001b[0m\n\u001b[1;32m   2009\u001b[0m \u001b[38;5;250m\u001b[39m\u001b[38;5;124;03m\"\"\"All callers to this function MUST hold self._waitpid_lock.\"\"\"\u001b[39;00m\n\u001b[1;32m   2010\u001b[0m \u001b[38;5;28;01mtry\u001b[39;00m:\n\u001b[0;32m-> 2011\u001b[0m     (pid, sts) \u001b[38;5;241m=\u001b[39m \u001b[43mos\u001b[49m\u001b[38;5;241;43m.\u001b[39;49m\u001b[43mwaitpid\u001b[49m\u001b[43m(\u001b[49m\u001b[38;5;28;43mself\u001b[39;49m\u001b[38;5;241;43m.\u001b[39;49m\u001b[43mpid\u001b[49m\u001b[43m,\u001b[49m\u001b[43m \u001b[49m\u001b[43mwait_flags\u001b[49m\u001b[43m)\u001b[49m\n\u001b[1;32m   2012\u001b[0m \u001b[38;5;28;01mexcept\u001b[39;00m \u001b[38;5;167;01mChildProcessError\u001b[39;00m:\n\u001b[1;32m   2013\u001b[0m     \u001b[38;5;66;03m# This happens if SIGCLD is set to be ignored or waiting\u001b[39;00m\n\u001b[1;32m   2014\u001b[0m     \u001b[38;5;66;03m# for child processes has otherwise been disabled for our\u001b[39;00m\n\u001b[1;32m   2015\u001b[0m     \u001b[38;5;66;03m# process.  This child is dead, we can't get the status.\u001b[39;00m\n\u001b[1;32m   2016\u001b[0m     pid \u001b[38;5;241m=\u001b[39m \u001b[38;5;28mself\u001b[39m\u001b[38;5;241m.\u001b[39mpid\n",
      "\u001b[0;31mKeyboardInterrupt\u001b[0m: "
     ]
    }
   ],
   "source": [
    "check_call(\n",
    "    \"module load python && ./case.submit\",\n",
    "    cwd=caseroot,\n",
    "    shell=True,\n",
    ")"
   ]
  },
  {
   "cell_type": "code",
   "execution_count": null,
   "id": "c0272fa3-0fbe-4854-896b-32781ae7de67",
   "metadata": {},
   "outputs": [],
   "source": []
  }
 ],
 "metadata": {
  "kernelspec": {
   "display_name": "cworthy",
   "language": "python",
   "name": "env"
  },
  "language_info": {
   "codemirror_mode": {
    "name": "ipython",
    "version": 3
   },
   "file_extension": ".py",
   "mimetype": "text/x-python",
   "name": "python",
   "nbconvert_exporter": "python",
   "pygments_lexer": "ipython3",
   "version": "3.12.5"
  },
  "toc-showtags": false
 },
 "nbformat": 4,
 "nbformat_minor": 5
}
