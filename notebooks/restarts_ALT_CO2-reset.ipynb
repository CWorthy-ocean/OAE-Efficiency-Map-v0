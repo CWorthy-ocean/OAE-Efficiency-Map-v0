{
 "cells": [
  {
   "cell_type": "markdown",
   "id": "6fdd3df4-7cdf-4b8c-84ca-6283898dfc22",
   "metadata": {},
   "source": [
    "# Prestage restarts"
   ]
  },
  {
   "cell_type": "code",
   "execution_count": 51,
   "id": "a8e864e5-d551-4226-b80c-7f6111ea9deb",
   "metadata": {},
   "outputs": [],
   "source": [
    "import os\n",
    "from glob import glob\n",
    "import socket\n",
    "from subprocess import check_call\n",
    "\n",
    "import oae_smyle\n",
    "import config\n",
    "\n",
    "assert os.path.isdir('/glade/campaign')"
   ]
  },
  {
   "cell_type": "markdown",
   "id": "18117b6b-cce3-4cdc-8c36-4dc5eff7eee6",
   "metadata": {},
   "source": [
    "## Set paths"
   ]
  },
  {
   "cell_type": "code",
   "execution_count": 52,
   "id": "ff66cd23-df38-40c3-ad17-fae02bfa6f99",
   "metadata": {},
   "outputs": [],
   "source": [
    "rest_orig = '/glade/campaign/cesm/development/espwg/SMYLE/initial_conditions/SMYLE-FOSI/rest'\n",
    "refcaserest_root = oae_smyle.refcaserest_root\n",
    "rest_root_alt_co2 = f'{config.dir_scratch}/SMYLE-FOSI/rest-reset-alt-co2'\n",
    "\n",
    "os.makedirs(rest_root_alt_co2, exist_ok=True)"
   ]
  },
  {
   "cell_type": "code",
   "execution_count": 53,
   "id": "48b661b4-9966-4145-93a6-f3f448345525",
   "metadata": {},
   "outputs": [],
   "source": [
    "refdates = [\n",
    "    '0347-01-01', \n",
    "    '0347-04-01', \n",
    "    '0347-07-01', \n",
    "    '0347-10-01', \n",
    "]"
   ]
  },
  {
   "cell_type": "markdown",
   "id": "172c2f4d-a8eb-43fc-9df4-ba0572a2e821",
   "metadata": {},
   "source": [
    "## Copy original restarts"
   ]
  },
  {
   "cell_type": "code",
   "execution_count": 54,
   "id": "7bb17457-cef7-411f-a15b-6b6e132c7810",
   "metadata": {},
   "outputs": [
    {
     "name": "stdout",
     "output_type": "stream",
     "text": [
      "exists: /glade/work/mclong/SMYLE-FOSI/rest/0347-01-01-00000\n",
      "‘/glade/campaign/cesm/development/espwg/SMYLE/initial_conditions/SMYLE-FOSI/rest/0347-04-01-00000/g.e22.GOMIPECOIAF_JRA-1p4-2018.TL319_g17.SMYLE.005.cice.r.0347-04-01-00000.nc’ -> ‘/glade/work/mclong/SMYLE-FOSI/rest/0347-04-01-00000/./g.e22.GOMIPECOIAF_JRA-1p4-2018.TL319_g17.SMYLE.005.cice.r.0347-04-01-00000.nc’\n",
      "‘/glade/campaign/cesm/development/espwg/SMYLE/initial_conditions/SMYLE-FOSI/rest/0347-04-01-00000/g.e22.GOMIPECOIAF_JRA-1p4-2018.TL319_g17.SMYLE.005.cpl.r.0347-04-01-00000.nc’ -> ‘/glade/work/mclong/SMYLE-FOSI/rest/0347-04-01-00000/./g.e22.GOMIPECOIAF_JRA-1p4-2018.TL319_g17.SMYLE.005.cpl.r.0347-04-01-00000.nc’\n",
      "‘/glade/campaign/cesm/development/espwg/SMYLE/initial_conditions/SMYLE-FOSI/rest/0347-04-01-00000/g.e22.GOMIPECOIAF_JRA-1p4-2018.TL319_g17.SMYLE.005.datm.rs1.0347-04-01-00000.bin’ -> ‘/glade/work/mclong/SMYLE-FOSI/rest/0347-04-01-00000/./g.e22.GOMIPECOIAF_JRA-1p4-2018.TL319_g17.SMYLE.005.datm.rs1.0347-04-01-00000.bin’\n",
      "‘/glade/campaign/cesm/development/espwg/SMYLE/initial_conditions/SMYLE-FOSI/rest/0347-04-01-00000/g.e22.GOMIPECOIAF_JRA-1p4-2018.TL319_g17.SMYLE.005.drof.rs1.0347-04-01-00000.bin’ -> ‘/glade/work/mclong/SMYLE-FOSI/rest/0347-04-01-00000/./g.e22.GOMIPECOIAF_JRA-1p4-2018.TL319_g17.SMYLE.005.drof.rs1.0347-04-01-00000.bin’\n",
      "‘/glade/campaign/cesm/development/espwg/SMYLE/initial_conditions/SMYLE-FOSI/rest/0347-04-01-00000/g.e22.GOMIPECOIAF_JRA-1p4-2018.TL319_g17.SMYLE.005.pop.r.0347-04-01-00000.nc’ -> ‘/glade/work/mclong/SMYLE-FOSI/rest/0347-04-01-00000/./g.e22.GOMIPECOIAF_JRA-1p4-2018.TL319_g17.SMYLE.005.pop.r.0347-04-01-00000.nc’\n",
      "‘/glade/campaign/cesm/development/espwg/SMYLE/initial_conditions/SMYLE-FOSI/rest/0347-04-01-00000/g.e22.GOMIPECOIAF_JRA-1p4-2018.TL319_g17.SMYLE.005.pop.rh.ecosys.nyear1.0347-04-01-00000.nc’ -> ‘/glade/work/mclong/SMYLE-FOSI/rest/0347-04-01-00000/./g.e22.GOMIPECOIAF_JRA-1p4-2018.TL319_g17.SMYLE.005.pop.rh.ecosys.nyear1.0347-04-01-00000.nc’\n",
      "‘/glade/campaign/cesm/development/espwg/SMYLE/initial_conditions/SMYLE-FOSI/rest/0347-04-01-00000/g.e22.GOMIPECOIAF_JRA-1p4-2018.TL319_g17.SMYLE.005.pop.ro.0347-04-01-00000’ -> ‘/glade/work/mclong/SMYLE-FOSI/rest/0347-04-01-00000/./g.e22.GOMIPECOIAF_JRA-1p4-2018.TL319_g17.SMYLE.005.pop.ro.0347-04-01-00000’\n",
      "‘/glade/campaign/cesm/development/espwg/SMYLE/initial_conditions/SMYLE-FOSI/rest/0347-04-01-00000/g.e22.GOMIPECOIAF_JRA-1p4-2018.TL319_g17.SMYLE.005.ww3.r.0347-04-01-00000’ -> ‘/glade/work/mclong/SMYLE-FOSI/rest/0347-04-01-00000/./g.e22.GOMIPECOIAF_JRA-1p4-2018.TL319_g17.SMYLE.005.ww3.r.0347-04-01-00000’\n",
      "‘/glade/campaign/cesm/development/espwg/SMYLE/initial_conditions/SMYLE-FOSI/rest/0347-04-01-00000/rpointer.atm’ -> ‘/glade/work/mclong/SMYLE-FOSI/rest/0347-04-01-00000/./rpointer.atm’\n",
      "‘/glade/campaign/cesm/development/espwg/SMYLE/initial_conditions/SMYLE-FOSI/rest/0347-04-01-00000/rpointer.drv’ -> ‘/glade/work/mclong/SMYLE-FOSI/rest/0347-04-01-00000/./rpointer.drv’\n",
      "‘/glade/campaign/cesm/development/espwg/SMYLE/initial_conditions/SMYLE-FOSI/rest/0347-04-01-00000/rpointer.ice’ -> ‘/glade/work/mclong/SMYLE-FOSI/rest/0347-04-01-00000/./rpointer.ice’\n",
      "‘/glade/campaign/cesm/development/espwg/SMYLE/initial_conditions/SMYLE-FOSI/rest/0347-04-01-00000/rpointer.ocn.ovf’ -> ‘/glade/work/mclong/SMYLE-FOSI/rest/0347-04-01-00000/./rpointer.ocn.ovf’\n",
      "‘/glade/campaign/cesm/development/espwg/SMYLE/initial_conditions/SMYLE-FOSI/rest/0347-04-01-00000/rpointer.ocn.restart’ -> ‘/glade/work/mclong/SMYLE-FOSI/rest/0347-04-01-00000/./rpointer.ocn.restart’\n",
      "‘/glade/campaign/cesm/development/espwg/SMYLE/initial_conditions/SMYLE-FOSI/rest/0347-04-01-00000/rpointer.ocn.tavg’ -> ‘/glade/work/mclong/SMYLE-FOSI/rest/0347-04-01-00000/./rpointer.ocn.tavg’\n",
      "‘/glade/campaign/cesm/development/espwg/SMYLE/initial_conditions/SMYLE-FOSI/rest/0347-04-01-00000/rpointer.rof’ -> ‘/glade/work/mclong/SMYLE-FOSI/rest/0347-04-01-00000/./rpointer.rof’\n",
      "‘/glade/campaign/cesm/development/espwg/SMYLE/initial_conditions/SMYLE-FOSI/rest/0347-07-01-00000/g.e22.GOMIPECOIAF_JRA-1p4-2018.TL319_g17.SMYLE.005.cice.r.0347-07-01-00000.nc’ -> ‘/glade/work/mclong/SMYLE-FOSI/rest/0347-07-01-00000/./g.e22.GOMIPECOIAF_JRA-1p4-2018.TL319_g17.SMYLE.005.cice.r.0347-07-01-00000.nc’\n",
      "‘/glade/campaign/cesm/development/espwg/SMYLE/initial_conditions/SMYLE-FOSI/rest/0347-07-01-00000/g.e22.GOMIPECOIAF_JRA-1p4-2018.TL319_g17.SMYLE.005.cpl.r.0347-07-01-00000.nc’ -> ‘/glade/work/mclong/SMYLE-FOSI/rest/0347-07-01-00000/./g.e22.GOMIPECOIAF_JRA-1p4-2018.TL319_g17.SMYLE.005.cpl.r.0347-07-01-00000.nc’\n",
      "‘/glade/campaign/cesm/development/espwg/SMYLE/initial_conditions/SMYLE-FOSI/rest/0347-07-01-00000/g.e22.GOMIPECOIAF_JRA-1p4-2018.TL319_g17.SMYLE.005.datm.rs1.0347-07-01-00000.bin’ -> ‘/glade/work/mclong/SMYLE-FOSI/rest/0347-07-01-00000/./g.e22.GOMIPECOIAF_JRA-1p4-2018.TL319_g17.SMYLE.005.datm.rs1.0347-07-01-00000.bin’\n",
      "‘/glade/campaign/cesm/develoexists: /glade/work/mclong/SMYLE-FOSI/rest/0347-10-01-00000\n",
      "pment/espwg/SMYLE/initial_conditions/SMYLE-FOSI/rest/0347-07-01-00000/g.e22.GOMIPECOIAF_JRA-1p4-2018.TL319_g17.SMYLE.005.drof.rs1.0347-07-01-00000.bin’ -> ‘/glade/work/mclong/SMYLE-FOSI/rest/0347-07-01-00000/./g.e22.GOMIPECOIAF_JRA-1p4-2018.TL319_g17.SMYLE.005.drof.rs1.0347-07-01-00000.bin’\n",
      "‘/glade/campaign/cesm/development/espwg/SMYLE/initial_conditions/SMYLE-FOSI/rest/0347-07-01-00000/g.e22.GOMIPECOIAF_JRA-1p4-2018.TL319_g17.SMYLE.005.pop.r.0347-07-01-00000.nc’ -> ‘/glade/work/mclong/SMYLE-FOSI/rest/0347-07-01-00000/./g.e22.GOMIPECOIAF_JRA-1p4-2018.TL319_g17.SMYLE.005.pop.r.0347-07-01-00000.nc’\n",
      "‘/glade/campaign/cesm/development/espwg/SMYLE/initial_conditions/SMYLE-FOSI/rest/0347-07-01-00000/g.e22.GOMIPECOIAF_JRA-1p4-2018.TL319_g17.SMYLE.005.pop.rh.ecosys.nyear1.0347-07-01-00000.nc’ -> ‘/glade/work/mclong/SMYLE-FOSI/rest/0347-07-01-00000/./g.e22.GOMIPECOIAF_JRA-1p4-2018.TL319_g17.SMYLE.005.pop.rh.ecosys.nyear1.0347-07-01-00000.nc’\n",
      "‘/glade/campaign/cesm/development/espwg/SMYLE/initial_conditions/SMYLE-FOSI/rest/0347-07-01-00000/g.e22.GOMIPECOIAF_JRA-1p4-2018.TL319_g17.SMYLE.005.pop.ro.0347-07-01-00000’ -> ‘/glade/work/mclong/SMYLE-FOSI/rest/0347-07-01-00000/./g.e22.GOMIPECOIAF_JRA-1p4-2018.TL319_g17.SMYLE.005.pop.ro.0347-07-01-00000’\n",
      "‘/glade/campaign/cesm/development/espwg/SMYLE/initial_conditions/SMYLE-FOSI/rest/0347-07-01-00000/g.e22.GOMIPECOIAF_JRA-1p4-2018.TL319_g17.SMYLE.005.ww3.r.0347-07-01-00000’ -> ‘/glade/work/mclong/SMYLE-FOSI/rest/0347-07-01-00000/./g.e22.GOMIPECOIAF_JRA-1p4-2018.TL319_g17.SMYLE.005.ww3.r.0347-07-01-00000’\n",
      "‘/glade/campaign/cesm/development/espwg/SMYLE/initial_conditions/SMYLE-FOSI/rest/0347-07-01-00000/rpointer.atm’ -> ‘/glade/work/mclong/SMYLE-FOSI/rest/0347-07-01-00000/./rpointer.atm’\n",
      "‘/glade/campaign/cesm/development/espwg/SMYLE/initial_conditions/SMYLE-FOSI/rest/0347-07-01-00000/rpointer.drv’ -> ‘/glade/work/mclong/SMYLE-FOSI/rest/0347-07-01-00000/./rpointer.drv’\n",
      "‘/glade/campaign"
     ]
    }
   ],
   "source": [
    "for refdate in refdates:\n",
    "    \n",
    "    from_dir = f'{rest_orig}/{refdate}-00000'\n",
    "    to_dir = f'{refcaserest_root}/{refdate}-00000'\n",
    "    \n",
    "    if os.path.isdir(to_dir):\n",
    "        print(f'exists: {to_dir}')\n",
    "        continue\n",
    "        \n",
    "    os.makedirs(to_dir, exist_ok=True)\n",
    "    check_call(\n",
    "        f\"cp -fv {from_dir}/* {to_dir}/.\",\n",
    "        shell=True,\n",
    "    )"
   ]
  },
  {
   "cell_type": "markdown",
   "id": "c275e1b6-ecc7-4304-928a-4746c451fcb0",
   "metadata": {},
   "source": [
    "## Copy to reset location"
   ]
  },
  {
   "cell_type": "code",
   "execution_count": 55,
   "id": "eb4a99d4-6eb4-44f0-b0cd-d9bf01ef2f76",
   "metadata": {},
   "outputs": [
    {
     "name": "stdout",
     "output_type": "stream",
     "text": [
      "/cesm/development/espwg/SMYLE/initial_conditions/SMYLE-FOSI/rest/0347-07-01-00000/rpointer.ice’ -> ‘/glade/work/mclong/SMYLE-FOSI/rest/0347-07-01-00000/./rpointer.ice’\n",
      "‘/glade/campaign/cesm/development/espwg/SMYLE/initial_conditions/SMYLE-FOSI/rest/0347-07-01-00000/rpointer.ocn.ovf’ -> ‘/glade/work/mclong/SMYLE-FOSI/rest/0347-07-01-00000/./rpointer.ocn.ovf’\n",
      "‘/glade/campaign/cesm/development/espwg/SMYLE/initial_conditions/SMYLE-FOSI/rest/0347-07-01-00000/rpointer.ocn.restart’ -> ‘/glade/work/mclong/SMYLE-FOSI/rest/0347-07-01-00000/./rpointer.ocn.restart’\n",
      "‘/glade/campaign/cesm/development/espwg/SMYLE/initial_conditions/SMYLE-FOSI/rest/0347-07-01-00000/rpointer.ocn.tavg’ -> ‘/glade/work/mclong/SMYLE-FOSI/rest/0347-07-01-00000/./rpointer.ocn.tavg’\n",
      "‘/glade/campaign/cesm/development/espwg/SMYLE/initial_conditions/SMYLE-FOSI/rest/0347-07-01-00000/rpointer.rof’ -> ‘/glade/work/mclong/SMYLE-FOSI/rest/0347-07-01-00000/./rpointer.rof’\n",
      "‘/glade/work/mclong/SMYLE-FOSI/rest/0347-01-01-00000/g.e22.GOMIPECOIAF_JRA-1p4-2018.TL319_g17.SMYLE.005.cice.r.0347-01-01-00000.nc’ -> ‘/glade/scratch/mclong/SMYLE-FOSI/rest-reset-alt-co2/0347-01-01-00000/./g.e22.GOMIPECOIAF_JRA-1p4-2018.TL319_g17.SMYLE.005.cice.r.0347-01-01-00000.nc’\n",
      "‘/glade/work/mclong/SMYLE-FOSI/rest/0347-01-01-00000/g.e22.GOMIPECOIAF_JRA-1p4-2018.TL319_g17.SMYLE.005.cpl.r.0347-01-01-00000.nc’ -> ‘/glade/scratch/mclong/SMYLE-FOSI/rest-reset-alt-co2/0347-01-01-00000/./g.e22.GOMIPECOIAF_JRA-1p4-2018.TL319_g17.SMYLE.005.cpl.r.0347-01-01-00000.nc’\n",
      "‘/glade/work/mclong/SMYLE-FOSI/rest/0347-01-01-00000/g.e22.GOMIPECOIAF_JRA-1p4-2018.TL319_g17.SMYLE.005.datm.rs1.0347-01-01-00000.bin’ -> ‘/glade/scratch/mclong/SMYLE-FOSI/rest-reset-alt-co2/0347-01-01-00000/./g.e22.GOMIPECOIAF_JRA-1p4-2018.TL319_g17.SMYLE.005.datm.rs1.0347-01-01-00000.bin’\n",
      "‘/glade/work/mclong/SMYLE-FOSI/rest/0347-01-01-00000/g.e22.GOMIPECOIAF_JRA-1p4-2018.TL319_g17.SMYLE.005.drof.rs1.0347-01-01-00000.bin’ -> ‘/glade/scratch/mclong/SMYLE-FOSI/rest-reset-alt-co2/0347-01-01-00000/./g.e22.GOMIPECOIAF_JRA-1p4-2018.TL319_g17.SMYLE.005.drof.rs1.0347-01-01-00000.bin’\n",
      "‘/glade/work/mclong/SMYLE-FOSI/rest/0347-01-01-00000/g.e22.GOMIPECOIAF_JRA-1p4-2018.TL319_g17.SMYLE.005.pop.r.0347-01-01-00000.nc’ -> ‘/glade/scratch/mclong/SMYLE-FOSI/rest-reset-alt-co2/0347-01-01-00000/./g.e22.GOMIPECOIAF_JRA-1p4-2018.TL319_g17.SMYLE.005.pop.r.0347-01-01-00000.nc’\n",
      "‘/glade/work/mclong/SMYLE-FOSI/rest/0347-01-01-00000/g.e22.GOMIPECOIAF_JRA-1p4-2018.TL319_g17.SMYLE.005.pop.ro.0347-01-01-00000’ -> ‘/glade/scratch/mclong/SMYLE-FOSI/rest-reset-alt-co2/0347-01-01-00000/./g.e22.GOMIPECOIAF_JRA-1p4-2018.TL319_g17.SMYLE.005.pop.ro.0347-01-01-00000’\n",
      "‘/glade/work/mclong/SMYLE-FOSI/rest/0347-01-01-00000/g.e22.GOMIPECOIAF_JRA-1p4-2018.TL319_g17.SMYLE.005.ww3.r.0347-01-01-00000’ -> ‘/glade/scratch/mclong/SMYLE-FOSI/rest-reset-alt-co2/0347-01-01-00000/./g.e22.GOMIPECOIAF_JRA-1p4-2018.TL319_g17.SMYLE.005.ww3.r.0347-01-01-00000’\n",
      "‘/glade/work/mclong/SMYLE-FOSI/rest/0347-01-01-00000/rpointer.atm’ -> ‘/glade/scratch/mclong/SMYLE-FOSI/rest-reset-alt-co2/0347-01-01-00000/./rpointer.atm’\n",
      "‘/glade/work/mclong/SMYLE-FOSI/rest/0347-01-01-00000/rpointer.drv’ -> ‘/glade/scratch/mclong/SMYLE-FOSI/rest-reset-alt-co2/0347-01-01-00000/./rpointer.drv’\n",
      "‘/glade/work/mclong/SMYLE-FOSI/rest/0347-01-01-00000/rpointer.ice’ -> ‘/glade/scratch/mclong/SMYLE-FOSI/rest-reset-alt-co2/0347-01-01-00000/./rpointer.ice’\n",
      "‘/glade/work/mclong/SMYLE-FOSI/rest/0347-01-01-00000/rpointer.ocn.ovf’ -> ‘/glade/scratch/mclong/SMYLE-FOSI/rest-reset-alt-co2/0347-01-01-00000/./rpointer.ocn.ovf’\n",
      "‘/glade/work/mclong/SMYLE-FOSI/rest/0347-01-01-00000/rpointer.ocn.restart’ -> ‘/glade/scratch/mclong/SMYLE-FOSI/rest-reset-alt-co2/0347-01-01-00000/./rpointer.ocn.restart’\n",
      "‘/glade/work/mclong/SMYLE-FOSI/rest/0347-01-01-00000/rpointer.ocn.tavg’ -> ‘/glade/scratch/mclong/SMYLE-FOSI/rest-reset-alt-co2/0347-01-01-00000/./rpointer.ocn.tavg’\n",
      "‘/glade/work/mclong/SMYLE-FOSI/rest/0347-01-01-00000/rpointer.rof’ -> ‘/glade/scratch/mclong/SMYLE-FOSI/rest-reset-alt-co2/0347-01-01-00000/./rpointer.rof’\n",
      "‘/glade/work/mclong/SMYLE-FOSI/rest/0347-04-01-00000/g.e22.GOMIPECOIAF_JRA-1p4-2018.TL319_g17.SMYLE.005.cice.r.0347-04-01-00000.nc’ -> ‘/glade/scratch/mclong/SMYLE-FOSI/rest-reset-alt-co2/0347-04-01-00000/./g.e22.GOMIPECOIAF_JRA-1p4-2018.TL319_g17.SMYLE.005.cice.r.0347-04-01-00000.nc’\n",
      "‘/glade/work/mclong/SMYLE-FOSI/rest/0347-04-01-00000/g.e22.GOMIPECOIAF_JRA-1p4-2018.TL319_g17.SMYLE.005.cpl.r.0347-04-01-00000.nc’ -> ‘/glade/scratch/mclong/SMYLE-FOSI/rest-reset-alt-co2/0347-04-01-00000/./g.e22.GOMIPECOIAF_JRA-1p4-2018.TL319_g17.SMYLE.005.cpl.r.0347-04-01-00000.nc’\n",
      "‘/glade/work/mclong/SMYLE-FOSI/rest/0347-04-01-00000/g.e22.GOMIPECOIAF_JRA-1p4-2018.TL319_g17.SMYLE.005.datm.rs1.0347-04-01-00000.bin’ -> ‘/glade/scratch/mclong/SMYLE-FOSI/rest-reset-alt-co2/0347-04-01-00000/./g.e22.GOMIPECOIAF_JRA-1p4-2018.TL319_g17.SMYLE.005.datm.rs1.0347-04-01-00000.bin’\n",
      "‘/glade/work/mclong/SMYLE-FOSI/rest/0347-04-01-00000/g.e22.GOMIPECOIAF_JRA-1p4-2018.TL319_g17.SMYLE.005.drof.rs1.0347-04-01-00000.bin’ -> ‘/glade/scratch/mclong/SMYLE-FOSI/rest-reset-alt-co2/0347-04-01-00000/./g.e22.GOMIPECOIAF_JRA-1p4-2018.TL319_g17.SMYLE.005.drof.rs1.0347-04-01-00000.bin’\n",
      "‘/glade/work/mclong/SMYLE-FOSI/rest/0347-04-01-00000/g.e22.GOMIPECOIAF_JRA-1p4-2018.TL319_g17.SMYLE.005.pop.r.0347-04-01-00000.nc’ -> ‘/glade/scratch/mclong/SMYLE-FOSI/rest-reset-alt-co2/0347-04-01-00000/./g.e22.GOMIPECOIAF_JRA-1p4-2018.TL319_g17.SMYLE.005.pop.r.0347-04-01-00000.nc’\n",
      "‘/glade/work/mclong/SMYLE-FOSI/rest/0347-04-01-00000/g.e22.GOMIPECOIAF_JRA-1p4-2018.TL319_g17.SMYLE.005.pop.rh.ecosys.nyear1.0347-04-01-00000.nc’ -> ‘/glade/scratch/mclong/SMYLE-FOSI/rest-reset-alt-co2/0347-04-01-00000/./g.e22.GOMIPECOIAF_JRA-1p4-2018.TL319_g17.SMYLE.005.pop.rh.ecosys.nyear1.0347-04-01-00000.nc’\n",
      "‘/glade/work/mclong/SMYLE-FOSI/rest/0347-04-01-00000/g.e22.GOMIPECOIAF_JRA-1p4-2018.TL319_g17.SMYLE.005.pop.ro.0347-04-01-00000’ -> ‘/glade/scratch/mclong/SMYLE-FOSI/rest-reset-alt-co2/0347-04-01-00000/./g.e22.GOMIPECOIAF_JRA-1p4-2018.TL319_g17.SMYLE.005.pop.ro.0347-04-01-00000’\n",
      "‘/glade/work/mclong/SMYLE-FOSI/rest/0347-04-01-00000/g.e22.GOMIPECOIAF_JRA-1p4-2018.TL319_g17.SMYLE.005.ww3.r.0347-04-01-00000’ -> ‘/glade/scratch/mclong/SMYLE-FOSI/rest-reset-alt-co2/0347-04-01-00000/./g.e22.GOMIPECOIAF_JRA-1p4-2018.TL319_g17.SMYLE.005.ww3.r.0347-04-01-00000’\n",
      "‘/glade/work/mclong/SMYLE-FOSI/rest/0347-04-01-00000/rpointer.atm’ -> ‘/glade/scratch/mclong/SMYLE-FOSI/rest-reset-alt-co2/0347-04-01-00000/./rpointer.atm’\n",
      "‘/glade/work/mclong/SMYLE-FOSI/rest/0347-04-01-00000/rpointer.drv’ -> ‘/glade/scratch/mclong/SMYLE-FOSI/rest-reset-alt-co2/0347-04-01-00000/./rpointer.drv’\n",
      "‘/glade/work/mclong/SMYLE-FOSI/rest/0347-04-01-00000/rpointer.ice’ -> ‘/glade/scratch/mclong/SMYLE-FOSI/rest-reset-alt-co2/0347-04-01-00000/./rpointer.ice’\n",
      "‘/glade/work/mclong/SMYLE-FOSI/rest/0347-04-01-00000/rpointer.ocn.ovf’ -> ‘/glade/scratch/mclong/SMYLE-FOSI/rest-reset-alt-co2/0347-04-01-00000/./rpointer.ocn.ovf’\n",
      "‘/glade/work/mclong/SMYLE-FOSI/rest/0347-04-01-00000/rpointer.ocn.restart’ -> ‘/glade/scratch/mclong/SMYLE-FOSI/rest-reset-alt-co2/0347-04-01-00000/./rpointer.ocn.restart’\n",
      "‘/glade/work/mclong/SMYLE-FOSI/rest/0347-04-01-00000/rpointer.ocn.tavg’ -> ‘/glade/scratch/mclong/SMYLE-FOSI/rest-reset-alt-co2/0347-04-01-00000/./rpointer.ocn.tavg’\n",
      "‘/glade/work/mclong/SMYLE-FOSI/rest/0347-04-01-00000/rpointer.rof’ -> ‘/glade/scratch/mclong/SMYLE-FOSI/rest-reset-alt-co2/0347-04-01-00000/./rpointer.rof’\n",
      "‘/glade/work/mclong/SMYLE-FOSI/rest/0347-07-01-00000/g.e22.GOMIPECOIAF_JRA-1p4-2018.TL319_g17.SMYLE.005.cice.r.0347-07-01-00000.nc’ -> ‘/glade/scratch/mclong/SMYLE-FOSI/rest-reset-alt-co2/0347-07-01-00000/./g.e22.GOMIPECOIAF_JRA-1p4-2018.TL319_g17.SMYLE.005.cice.r.0347-07-01-00000.nc’\n",
      "‘/glade/work/mclong/SMYLE-FOSI/rest/0347-07-01-00000/g.e22.GOMIPECOIAF_JRA-1p4-2018.TL319_g17.SMYLE.005.cpl.r.0347-07-01-00000.nc’ -> ‘/glade/scratch/mclong/SMYLE-FOSI/rest-reset-alt-co2/0347-07-01-00000/./g.e22.GOMIPECOIAF_JRA-1p4-2018.TL319_g17.SMYLE.005.cpl.r.0347-07-01-00000.nc’\n",
      "‘/glade/work/mclong/SMYLE-FOSI/rest/0347-07-01-00000/g.e22.GOMIPECOIAF_JRA-1p4-2018.TL319_g17.SMYLE.005.datm.rs1.0347-07-01-00000.bin’ -> ‘/glade/scratch/mclong/SMYLE-FOSI/rest-reset-alt-co2/0347-07-01-00000/./g.e22.GOMIPECOIAF_JRA-1p4-2018.TL319_g17.SMYLE.005.datm.rs1.0347-07-01-00000.bin’\n",
      "‘/glade/work/mclong/SMYLE-FOSI/rest/0347-07-01-00000/g.e22.GOMIPECOIAF_JRA-1p4-2018.TL319_g17.SMYLE.005.drof.rs1.0347-07-01-00000.bin’ -> ‘/glade/scratch/mclong/SMYLE-FOSI/rest-reset-alt-co2/0347-07-01-00000/./g.e22.GOMIPECOIAF_JRA-1p4-2018.TL319_g17.SMYLE.005.drof.rs1.0347-07-01-00000.bin’\n",
      "‘/glade/work/mclong/SMYLE-FOSI/rest/0347-07-01-00000/g.e22.GOMIPECOIAF_JRA-1p4-2018.TL319_g17.SMYLE.005.pop.r.0347-07-01-00000.nc’ -> ‘/glade/scratch/mclong/SMYLE-FOSI/rest-reset-alt-co2/0347-07-01-00000/./g.e22.GOMIPECOIAF_JRA-1p4-2018.TL319_g17.SMYLE.005.pop.r.0347-07-01-00000.nc’\n",
      "‘/glade/work/mclong/SMYLE-FOSI/rest/0347-07-01-00000/g.e22.GOMIPECOIAF_JRA-1p4-2018.TL319_g17.SMYLE.005.pop.rh.ecosys.nyear1.0347-07-01-00000.nc’ -> ‘/glade/scratch/mclong/SMYLE-FOSI/rest-reset-alt-co2/0347-07-01-00000/./g.e22.GOMIPECOIAF_JRA-1p4-2018.TL319_g17.SMYLE.005.pop.rh.ecosys.nyear1.0347-07-01-00000.nc’\n",
      "‘/glade/work/mclong/SMYLE-FOSI/rest/0347-07-01-00000/g.e22.GOMIPECOIAF_JRA-1p4-2018.TL319_g17.SMYLE.005.pop.ro.0347-07-01-00000’ -> ‘/glade/scratch/mclong/SMYLE-FOSI/rest-reset-alt-co2/0347-07-01-00000/./g.e22.GOMIPECOIAF_JRA-1p4-2018.TL319_g17.SMYLE.005.pop.ro.0347-07-01-00000’\n",
      "‘/glade/work/mclong/SMYLE-FOSI/rest/0347-07-01-00000/g.e22.GOMIPECOIAF_JRA-1p4-2018.TL319_g17.SMYLE.005.ww3.r.0347-07-01-00000’ -> ‘/glade/scratch/mclong/SMYLE-FOSI/rest-reset-alt-co2/0347-07-01-00000/./g.e22.GOMIPECOIAF_JRA-1p4-2018.TL319_g17.SMYLE.005.ww3.r.0347-07-01-00000’\n",
      "‘/glade/work/mclong/SMYLE-FOSI/rest/0347-07-01-00000/rpointer.atm’ -> ‘/glade/scratch/mclong/SMYLE-FOSI/rest-reset-alt-co2/0347-07-01-00000/./rpointer.atm’\n",
      "‘/glade/work/mclong/SMYLE-FOSI/rest/0347-07-01-00000/rpointer.drv’ -> ‘/glade/scratch/mclong/SMYLE-FOSI/rest-reset-alt-co2/0347-07-01-00000/./rpointer.drv’\n",
      "‘/glade/work/mclong/SMYLE-FOSI/rest/0347-07-01-00000/rpointer.ice’ -> ‘/glade/scratch/mclong/SMYLE-FOSI/rest-reset-alt-co2/0347-07-01-00000/./rpointer.ice’\n",
      "‘/glade/work/mclong/SMYLE-FOSI/rest/0347-07-01-00000/rpointer.ocn.ovf’ -> ‘/glade/scratch/mclong/SMYLE-FOSI/rest-reset-alt-co2/0347-07-01-00000/./rpointer.ocn.ovf’\n",
      "‘/glade/work/mclong/SMYLE-FOSI/rest/0347-07-01-00000/rpointer.ocn.restart’ -> ‘/glade/scratch/mclong/SMYLE-FOSI/rest-reset-alt-co2/0347-07-01-00000/./rpointer.ocn.restart’\n",
      "‘/glade/work/mclong/SMYLE-FOSI/rest/0347-07-01-00000/rpointer.ocn.tavg’ -> ‘/glade/scratch/mclong/SMYLE-FOSI/rest-reset-alt-co2/0347-07-01-00000/./rpointer.ocn.tavg’\n",
      "‘/glade/work/mclong/SMYLE-FOSI/rest/0347-07-01-00000/rpointer.rof’ -> ‘/glade/scratch/mclong/SMYLE-FOSI/rest-reset-alt-co2/0347-07-01-00000/./rpointer.rof’\n",
      "‘/glade/work/mclong/SMYLE-FOSI/rest/0347-10-01-00000/g.e22.GOMIPECOIAF_JRA-1p4-2018.TL319_g17.SMYLE.005.cice.r.0347-10-01-00000.nc’ -> ‘/glade/scratch/mclong/SMYLE-FOSI/rest-reset-alt-co2/0347-10-01-00000/./g.e22.GOMIPECOIAF_JRA-1p4-2018.TL319_g17.SMYLE.005.cice.r.0347-10-01-00000.nc’\n",
      "‘/glade/work/mclong/SMYLE-FOSI/rest/0347-10-01-00000/g.e22.GOMIPECOIAF_JRA-1p4-2018.TL319_g17.SMYLE.005.cpl.r.0347-10-01-00000.nc’ -> ‘/glade/scratch/mclong/SMYLE-FOSI/rest-reset-alt-co2/0347-10-01-00000/./g.e22.GOMIPECOIAF_JRA-1p4-2018.TL319_g17.SMYLE.005.cpl.r.0347-10-01-00000.nc’\n",
      "‘/glade/work/mclong/SMYLE-FOSI/rest/0347-10-01-00000/g.e22.GOMIPECOIAF_JRA-1p4-2018.TL319_g17.SMYLE.005.datm.rs1.0347-10-01-00000.bin’ -> ‘/glade/scratch/mclong/SMYLE-FOSI/rest-reset-alt-co2/0347-10-01-00000/./g.e22.GOMIPECOIAF_JRA-1p4-2018.TL319_g17.SMYLE.005.datm.rs1.0347-10-01-00000.bin’\n",
      "‘/glade/work/mclong/SMYLE-FOSI/rest/0347-10-01-00000/g.e22.GOMIPECOIAF_JRA-1p4-2018.TL319_g17.SMYLE.005.drof.rs1"
     ]
    }
   ],
   "source": [
    "for refdate in refdates:\n",
    "    from_dir = f'{refcaserest_root}/{refdate}-00000'\n",
    "    to_dir = f'{rest_root_alt_co2}/{refdate}-00000'\n",
    "    \n",
    "    os.makedirs(to_dir, exist_ok=True)\n",
    "    check_call(\n",
    "        f\"cp -fv {from_dir}/* {to_dir}/.\",\n",
    "        shell=True,\n",
    "    )"
   ]
  },
  {
   "cell_type": "markdown",
   "id": "1faa280c-e017-4cfe-862c-6b91bd24700d",
   "metadata": {},
   "source": [
    "## Resetting ALT_CO2 tracers"
   ]
  },
  {
   "cell_type": "code",
   "execution_count": 56,
   "id": "62238988-daf7-4457-b411-4cc5fe8d0923",
   "metadata": {},
   "outputs": [
    {
     "name": "stdout",
     "output_type": "stream",
     "text": [
      "resetting: /glade/scratch/mclong/SMYLE-FOSI/rest-reset-alt-co2/0347-01-01-00000/g.e22.GOMIPECOIAF_JRA-1p4-2018.TL319_g17.SMYLE.005.pop.r.0347-01-01-00000.nc\n",
      ".0347-10-01-00000.bin’ -> ‘/glade/scratch/mclong/SMYLE-FOSI/rest-reset-alt-co2/0347-10-01-00000/./g.e22.GOMIPECOIAF_JRA-1p4-2018.TL319_g17.SMYLE.005.drof.rs1.0347-10-01-00000.bin’\n",
      "‘/glade/work/mclong/SMYLE-FOSI/rest/0347-10-01-00000/g.e22.GOMIPECOIAF_JRA-1p4-2018.TL319_g17.SMYLE.005.pop.r.0347-10-01-00000.nc’ -> ‘/glade/scratch/mclong/SMYLE-FOSI/rest-reset-alt-co2/0347-10-01-00000/./g.e22.GOMIPECOIAF_JRA-1p4-2018.TL319_g17.SMYLE.005.pop.r.0347-10-01-00000.nc’\n",
      "‘/glade/work/mclong/SMYLE-FOSI/rest/0347-10-01-00000/g.e22.GOMIPECOIAF_JRA-1p4-2018.TL319_g17.SMYLE.005.pop.rh.ecosys.nyear1.0347-10-01-00000.nc’ -> ‘/glade/scratch/mclong/SMYLE-FOSI/rest-reset-alt-co2/0347-10-01-00000/./g.e22.GOMIPECOIAF_JRA-1p4-2018.TL319_g17.SMYLE.005.pop.rh.ecosys.nyear1.0347-10-01-00000.nc’\n",
      "‘/glade/work/mclong/SMYLE-FOSI/rest/0347-10-01-00000/g.e22.GOMIPECOIAF_JRA-1p4-2018.TL319_g17.SMYLE.005.pop.ro.0347-10-01-00000’ -> ‘/glade/scratch/mclong/SMYLE-FOSI/rest-reset-alt-co2/0347-10-01-00000/./g.e22.GOMIPECOIAF_JRA-1p4-2018.TL319_g17.SMYLE.005.pop.ro.0347-10-01-00000’\n",
      "‘/glade/work/mclong/SMYLE-FOSI/rest/0347-10-01-00000/g.e22.GOMIPECOIAF_JRA-1p4-2018.TL319_g17.SMYLE.005.ww3.r.0347-10-01-00000’ -> ‘/glade/scratch/mclong/SMYLE-FOSI/rest-reset-alt-co2/0347-10-01-00000/./g.e22.GOMIPECOIAF_JRA-1p4-2018.TL319_g17.SMYLE.005.ww3.r.0347-10-01-00000’\n",
      "‘/glade/work/mclong/SMYLE-FOSI/rest/0347-10-01-00000/rpointer.atm’ -> ‘/glade/scratch/mclong/SMYLE-FOSI/rest-reset-alt-co2/0347-10-01-00000/./rpointer.atm’\n",
      "‘/glade/work/mclong/SMYLE-FOSI/rest/0347-10-01-00000/rpointer.drv’ -> ‘/glade/scratch/mclong/SMYLE-FOSI/rest-reset-alt-co2/0347-10-01-00000/./rpointer.drv’\n",
      "‘/glade/work/mclong/SMYLE-FOSI/rest/0347-10-01-00000/rpointer.ice’ -> ‘/glade/scratch/mclong/SMYLE-FOSI/rest-reset-alt-co2/0347-10-01-00000/./rpointer.ice’\n",
      "‘/glade/work/mclong/SMYLE-FOSI/rest/0347-10-01-00000/rpointer.ocn.ovf’ -> ‘/glade/scratch/mclong/SMYLE-FOSI/rest-reset-alt-co2/0347-10-01-00000/./rpointer.ocn.ovf’\n",
      "‘/glade/work/mclong/SMYLE-FOSI/rest/0347-10-01-00000/rpointer.ocn.restart’ -> ‘/glade/scratch/mclong/SMYLE-FOSI/rest-reset-alt-co2/0347-10-01-00000/./rpointer.ocn.restart’\n",
      "‘/glade/work/mclong/SMYLE-FOSI/rest/0347-10-01-00000/rpointer.ocn.tavg’ -> ‘/glade/scratch/mclong/SMYLE-FOSI/rest-reset-alt-co2/0347-10-01-00000/./rpointer.ocn.tavg’\n",
      "‘/glade/work/mclong/SMYLE-FOSI/rest/0347-10-01-00000/rpointer.rof’ -> ‘/glade/scratch/mclong/SMYLE-FOSI/rest-reset-alt-co2/0347-10-01-00000/./rpointer.rof’\n",
      "resetting: /glade/scratch/mclong/SMYLE-FOSI/rest-reset-alt-co2/0347-04-01-00000/g.e22.GOMIPECOIAF_JRA-1p4-2018.TL319_g17.SMYLE.005.pop.r.0347-04-01-00000.nc\n",
      "resetting: /glade/scratch/mclong/SMYLE-FOSI/rest-reset-alt-co2/0347-07-01-00000/g.e22.GOMIPECOIAF_JRA-1p4-2018.TL319_g17.SMYLE.005.pop.r.0347-07-01-00000.nc\n",
      "resetting: /glade/scratch/mclong/SMYLE-FOSI/rest-reset-alt-co2/0347-10-01-00000/g.e22.GOMIPECOIAF_JRA-1p4-2018.TL319_g17.SMYLE.005.pop.r.0347-10-01-00000.nc\n"
     ]
    }
   ],
   "source": [
    "for refdate in refdates:\n",
    "    to_dir = f'{rest_root_alt_co2}/{refdate}-00000'\n",
    "    print(f\"resetting: {to_dir}/{oae_smyle.refcase}.pop.r.{refdate}-00000.nc\")\n",
    "    check_call(\n",
    "        [\"./set-alt-co2.sh\", f\"{to_dir}/{oae_smyle.refcase}.pop.r.{refdate}-00000.nc\"],\n",
    "    )    \n",
    "    "
   ]
  },
  {
   "cell_type": "code",
   "execution_count": null,
   "id": "aa479d1e-2bcf-4846-b0ca-c1a4c0de582a",
   "metadata": {},
   "outputs": [],
   "source": []
  }
 ],
 "metadata": {
  "kernelspec": {
   "display_name": "Python [conda env:miniconda3-mcdr]",
   "language": "python",
   "name": "conda-env-miniconda3-mcdr-py"
  },
  "language_info": {
   "codemirror_mode": {
    "name": "ipython",
    "version": 3
   },
   "file_extension": ".py",
   "mimetype": "text/x-python",
   "name": "python",
   "nbconvert_exporter": "python",
   "pygments_lexer": "ipython3",
   "version": "3.7.16"
  }
 },
 "nbformat": 4,
 "nbformat_minor": 5
}
