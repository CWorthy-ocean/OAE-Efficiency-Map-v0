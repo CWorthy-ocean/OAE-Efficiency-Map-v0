{
 "cells": [
  {
   "cell_type": "markdown",
   "id": "dba31305-2b5c-4144-9a44-e56ba56f3279",
   "metadata": {},
   "source": [
    "# Test \n",
    "\n",
    "Confirm that curtailing the output didn't change answers"
   ]
  },
  {
   "cell_type": "code",
   "execution_count": 2,
   "id": "16213694-f241-4d06-ade2-a9a2cce31e71",
   "metadata": {},
   "outputs": [
    {
     "name": "stdout",
     "output_type": "stream",
     "text": [
      "The autoreload extension is already loaded. To reload it, use:\n",
      "  %reload_ext autoreload\n"
     ]
    }
   ],
   "source": [
    "%load_ext autoreload\n",
    "%autoreload 2"
   ]
  },
  {
   "cell_type": "code",
   "execution_count": 3,
   "id": "11f5ff2f-15e4-46d6-81e9-57995f7eb9b7",
   "metadata": {},
   "outputs": [],
   "source": [
    "import os\n",
    "from glob import glob\n",
    "\n",
    "import cftime\n",
    "import numpy as np\n",
    "import xarray as xr\n",
    "\n",
    "import matplotlib.pyplot as plt\n",
    "import config"
   ]
  },
  {
   "cell_type": "code",
   "execution_count": 12,
   "id": "e67dd8ec-8733-4e2c-b8a4-37a9619eb9a7",
   "metadata": {},
   "outputs": [],
   "source": [
    "case_full = 'smyle-fosi.lat-range-basin.alk-forcing-lat-range-basin.001.full'\n",
    "case_curt = 'smyle-fosi.lat-range-basin.alk-forcing-lat-range-basin.001.curtail'\n",
    "\n",
    " \n",
    "files_full = sorted(\n",
    "    glob(\n",
    "        f'{config.dir_scratch}/archive/{case_full}/ocn/hist/{case_full}.pop.h.????-??.nc'\n",
    "    )\n",
    ")\n",
    "files_curt = sorted(\n",
    "    glob(\n",
    "        f'{config.dir_scratch}/archive/{case_curt}/ocn/hist/{case_curt}.pop.h.????-??.nc'\n",
    "    )\n",
    ")\n",
    "\n",
    "assert len(files_full) == len(files_curt)\n",
    "\n",
    "\n",
    "variables = ['DIC', 'ALK', 'FG_CO2', 'FG_ALT_CO2', 'DIC_ALT_CO2', 'ALK_ALT_CO2']\n",
    "for f1, f2 in zip(files_full, files_curt):\n",
    "    ds1 = xr.open_dataset(f1)[variables]\n",
    "    ds2 = xr.open_dataset(f2)[variables]\n",
    "    \n",
    "    for v in variables:\n",
    "        xr.testing.assert_equal(ds1[v], ds2[v])\n"
   ]
  },
  {
   "cell_type": "code",
   "execution_count": null,
   "id": "9fe64385-d25c-466b-8caf-a0f69b6b9e60",
   "metadata": {},
   "outputs": [],
   "source": [
    " "
   ]
  }
 ],
 "metadata": {
  "kernelspec": {
   "display_name": "Python [conda env:miniconda3-mcdr]",
   "language": "python",
   "name": "conda-env-miniconda3-mcdr-py"
  },
  "language_info": {
   "codemirror_mode": {
    "name": "ipython",
    "version": 3
   },
   "file_extension": ".py",
   "mimetype": "text/x-python",
   "name": "python",
   "nbconvert_exporter": "python",
   "pygments_lexer": "ipython3",
   "version": "3.7.16"
  }
 },
 "nbformat": 4,
 "nbformat_minor": 5
}
