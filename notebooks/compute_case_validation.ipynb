{
 "cells": [
  {
   "cell_type": "code",
   "execution_count": 1,
   "id": "fac177f5-0c6c-42d9-9fba-1347039ff282",
   "metadata": {
    "tags": []
   },
   "outputs": [],
   "source": [
    "%load_ext autoreload\n",
    "%autoreload 2"
   ]
  },
  {
   "cell_type": "code",
   "execution_count": 2,
   "id": "eeafe043-2805-4415-9966-396a82de05ff",
   "metadata": {
    "tags": []
   },
   "outputs": [],
   "source": [
    "import os\n",
    "\n",
    "import dask\n",
    "from dask_jobqueue import SLURMCluster\n",
    "from dask.distributed import Client\n",
    "\n",
    "import papermill as pm\n",
    "\n",
    "import validate_case"
   ]
  },
  {
   "cell_type": "code",
   "execution_count": 3,
   "id": "6ff36c70-ec91-4d50-927d-f12444635bf7",
   "metadata": {},
   "outputs": [],
   "source": [
    "cases = [\n",
    "    \"smyle.control.perlmutter.004\",\n",
    "    \"smyle.oae.perlmutter.alk-forcing-lat-range-basin_000.001\",\n",
    "]"
   ]
  },
  {
   "cell_type": "code",
   "execution_count": 4,
   "id": "26e8a0c3-9efa-45f5-816f-9dc57bcbbe64",
   "metadata": {
    "tags": []
   },
   "outputs": [
    {
     "data": {
      "text/html": [
       "<div>\n",
       "    <div style=\"width: 24px; height: 24px; background-color: #e1e1e1; border: 3px solid #9D9D9D; border-radius: 5px; position: absolute;\"> </div>\n",
       "    <div style=\"margin-left: 48px;\">\n",
       "        <h3 style=\"margin-bottom: 0px;\">Client</h3>\n",
       "        <p style=\"color: #9D9D9D; margin-bottom: 0px;\">Client-93202731-6952-11ef-8999-9b374eba9dab</p>\n",
       "        <table style=\"width: 100%; text-align: left;\">\n",
       "\n",
       "        <tr>\n",
       "        \n",
       "            <td style=\"text-align: left;\"><strong>Connection method:</strong> Cluster object</td>\n",
       "            <td style=\"text-align: left;\"><strong>Cluster type:</strong> dask_jobqueue.SLURMCluster</td>\n",
       "        \n",
       "        </tr>\n",
       "\n",
       "        \n",
       "            <tr>\n",
       "                <td style=\"text-align: left;\">\n",
       "                    <strong>Dashboard: </strong> <a href=\"http://128.55.64.38:8787/status\" target=\"_blank\">http://128.55.64.38:8787/status</a>\n",
       "                </td>\n",
       "                <td style=\"text-align: left;\"></td>\n",
       "            </tr>\n",
       "        \n",
       "\n",
       "        </table>\n",
       "\n",
       "        \n",
       "\n",
       "        \n",
       "            <details>\n",
       "            <summary style=\"margin-bottom: 20px;\"><h3 style=\"display: inline;\">Cluster Info</h3></summary>\n",
       "            <div class=\"jp-RenderedHTMLCommon jp-RenderedHTML jp-mod-trusted jp-OutputArea-output\">\n",
       "    <div style=\"width: 24px; height: 24px; background-color: #e1e1e1; border: 3px solid #9D9D9D; border-radius: 5px; position: absolute;\">\n",
       "    </div>\n",
       "    <div style=\"margin-left: 48px;\">\n",
       "        <h3 style=\"margin-bottom: 0px; margin-top: 0px;\">SLURMCluster</h3>\n",
       "        <p style=\"color: #9D9D9D; margin-bottom: 0px;\">07d50e3a</p>\n",
       "        <table style=\"width: 100%; text-align: left;\">\n",
       "            <tr>\n",
       "                <td style=\"text-align: left;\">\n",
       "                    <strong>Dashboard:</strong> <a href=\"http://128.55.64.38:8787/status\" target=\"_blank\">http://128.55.64.38:8787/status</a>\n",
       "                </td>\n",
       "                <td style=\"text-align: left;\">\n",
       "                    <strong>Workers:</strong> 0\n",
       "                </td>\n",
       "            </tr>\n",
       "            <tr>\n",
       "                <td style=\"text-align: left;\">\n",
       "                    <strong>Total threads:</strong> 0\n",
       "                </td>\n",
       "                <td style=\"text-align: left;\">\n",
       "                    <strong>Total memory:</strong> 0 B\n",
       "                </td>\n",
       "            </tr>\n",
       "            \n",
       "        </table>\n",
       "\n",
       "        <details>\n",
       "            <summary style=\"margin-bottom: 20px;\">\n",
       "                <h3 style=\"display: inline;\">Scheduler Info</h3>\n",
       "            </summary>\n",
       "\n",
       "            <div style=\"\">\n",
       "    <div>\n",
       "        <div style=\"width: 24px; height: 24px; background-color: #FFF7E5; border: 3px solid #FF6132; border-radius: 5px; position: absolute;\"> </div>\n",
       "        <div style=\"margin-left: 48px;\">\n",
       "            <h3 style=\"margin-bottom: 0px;\">Scheduler</h3>\n",
       "            <p style=\"color: #9D9D9D; margin-bottom: 0px;\">Scheduler-03edac13-90f3-488e-a86f-737ac2ba354a</p>\n",
       "            <table style=\"width: 100%; text-align: left;\">\n",
       "                <tr>\n",
       "                    <td style=\"text-align: left;\">\n",
       "                        <strong>Comm:</strong> tcp://128.55.64.38:44099\n",
       "                    </td>\n",
       "                    <td style=\"text-align: left;\">\n",
       "                        <strong>Workers:</strong> 0\n",
       "                    </td>\n",
       "                </tr>\n",
       "                <tr>\n",
       "                    <td style=\"text-align: left;\">\n",
       "                        <strong>Dashboard:</strong> <a href=\"http://128.55.64.38:8787/status\" target=\"_blank\">http://128.55.64.38:8787/status</a>\n",
       "                    </td>\n",
       "                    <td style=\"text-align: left;\">\n",
       "                        <strong>Total threads:</strong> 0\n",
       "                    </td>\n",
       "                </tr>\n",
       "                <tr>\n",
       "                    <td style=\"text-align: left;\">\n",
       "                        <strong>Started:</strong> Just now\n",
       "                    </td>\n",
       "                    <td style=\"text-align: left;\">\n",
       "                        <strong>Total memory:</strong> 0 B\n",
       "                    </td>\n",
       "                </tr>\n",
       "            </table>\n",
       "        </div>\n",
       "    </div>\n",
       "\n",
       "    <details style=\"margin-left: 48px;\">\n",
       "        <summary style=\"margin-bottom: 20px;\">\n",
       "            <h3 style=\"display: inline;\">Workers</h3>\n",
       "        </summary>\n",
       "\n",
       "        \n",
       "\n",
       "    </details>\n",
       "</div>\n",
       "\n",
       "        </details>\n",
       "    </div>\n",
       "</div>\n",
       "            </details>\n",
       "        \n",
       "\n",
       "    </div>\n",
       "</div>"
      ],
      "text/plain": [
       "<Client: 'tcp://128.55.64.38:44099' processes=0 threads=0, memory=0 B>"
      ]
     },
     "execution_count": 4,
     "metadata": {},
     "output_type": "execute_result"
    }
   ],
   "source": [
    "USER = os.environ[\"USER\"]\n",
    "SCRATCH = f\"/pscratch/sd/{USER[0]}/{USER}\"\n",
    "memory = \"32GB\"\n",
    "walltime = \"02:00:00\"\n",
    "account = \"m4746\"\n",
    "\n",
    "# SLURMCluster doesn't seem to generate at usable jobscript\n",
    "# hack it\n",
    "job_directives_skip = [\"-J\", \"-e\", \"-o\", \"-p\",\"-A\", \"-n\", \"--cpus-per-task\", \"--mem\", \"-t\"]   \n",
    "job_extra_directives = [\n",
    "    \"-J dask-worker\",\n",
    "    f\"-A {account}\",\n",
    "    f\"-e {SCRATCH}/dask-workers/dask-worker-%J.err\",\n",
    "    f\"-o {SCRATCH}/dask-workers/dask-worker-%J.out\",\n",
    "    f\"--time={walltime}\",\n",
    "    f\"--mem={memory}\",    \n",
    "    \"--qos=shared\",    \n",
    "    \"--nodes=1\",\n",
    "    \"--ntasks=1\",\n",
    "    \"--ntasks-per-node=64\", # shared queue only allows half node — don't know if this is really needed\n",
    "    \"--cpus-per-task=1\",\n",
    "    \"--constraint=cpu\",\n",
    "]\n",
    "\n",
    "cluster = SLURMCluster(\n",
    "    cores=1,\n",
    "    processes=1,    \n",
    "    memory=memory,\n",
    "    queue=\"debug\",\n",
    "    account=account,\n",
    "    walltime=walltime,\n",
    "    job_directives_skip=job_directives_skip,\n",
    "    job_extra_directives=job_extra_directives,\n",
    ")\n",
    "\n",
    "cluster.scale(12)\n",
    "client = Client(cluster)\n",
    "\n",
    "client"
   ]
  },
  {
   "cell_type": "code",
   "execution_count": 7,
   "id": "812a754b-186e-468b-8fec-3c0c2faa0b62",
   "metadata": {
    "tags": []
   },
   "outputs": [
    {
     "name": "stdout",
     "output_type": "stream",
     "text": [
      "working on DIC_ALT_CO2...\n",
      "working on ALK_ALT_CO2...\n"
     ]
    }
   ],
   "source": [
    "clobber = False\n",
    "for case in cases:\n",
    "    is_oae_run = \".oae.\" in case\n",
    "    zarr_store = validate_case.zarr_validation_data(case)\n",
    "    if not os.path.exists(zarr_store) or clobber:\n",
    "        validate_case.validator(case, is_oae_run)        "
   ]
  },
  {
   "cell_type": "code",
   "execution_count": 8,
   "id": "68f0e4de-fba3-4ec9-9411-ce5c9c984607",
   "metadata": {},
   "outputs": [
    {
     "data": {
      "application/vnd.jupyter.widget-view+json": {
       "model_id": "f5dd9622c8774af6a6f5dfcf5193cb29",
       "version_major": 2,
       "version_minor": 0
      },
      "text/plain": [
       "Executing:   0%|          | 0/6 [00:00<?, ?cell/s]"
      ]
     },
     "metadata": {},
     "output_type": "display_data"
    },
    {
     "data": {
      "application/vnd.jupyter.widget-view+json": {
       "model_id": "0f7816e32b91438494850949f6339749",
       "version_major": 2,
       "version_minor": 0
      },
      "text/plain": [
       "Executing:   0%|          | 0/6 [00:00<?, ?cell/s]"
      ]
     },
     "metadata": {},
     "output_type": "display_data"
    }
   ],
   "source": [
    "clobber = True\n",
    "\n",
    "dir_out = \"case-info/validation\"\n",
    "os.makedirs(dir_out, exist_ok=True)\n",
    "\n",
    "for case in cases:   \n",
    "    nb_out = f\"{dir_out}/validation_{case}.ipynb\"\n",
    "    if os.path.exists(nb_out) and not clobber:\n",
    "        continue\n",
    "    \n",
    "    zarr_store = validate_case.zarr_validation_data(case)    \n",
    "    if os.path.exists(zarr_store):\n",
    "        pm.execute_notebook(\n",
    "           \"plot_case_validation.ipynb\",\n",
    "           nb_out,\n",
    "           parameters=dict(case=case)\n",
    "        )"
   ]
  },
  {
   "cell_type": "code",
   "execution_count": null,
   "id": "00b843e9-8912-4e34-8bc9-dbdbef93d550",
   "metadata": {},
   "outputs": [],
   "source": []
  }
 ],
 "metadata": {
  "kernelspec": {
   "display_name": "cworthy",
   "language": "python",
   "name": "env"
  },
  "language_info": {
   "codemirror_mode": {
    "name": "ipython",
    "version": 3
   },
   "file_extension": ".py",
   "mimetype": "text/x-python",
   "name": "python",
   "nbconvert_exporter": "python",
   "pygments_lexer": "ipython3",
   "version": "3.12.5"
  }
 },
 "nbformat": 4,
 "nbformat_minor": 5
}
