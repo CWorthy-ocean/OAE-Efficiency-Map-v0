{
 "cells": [
  {
   "cell_type": "code",
   "execution_count": 3,
   "id": "fc303539-33a9-4e9f-816e-e12fc5664b38",
   "metadata": {
    "tags": []
   },
   "outputs": [],
   "source": [
    "import os\n",
    "\n",
    "import dask\n",
    "from dask.distributed import Client"
   ]
  },
  {
   "cell_type": "code",
   "execution_count": null,
   "id": "15f1b1f3-b207-4063-a92c-58f75c58f9e4",
   "metadata": {},
   "outputs": [],
   "source": []
  },
  {
   "cell_type": "code",
   "execution_count": null,
   "id": "057e05bd-76ca-48d1-b676-85549cf855bc",
   "metadata": {
    "tags": []
   },
   "outputs": [
    {
     "name": "stdout",
     "output_type": "stream",
     "text": [
      "salloc: Pending job allocation 30108851\n",
      "salloc: job 30108851 queued and waiting for resources\n",
      "salloc: job 30108851 has been allocated resources\n",
      "salloc: Granted job allocation 30108851\n",
      "salloc: Nodes nid[005559,005596] are ready for job\n",
      "\u0007\u001b[0;33mnid005559\u001b[0m:/global/u2/m...iency/notebooks> "
     ]
    }
   ],
   "source": [
    "!salloc -N 2 -n 64 -t 30 -C cpu"
   ]
  },
  {
   "cell_type": "code",
   "execution_count": null,
   "id": "acf80d3b-a4e3-4103-bf18-3e33c92c5370",
   "metadata": {
    "tags": []
   },
   "outputs": [],
   "source": [
    "!bash launch-dask.sh"
   ]
  },
  {
   "cell_type": "code",
   "execution_count": null,
   "id": "2830a5b2-9654-46f6-9fe6-4bd471bd0121",
   "metadata": {
    "tags": []
   },
   "outputs": [],
   "source": [
    "scheduler_file = os.path.join(os.environ[\"SCRATCH\"], \"scheduler_file.json\")\n",
    "\n",
    "dask.config.config[\"distributed\"][\"dashboard\"][\"link\"] = \"{JUPYTERHUB_SERVICE_PREFIX}proxy/{host}:{port}/status\" \n",
    "\n",
    "client = Client(scheduler_file=scheduler_file)\n",
    "client"
   ]
  },
  {
   "cell_type": "code",
   "execution_count": null,
   "id": "40a0e453-46d8-4919-9250-e1acf2f19b09",
   "metadata": {},
   "outputs": [],
   "source": []
  }
 ],
 "metadata": {
  "kernelspec": {
   "display_name": "cworthy",
   "language": "python",
   "name": "env"
  },
  "language_info": {
   "codemirror_mode": {
    "name": "ipython",
    "version": 3
   },
   "file_extension": ".py",
   "mimetype": "text/x-python",
   "name": "python",
   "nbconvert_exporter": "python",
   "pygments_lexer": "ipython3",
   "version": "3.12.5"
  }
 },
 "nbformat": 4,
 "nbformat_minor": 5
}
