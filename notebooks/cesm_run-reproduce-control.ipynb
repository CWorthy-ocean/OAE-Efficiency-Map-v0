{
 "cells": [
  {
   "cell_type": "markdown",
   "id": "420d1f8b-c056-4d36-8869-2b87f0378206",
   "metadata": {
    "tags": []
   },
   "source": [
    "# Run a CESM case"
   ]
  },
  {
   "cell_type": "code",
   "execution_count": 1,
   "id": "336df1de-66ab-4cbd-bfea-65600660b5bd",
   "metadata": {
    "tags": []
   },
   "outputs": [],
   "source": [
    "%load_ext autoreload\n",
    "%autoreload 2"
   ]
  },
  {
   "cell_type": "code",
   "execution_count": 2,
   "id": "561f6b97-4390-4068-8653-b4811ba85b58",
   "metadata": {
    "tags": []
   },
   "outputs": [],
   "source": [
    "import os\n",
    "from glob import glob\n",
    "from subprocess import check_call\n",
    "import cesm_tools\n",
    "\n",
    "from project import *"
   ]
  },
  {
   "cell_type": "code",
   "execution_count": 3,
   "id": "08925241-ed43-4661-85e7-9d03abf3cf21",
   "metadata": {
    "tags": [
     "parameters"
    ]
   },
   "outputs": [],
   "source": [
    "clobber = True\n",
    "\n",
    "refcase = \"g.e22.GOMIPECOIAF_JRA-1p4-2018.TL319_g17.SMYLE.005\"\n",
    "refdate = \"0347-01-01\"\n",
    "refcaserest_root = f\"{dir_project_root}/data/{refcase}/rest\"\n",
    "\n",
    "compset = \"OMIP_DATM%JRA-1p4-2018_SLND_CICE_POP2%ECO_DROF%JRA-1p4-2018_SGLC_WW3_SIAC_SESP\"\n",
    "res = \"TL319_g17\"\n",
    "\n",
    "case = f\"smyle.control.{mach}.003\"\n",
    "\n",
    "stop_n = 15\n",
    "stop_option = \"nyear\"\n",
    "resubmit = 0\n",
    "\n",
    "queue = \"regular\"\n",
    "\n",
    "wallclock = \"00:30:00\" if queue == \"debug\" else \"24:00:00\"    "
   ]
  },
  {
   "cell_type": "code",
   "execution_count": 4,
   "id": "a769bcda-cc83-45f4-9ae5-4b2ef1ce789c",
   "metadata": {
    "tags": []
   },
   "outputs": [
    {
     "name": "stdout",
     "output_type": "stream",
     "text": [
      "Did not find an alias or longname compset match for OMIP_DATM%JRA-1p4-2018_SLND_CICE_POP2%ECO_DROF%JRA-1p4-2018_SGLC_WW3_SIAC_SESP \n",
      "Compset forcing is \n",
      "ATM component is  Data driven ATM interannual JRA55 forcing, v1.4, through 2018\n",
      "LND component is Stub land component\n",
      "ICE component is Sea ICE (cice) model version 5\n",
      "OCN component is POP2 Ecosystem\n",
      "ROF component is Data runoff modelJRA55 interannual forcing, v1.4, through 2018\n",
      "GLC component is Stub glacier (land ice) component\n",
      "WAV component is Wave Watch\n",
      "ESP component is \n",
      "Pes     specification file is /global/u2/m/mattlong/codes/release-cesm2.1.5-SMYLE/cime/../components/pop//cime_config/config_pes.xml\n",
      "Machine is perlmutter\n",
      "Pes setting: compset_match is _DATM.*_POP2 \n",
      "Pes setting: grid          is a%TL319_l%null_oi%gx1v7_r%JRA025v2_g%null_w%ww3a_m%gx1v7 \n",
      "Pes setting: compset       is OMIP_DATM%JRA-1p4-2018_SLND_CICE_POP2%ECO_DROF%JRA-1p4-2018_SGLC_WW3_SIAC_SESP \n",
      "Pes setting: tasks       is {'NTASKS_OCN': -1, 'NTASKS_ICE': -1, 'NTASKS_CPL': -1, 'NTASKS_WAV': -1, 'NTASKS_ATM': -1, 'NTASKS_GLC': -1, 'NTASKS_LND': -1, 'NTASKS_ROF': -1} \n",
      "Pes setting: threads     is {'NTHRDS_OCN': 1, 'NTHRDS_ICE': 1, 'NTHRDS_CPL': 1, 'NTHRDS_WAV': 1, 'NTHRDS_ATM': 1, 'NTHRDS_GLC': 1, 'NTHRDS_LND': 1, 'NTHRDS_ROF': 1} \n",
      "Pes setting: rootpe      is {'ROOTPE_OCN': 0, 'ROOTPE_ICE': 0, 'ROOTPE_CPL': 0, 'ROOTPE_WAV': 0, 'ROOTPE_ATM': 0, 'ROOTPE_GLC': 0, 'ROOTPE_LND': 0, 'ROOTPE_ROF': 0} \n",
      "Pes setting: pstrid      is {} \n",
      "Pes other settings: {}\n",
      "Pes comments: Either did not recognize the resolution or the machine name specified\n",
      " Compset is: OMIP_DATM%JRA-1p4-2018_SLND_CICE_POP2%ECO_DROF%JRA-1p4-2018_SGLC_WW3_SIAC_SESP \n",
      " Grid is: a%TL319_l%null_oi%gx1v7_r%JRA025v2_g%null_w%ww3a_m%gx1v7 \n",
      " Components in compset are: ['datm', 'slnd', 'cice', 'pop', 'drof', 'sglc', 'ww3', 'siac', 'sesp', 'drv', 'dart'] \n",
      "No charge_account info available, using value from PROJECT\n",
      "No project info available\n",
      "cesm model version found: release-cesm2.1.5\n",
      "Batch_system_type is slurm\n",
      "job is case.run USER_REQUESTED_WALLTIME None USER_REQUESTED_QUEUE None WALLTIME_FORMAT %H:%M:%S\n",
      "job is case.st_archive USER_REQUESTED_WALLTIME None USER_REQUESTED_QUEUE None WALLTIME_FORMAT %H:%M:%S\n",
      " Creating Case directory /global/cfs/projectdirs/m4746/Projects/OAE-Efficiency-Map/cesm-cases/smyle.control.perlmutter.003\n"
     ]
    },
    {
     "name": "stderr",
     "output_type": "stream",
     "text": [
      "Could not find machine match for 'login29.chn' or 'login29'\n"
     ]
    },
    {
     "data": {
      "text/plain": [
       "0"
      ]
     },
     "execution_count": 4,
     "metadata": {},
     "output_type": "execute_result"
    }
   ],
   "source": [
    "caseroot = f\"{dir_caseroot_root}/{case}\"\n",
    "assert not os.path.exists(caseroot) or clobber, f\"Case {case} exists; caseroot:\\n{caseroot}\\n\"\n",
    "\n",
    "rundir = f\"{dir_scratch}/{case}\"\n",
    "archive_root = f\"{dir_scratch}/archive/{case}\"\n",
    "\n",
    "check_call([\"rm\", \"-fr\", caseroot])\n",
    "check_call([\"rm\", \"-fr\", rundir])\n",
    "check_call([\"rm\", \"-fr\", archive_root])\n",
    "\n",
    "check_call(\n",
    "    \" \".join([\n",
    "        \"module load python\",\n",
    "        \"&&\",      \n",
    "        \"./create_newcase\",\n",
    "        \"--compset\", compset,\n",
    "        \"--case\", caseroot,\n",
    "        \"--res\", res,\n",
    "        \"--machine\", mach,\n",
    "        \"--project\", account,            \n",
    "        \"--run-unsupported\"]),\n",
    "    shell=True,\n",
    "    cwd=f\"{coderoot}/cime/scripts\",\n",
    ")"
   ]
  },
  {
   "cell_type": "code",
   "execution_count": 5,
   "id": "9e99dc40-651d-4818-9ac4-ffd4705ae1f3",
   "metadata": {
    "tags": []
   },
   "outputs": [],
   "source": [
    "def xmlchange(arg, force=False):\n",
    "    \"\"\"call xmlchange\"\"\"\n",
    "    check_call(f\"module load python && ./xmlchange {arg}\", cwd=caseroot, shell=True)"
   ]
  },
  {
   "cell_type": "code",
   "execution_count": 6,
   "id": "8c74312b-5426-4d50-a4fb-5ca9c3e0fdf8",
   "metadata": {},
   "outputs": [],
   "source": [
    "xmlchange(\"MAX_TASKS_PER_NODE=128\")\n",
    "xmlchange(\"MAX_MPITASKS_PER_NODE=128\")\n",
    "\n",
    "xmlchange(\"NTASKS_ATM=72\")\n",
    "xmlchange(\"NTASKS_CPL=72\")\n",
    "xmlchange(\"NTASKS_WAV=72\")\n",
    "xmlchange(\"NTASKS_GLC=72\")\n",
    "xmlchange(\"NTASKS_ICE=72\")\n",
    "xmlchange(\"NTASKS_ROF=72\")\n",
    "xmlchange(\"NTASKS_LND=72\")\n",
    "xmlchange(\"NTASKS_ESP=72\")\n",
    "\n",
    "xmlchange(\"NTASKS_OCN=751\")\n",
    "xmlchange(\"ROOTPE_OCN=72\")\n",
    "\n",
    "xmlchange(\"CICE_BLCKX=16\")\n",
    "xmlchange(\"CICE_BLCKY=16\")\n",
    "xmlchange(\"CICE_MXBLCKS=7\")\n",
    "xmlchange(\"CICE_DECOMPTYPE='sectrobin'\")\n",
    "xmlchange(\"CICE_DECOMPSETTING='square-ice'\")\n",
    "\n",
    "xmlchange(\"OCN_TRACER_MODULES='iage ecosys'\")\n",
    "\n",
    "xmlchange(\"POP_AUTO_DECOMP=FALSE\")\n",
    "xmlchange(\"POP_BLCKX=9\")\n",
    "xmlchange(\"POP_BLCKY=16\")\n",
    "xmlchange(\"POP_NX_BLOCKS=36\")\n",
    "xmlchange(\"POP_NY_BLOCKS=24\")\n",
    "xmlchange(\"POP_MXBLCKS=1\")\n",
    "xmlchange(\"POP_DECOMPTYPE='spacecurve'\")"
   ]
  },
  {
   "cell_type": "code",
   "execution_count": 7,
   "id": "4c8a8d7b-df9b-4e92-94d0-038e36c8cd37",
   "metadata": {
    "tags": []
   },
   "outputs": [
    {
     "name": "stdout",
     "output_type": "stream",
     "text": [
      "'/global/cfs/projectdirs/m4746/Projects/OAE-Efficiency-Map/data/g.e22.GOMIPECOIAF_JRA-1p4-2018.TL319_g17.SMYLE.005/rest/0347-01-01-00000/g.e22.GOMIPECOIAF_JRA-1p4-2018.TL319_g17.SMYLE.005.cice.r.0347-01-01-00000.nc' -> '/pscratch/sd/m/mattlong/smyle.control.perlmutter.003/run/./g.e22.GOMIPECOIAF_JRA-1p4-2018.TL319_g17.SMYLE.005.cice.r.0347-01-01-00000.nc'\n",
      "'/global/cfs/projectdirs/m4746/Projects/OAE-Efficiency-Map/data/g.e22.GOMIPECOIAF_JRA-1p4-2018.TL319_g17.SMYLE.005/rest/0347-01-01-00000/g.e22.GOMIPECOIAF_JRA-1p4-2018.TL319_g17.SMYLE.005.cpl.r.0347-01-01-00000.nc' -> '/pscratch/sd/m/mattlong/smyle.control.perlmutter.003/run/./g.e22.GOMIPECOIAF_JRA-1p4-2018.TL319_g17.SMYLE.005.cpl.r.0347-01-01-00000.nc'\n",
      "'/global/cfs/projectdirs/m4746/Projects/OAE-Efficiency-Map/data/g.e22.GOMIPECOIAF_JRA-1p4-2018.TL319_g17.SMYLE.005/rest/0347-01-01-00000/g.e22.GOMIPECOIAF_JRA-1p4-2018.TL319_g17.SMYLE.005.datm.rs1.0347-01-01-00000.bin' -> '/pscratch/sd/m/mattlong/smyle.control.perlmutter.003/run/./g.e22.GOMIPECOIAF_JRA-1p4-2018.TL319_g17.SMYLE.005.datm.rs1.0347-01-01-00000.bin'\n",
      "'/global/cfs/projectdirs/m4746/Projects/OAE-Efficiency-Map/data/g.e22.GOMIPECOIAF_JRA-1p4-2018.TL319_g17.SMYLE.005/rest/0347-01-01-00000/g.e22.GOMIPECOIAF_JRA-1p4-2018.TL319_g17.SMYLE.005.drof.rs1.0347-01-01-00000.bin' -> '/pscratch/sd/m/mattlong/smyle.control.perlmutter.003/run/./g.e22.GOMIPECOIAF_JRA-1p4-2018.TL319_g17.SMYLE.005.drof.rs1.0347-01-01-00000.bin'\n",
      "'/global/cfs/projectdirs/m4746/Projects/OAE-Efficiency-Map/data/g.e22.GOMIPECOIAF_JRA-1p4-2018.TL319_g17.SMYLE.005/rest/0347-01-01-00000/g.e22.GOMIPECOIAF_JRA-1p4-2018.TL319_g17.SMYLE.005.pop.r.0347-01-01-00000.nc' -> '/pscratch/sd/m/mattlong/smyle.control.perlmutter.003/run/./g.e22.GOMIPECOIAF_JRA-1p4-2018.TL319_g17.SMYLE.005.pop.r.0347-01-01-00000.nc'\n",
      "'/global/cfs/projectdirs/m4746/Projects/OAE-Efficiency-Map/data/g.e22.GOMIPECOIAF_JRA-1p4-2018.TL319_g17.SMYLE.005/rest/0347-01-01-00000/g.e22.GOMIPECOIAF_JRA-1p4-2018.TL319_g17.SMYLE.005.pop.ro.0347-01-01-00000' -> '/pscratch/sd/m/mattlong/smyle.control.perlmutter.003/run/./g.e22.GOMIPECOIAF_JRA-1p4-2018.TL319_g17.SMYLE.005.pop.ro.0347-01-01-00000'\n",
      "'/global/cfs/projectdirs/m4746/Projects/OAE-Efficiency-Map/data/g.e22.GOMIPECOIAF_JRA-1p4-2018.TL319_g17.SMYLE.005/rest/0347-01-01-00000/g.e22.GOMIPECOIAF_JRA-1p4-2018.TL319_g17.SMYLE.005.ww3.r.0347-01-01-00000' -> '/pscratch/sd/m/mattlong/smyle.control.perlmutter.003/run/./g.e22.GOMIPECOIAF_JRA-1p4-2018.TL319_g17.SMYLE.005.ww3.r.0347-01-01-00000'\n",
      "'/global/cfs/projectdirs/m4746/Projects/OAE-Efficiency-Map/data/g.e22.GOMIPECOIAF_JRA-1p4-2018.TL319_g17.SMYLE.005/rest/0347-01-01-00000/rpointer.atm' -> '/pscratch/sd/m/mattlong/smyle.control.perlmutter.003/run/./rpointer.atm'\n",
      "'/global/cfs/projectdirs/m4746/Projects/OAE-Efficiency-Map/data/g.e22.GOMIPECOIAF_JRA-1p4-2018.TL319_g17.SMYLE.005/rest/0347-01-01-00000/rpointer.drv' -> '/pscratch/sd/m/mattlong/smyle.control.perlmutter.003/run/./rpointer.drv'\n",
      "'/global/cfs/projectdirs/m4746/Projects/OAE-Efficiency-Map/data/g.e22.GOMIPECOIAF_JRA-1p4-2018.TL319_g17.SMYLE.005/rest/0347-01-01-00000/rpointer.ice' -> '/pscratch/sd/m/mattlong/smyle.control.perlmutter.003/run/./rpointer.ice'\n",
      "'/global/cfs/projectdirs/m4746/Projects/OAE-Efficiency-Map/data/g.e22.GOMIPECOIAF_JRA-1p4-2018.TL319_g17.SMYLE.005/rest/0347-01-01-00000/rpointer.ocn.ovf' -> '/pscratch/sd/m/mattlong/smyle.control.perlmutter.003/run/./rpointer.ocn.ovf'\n",
      "'/global/cfs/projectdirs/m4746/Projects/OAE-Efficiency-Map/data/g.e22.GOMIPECOIAF_JRA-1p4-2018.TL319_g17.SMYLE.005/rest/0347-01-01-00000/rpointer.ocn.restart' -> '/pscratch/sd/m/mattlong/smyle.control.perlmutter.003/run/./rpointer.ocn.restart'\n",
      "'/global/cfs/projectdirs/m4746/Projects/OAE-Efficiency-Map/data/g.e22.GOMIPECOIAF_JRA-1p4-2018.TL319_g17.SMYLE.005/rest/0347-01-01-00000/rpointer.ocn.tavg' -> '/pscratch/sd/m/mattlong/smyle.control.perlmutter.003/run/./rpointer.ocn.tavg'\n",
      "'/global/cfs/projectdirs/m4746/Projects/OAE-Efficiency-Map/data/g.e22.GOMIPECOIAF_JRA-1p4-2018.TL319_g17.SMYLE.005/rest/0347-01-01-00000/rpointer.rof' -> '/pscratch/sd/m/mattlong/smyle.control.perlmutter.003/run/./rpointer.rof'\n"
     ]
    },
    {
     "data": {
      "text/plain": [
       "0"
      ]
     },
     "execution_count": 7,
     "metadata": {},
     "output_type": "execute_result"
    }
   ],
   "source": [
    "# copy restarts\n",
    "os.makedirs(f\"{dir_scratch}/{case}/run\", exist_ok=True)\n",
    "check_call(\n",
    "    f\"cp -v {refcaserest_root}/{refdate}-00000/* {dir_scratch}/{case}/run/.\",\n",
    "    shell=True,\n",
    ")"
   ]
  },
  {
   "cell_type": "code",
   "execution_count": 8,
   "id": "c31e1fa7-eba4-4305-b428-4785ae421766",
   "metadata": {
    "tags": []
   },
   "outputs": [
    {
     "name": "stdout",
     "output_type": "stream",
     "text": [
      "Setting resource.RLIMIT_STACK to -1 from (8388608, -1)\n",
      "job is case.run USER_REQUESTED_WALLTIME None USER_REQUESTED_QUEUE None WALLTIME_FORMAT %H:%M:%S\n",
      "Creating batch scripts\n",
      "Writing case.run script from input template /global/u2/m/mattlong/codes/release-cesm2.1.5-SMYLE/cime/config/cesm/machines/template.case.run\n"
     ]
    },
    {
     "name": "stderr",
     "output_type": "stream",
     "text": [
      "/global/cfs/projectdirs/m4746/Projects/OAE-Efficiency-Map/cesm-cases/smyle.control.perlmutter.003/env_mach_specific.xml already exists, delete to replace\n"
     ]
    },
    {
     "name": "stdout",
     "output_type": "stream",
     "text": [
      "Creating file .case.run\n",
      "Writing case.st_archive script from input template /global/u2/m/mattlong/codes/release-cesm2.1.5-SMYLE/cime/config/cesm/machines/template.st_archive\n",
      "Creating file case.st_archive\n",
      "Creating user_nl_xxx files for components and cpl\n",
      "If an old case build already exists, might want to run 'case.build --clean' before building\n",
      "You can now run './preview_run' to get more info on how your case will be run\n"
     ]
    }
   ],
   "source": [
    "xmlchange(f\"DIN_LOC_ROOT={cesm_inputdata}\")\n",
    "\n",
    "check_call(\n",
    "    \"module load python && ./case.setup\",\n",
    "    cwd=caseroot,\n",
    "    shell=True,\n",
    ")\n",
    "\n",
    "# handle the myserious failures with ESP\n",
    "os.makedirs(f\"{caseroot}/SourceMods/src.desp\", exist_ok=True)\n",
    "with open(f\"{dir_scratch}/{case}/run/rpointer.esp\", \"w\") as fid:\n",
    "    fid.write(\"\\n\")"
   ]
  },
  {
   "cell_type": "code",
   "execution_count": 9,
   "id": "4f567842-ee9a-449f-9eac-f1f706466ef1",
   "metadata": {
    "tags": []
   },
   "outputs": [
    {
     "name": "stdout",
     "output_type": "stream",
     "text": [
      "'/global/u2/m/mattlong/codes/oae-dor-global-efficiency/notebooks/CESM-RefCase/g.e22.GOMIPECOIAF_JRA-1p4-2018.TL319_g17.SMYLE.005/SourceMods/src.cice/README' -> '/global/cfs/projectdirs/m4746/Projects/OAE-Efficiency-Map/cesm-cases/smyle.control.perlmutter.003/SourceMods/src.cice/README'\n",
      "'/global/u2/m/mattlong/codes/oae-dor-global-efficiency/notebooks/CESM-RefCase/g.e22.GOMIPECOIAF_JRA-1p4-2018.TL319_g17.SMYLE.005/SourceMods/src.datm/README' -> '/global/cfs/projectdirs/m4746/Projects/OAE-Efficiency-Map/cesm-cases/smyle.control.perlmutter.003/SourceMods/src.datm/README'\n",
      "'/global/u2/m/mattlong/codes/oae-dor-global-efficiency/notebooks/CESM-RefCase/g.e22.GOMIPECOIAF_JRA-1p4-2018.TL319_g17.SMYLE.005/SourceMods/src.drof/README' -> '/global/cfs/projectdirs/m4746/Projects/OAE-Efficiency-Map/cesm-cases/smyle.control.perlmutter.003/SourceMods/src.drof/README'\n",
      "'/global/u2/m/mattlong/codes/oae-dor-global-efficiency/notebooks/CESM-RefCase/g.e22.GOMIPECOIAF_JRA-1p4-2018.TL319_g17.SMYLE.005/SourceMods/src.drv/README' -> '/global/cfs/projectdirs/m4746/Projects/OAE-Efficiency-Map/cesm-cases/smyle.control.perlmutter.003/SourceMods/src.drv/README'\n",
      "'/global/u2/m/mattlong/codes/oae-dor-global-efficiency/notebooks/CESM-RefCase/g.e22.GOMIPECOIAF_JRA-1p4-2018.TL319_g17.SMYLE.005/SourceMods/src.pop/README' -> '/global/cfs/projectdirs/m4746/Projects/OAE-Efficiency-Map/cesm-cases/smyle.control.perlmutter.003/SourceMods/src.pop/README'\n",
      "'/global/u2/m/mattlong/codes/oae-dor-global-efficiency/notebooks/CESM-RefCase/g.e22.GOMIPECOIAF_JRA-1p4-2018.TL319_g17.SMYLE.005/SourceMods/src.pop/forcing_shf.F90' -> '/global/cfs/projectdirs/m4746/Projects/OAE-Efficiency-Map/cesm-cases/smyle.control.perlmutter.003/SourceMods/src.pop/forcing_shf.F90'\n",
      "'/global/u2/m/mattlong/codes/oae-dor-global-efficiency/notebooks/CESM-RefCase/g.e22.GOMIPECOIAF_JRA-1p4-2018.TL319_g17.SMYLE.005/SourceMods/src.share/README' -> '/global/cfs/projectdirs/m4746/Projects/OAE-Efficiency-Map/cesm-cases/smyle.control.perlmutter.003/SourceMods/src.share/README'\n",
      "'/global/u2/m/mattlong/codes/oae-dor-global-efficiency/notebooks/CESM-RefCase/g.e22.GOMIPECOIAF_JRA-1p4-2018.TL319_g17.SMYLE.005/SourceMods/src.siac/README' -> '/global/cfs/projectdirs/m4746/Projects/OAE-Efficiency-Map/cesm-cases/smyle.control.perlmutter.003/SourceMods/src.siac/README'\n",
      "'/global/u2/m/mattlong/codes/oae-dor-global-efficiency/notebooks/CESM-RefCase/g.e22.GOMIPECOIAF_JRA-1p4-2018.TL319_g17.SMYLE.005/SourceMods/src.ww3/README' -> '/global/cfs/projectdirs/m4746/Projects/OAE-Efficiency-Map/cesm-cases/smyle.control.perlmutter.003/SourceMods/src.ww3/README'\n"
     ]
    },
    {
     "data": {
      "text/plain": [
       "0"
      ]
     },
     "execution_count": 9,
     "metadata": {},
     "output_type": "execute_result"
    }
   ],
   "source": [
    "check_call(\n",
    "    f\"cp -vr {scriptroot}/CESM-RefCase/{refcase}/SourceMods/* {caseroot}/SourceMods\",\n",
    "    shell=True,\n",
    ")"
   ]
  },
  {
   "cell_type": "code",
   "execution_count": 10,
   "id": "525a8578-3122-4cc3-9818-a9ee65a7e560",
   "metadata": {
    "tags": []
   },
   "outputs": [
    {
     "name": "stdout",
     "output_type": "stream",
     "text": [
      "/global/u2/m/mattlong/codes/oae-dor-global-efficiency/notebooks/CESM-RefCase/g.e22.GOMIPECOIAF_JRA-1p4-2018.TL319_g17.SMYLE.005/user_nl_drof -> /global/cfs/projectdirs/m4746/Projects/OAE-Efficiency-Map/cesm-cases/smyle.control.perlmutter.003/user_nl_drof\n",
      "/global/u2/m/mattlong/codes/oae-dor-global-efficiency/notebooks/CESM-RefCase/g.e22.GOMIPECOIAF_JRA-1p4-2018.TL319_g17.SMYLE.005/user_nl_pop -> /global/cfs/projectdirs/m4746/Projects/OAE-Efficiency-Map/cesm-cases/smyle.control.perlmutter.003/user_nl_pop\n",
      "/global/u2/m/mattlong/codes/oae-dor-global-efficiency/notebooks/CESM-RefCase/g.e22.GOMIPECOIAF_JRA-1p4-2018.TL319_g17.SMYLE.005/user_nl_datm -> /global/cfs/projectdirs/m4746/Projects/OAE-Efficiency-Map/cesm-cases/smyle.control.perlmutter.003/user_nl_datm\n",
      "/global/u2/m/mattlong/codes/oae-dor-global-efficiency/notebooks/CESM-RefCase/g.e22.GOMIPECOIAF_JRA-1p4-2018.TL319_g17.SMYLE.005/user_nl_ww -> /global/cfs/projectdirs/m4746/Projects/OAE-Efficiency-Map/cesm-cases/smyle.control.perlmutter.003/user_nl_ww\n",
      "/global/u2/m/mattlong/codes/oae-dor-global-efficiency/notebooks/CESM-RefCase/g.e22.GOMIPECOIAF_JRA-1p4-2018.TL319_g17.SMYLE.005/user_nl_cice -> /global/cfs/projectdirs/m4746/Projects/OAE-Efficiency-Map/cesm-cases/smyle.control.perlmutter.003/user_nl_cice\n",
      "/global/u2/m/mattlong/codes/oae-dor-global-efficiency/notebooks/CESM-RefCase/g.e22.GOMIPECOIAF_JRA-1p4-2018.TL319_g17.SMYLE.005/user_nl_cpl -> /global/cfs/projectdirs/m4746/Projects/OAE-Efficiency-Map/cesm-cases/smyle.control.perlmutter.003/user_nl_cpl\n"
     ]
    }
   ],
   "source": [
    "user_nl_files = glob(f\"{scriptroot}/CESM-RefCase/{refcase}/user_nl*\")\n",
    "\n",
    "for file in user_nl_files:\n",
    "    file_out = os.path.join(caseroot, os.path.basename(file))\n",
    "    print(f\"{file} -> {file_out}\")\n",
    "    with open(file, \"r\") as fid:\n",
    "        file_str = fid.read().replace(\"/glade/p/cesmdata/cseg/inputdata\", cesm_inputdata)\n",
    "    with open(file_out, \"w\") as fid:\n",
    "        fid.write(file_str)"
   ]
  },
  {
   "cell_type": "code",
   "execution_count": 11,
   "id": "bfc75245-c163-421c-9e9d-b91ab04eaaea",
   "metadata": {
    "tags": []
   },
   "outputs": [
    {
     "name": "stdout",
     "output_type": "stream",
     "text": [
      "/global/u2/m/mattlong/codes/oae-dor-global-efficiency/notebooks/CESM-RefCase/g.e22.GOMIPECOIAF_JRA-1p4-2018.TL319_g17.SMYLE.005/user_datm.streams.txt.co2tseries.omip -> /global/cfs/projectdirs/m4746/Projects/OAE-Efficiency-Map/cesm-cases/smyle.control.perlmutter.003/user_datm.streams.txt.co2tseries.omip\n",
      "/global/u2/m/mattlong/codes/oae-dor-global-efficiency/notebooks/CESM-RefCase/g.e22.GOMIPECOIAF_JRA-1p4-2018.TL319_g17.SMYLE.005/user_datm.streams.txt.presaero.cesm2_SMYLE -> /global/cfs/projectdirs/m4746/Projects/OAE-Efficiency-Map/cesm-cases/smyle.control.perlmutter.003/user_datm.streams.txt.presaero.cesm2_SMYLE\n",
      "/global/u2/m/mattlong/codes/oae-dor-global-efficiency/notebooks/CESM-RefCase/g.e22.GOMIPECOIAF_JRA-1p4-2018.TL319_g17.SMYLE.005/user_datm.streams.txt.presaero.clim_1850 -> /global/cfs/projectdirs/m4746/Projects/OAE-Efficiency-Map/cesm-cases/smyle.control.perlmutter.003/user_datm.streams.txt.presaero.clim_1850\n"
     ]
    }
   ],
   "source": [
    "user_datm_files = glob(f\"{scriptroot}/CESM-RefCase/{refcase}/user_datm.*\")\n",
    "\n",
    "for file in user_datm_files:\n",
    "    file_out = os.path.join(caseroot, os.path.basename(file))\n",
    "    print(f\"{file} -> {file_out}\")\n",
    "    with open(file, \"r\") as fid:\n",
    "        file_str = fid.read().replace(\"/glade/p/cesmdata/cseg/inputdata\", cesm_inputdata)\n",
    "    with open(file_out, \"w\") as fid:\n",
    "        fid.write(file_str)"
   ]
  },
  {
   "cell_type": "code",
   "execution_count": 12,
   "id": "8b2cabc7-cd0c-456a-a06d-02f6861f9ae3",
   "metadata": {
    "tags": []
   },
   "outputs": [],
   "source": [
    "xmlchange(f\"RUN_TYPE=branch\")\n",
    "xmlchange(f\"RUN_STARTDATE={refdate}\")\n",
    "xmlchange(f\"RUN_REFCASE={refcase}\")\n",
    "xmlchange(f\"RUN_REFDATE={refdate}\")\n",
    "\n",
    "xmlchange(f\"STOP_N={stop_n}\")\n",
    "xmlchange(f\"STOP_OPTION={stop_option}\")\n",
    "xmlchange(f\"REST_N={stop_n}\")\n",
    "xmlchange(f\"REST_OPTION={stop_option}\")\n",
    "xmlchange(f\"RESUBMIT={resubmit}\")\n",
    "xmlchange(f\"JOB_WALLCLOCK_TIME={wallclock}\")\n",
    "\n",
    "xmlchange(f\"CHARGE_ACCOUNT={account}\")\n",
    "xmlchange(f\"PROJECT={account}\")\n",
    "xmlchange(f\"JOB_QUEUE={queue}\")"
   ]
  },
  {
   "cell_type": "code",
   "execution_count": 13,
   "id": "1f07492c-ba7b-40be-9576-94bf8b5c0bb0",
   "metadata": {
    "tags": []
   },
   "outputs": [
    {
     "name": "stdout",
     "output_type": "stream",
     "text": [
      "Building case in directory /global/cfs/cdirs/m4746/Projects/OAE-Efficiency-Map/cesm-cases/smyle.control.perlmutter.003\n",
      "sharedlib_only is False\n",
      "model_only is False\n",
      "Setting resource.RLIMIT_STACK to -1 from (8388608, -1)\n",
      "Generating component namelists as part of build\n",
      "GET_REFCASE is false, the user is expected to stage the refcase to the run directory.\n",
      "Creating component namelists\n",
      "   Calling /global/u2/m/mattlong/codes/release-cesm2.1.5-SMYLE/cime/src/components/data_comps/datm/cime_config/buildnml\n",
      "   Calling /global/u2/m/mattlong/codes/release-cesm2.1.5-SMYLE/cime/src/components/stub_comps/slnd/cime_config/buildnml\n",
      "   Calling /global/u2/m/mattlong/codes/release-cesm2.1.5-SMYLE/components/cice//cime_config/buildnml\n",
      "     ...buildnml calling cice buildcpp to set build time options\n",
      "   Calling /global/u2/m/mattlong/codes/release-cesm2.1.5-SMYLE/components/pop//cime_config/buildnml\n",
      "     ... buildnml: calling pop buildcpp to set build time options\n",
      "   Calling /global/u2/m/mattlong/codes/release-cesm2.1.5-SMYLE/cime/src/components/data_comps/drof/cime_config/buildnml\n",
      "   Calling /global/u2/m/mattlong/codes/release-cesm2.1.5-SMYLE/cime/src/components/stub_comps/sglc/cime_config/buildnml\n",
      "   Calling /global/u2/m/mattlong/codes/release-cesm2.1.5-SMYLE/components/ww3//cime_config/buildnml\n",
      "   Calling /global/u2/m/mattlong/codes/release-cesm2.1.5-SMYLE/cime/src/components/data_comps/desp/cime_config/buildnml\n",
      "   Calling /global/u2/m/mattlong/codes/release-cesm2.1.5-SMYLE/cime/src/drivers/mct/cime_config/buildnml\n",
      "Finished creating component namelists\n",
      "Building gptl with output to file /pscratch/sd/m/mattlong/smyle.control.perlmutter.003/bld/gptl.bldlog.240830-181720\n",
      "   Calling /global/u2/m/mattlong/codes/release-cesm2.1.5-SMYLE/cime/src/build_scripts/buildlib.gptl\n",
      "Building mct with output to file /pscratch/sd/m/mattlong/smyle.control.perlmutter.003/bld/mct.bldlog.240830-181720\n",
      "   Calling /global/u2/m/mattlong/codes/release-cesm2.1.5-SMYLE/cime/src/build_scripts/buildlib.mct\n",
      "Building pio with output to file /pscratch/sd/m/mattlong/smyle.control.perlmutter.003/bld/pio.bldlog.240830-181720\n",
      "   Calling /global/u2/m/mattlong/codes/release-cesm2.1.5-SMYLE/cime/src/build_scripts/buildlib.pio\n",
      "Component pio build complete with 2 warnings\n",
      "Building csm_share with output to file /pscratch/sd/m/mattlong/smyle.control.perlmutter.003/bld/csm_share.bldlog.240830-181720\n",
      "   Calling /global/u2/m/mattlong/codes/release-cesm2.1.5-SMYLE/cime/src/build_scripts/buildlib.csm_share\n",
      "Component csm_share build complete with 16 warnings\n",
      "Building atm with output to /pscratch/sd/m/mattlong/smyle.control.perlmutter.003/bld/atm.bldlog.240830-181720\n",
      "Building lnd with output to /pscratch/sd/m/mattlong/smyle.control.perlmutter.003/bld/lnd.bldlog.240830-181720\n",
      "Building ice with output to /pscratch/sd/m/mattlong/smyle.control.perlmutter.003/bld/ice.bldlog.240830-181720\n",
      "Building ocn with output to /pscratch/sd/m/mattlong/smyle.control.perlmutter.003/bld/ocn.bldlog.240830-181720\n",
      "Building rof with output to /pscratch/sd/m/mattlong/smyle.control.perlmutter.003/bld/rof.bldlog.240830-181720\n",
      "Building glc with output to /pscratch/sd/m/mattlong/smyle.control.perlmutter.003/bld/glc.bldlog.240830-181720\n",
      "Building wav with output to /pscratch/sd/m/mattlong/smyle.control.perlmutter.003/bld/wav.bldlog.240830-181720\n",
      "Building esp with output to /pscratch/sd/m/mattlong/smyle.control.perlmutter.003/bld/esp.bldlog.240830-181720\n",
      "slnd built in 5.661951 seconds\n",
      "sglc built in 5.665398 seconds\n",
      "drof built in 6.381602 seconds\n",
      "desp built in 6.757970 seconds\n",
      "datm built in 7.427902 seconds\n",
      "ww built in 26.513293 seconds\n",
      "Component ice build complete with 1 warnings\n",
      "cice built in 49.105839 seconds\n",
      "Component ocn build complete with 26 warnings\n",
      "pop built in 298.244870 seconds\n",
      "Building cesm with output to /pscratch/sd/m/mattlong/smyle.control.perlmutter.003/bld/cesm.bldlog.240830-181720 \n",
      "Time spent not building: 3.084305 sec\n",
      "Time spent building: 399.485088 sec\n",
      "MODEL BUILD HAS FINISHED SUCCESSFULLY\n"
     ]
    },
    {
     "data": {
      "text/plain": [
       "0"
      ]
     },
     "execution_count": 13,
     "metadata": {},
     "output_type": "execute_result"
    }
   ],
   "source": [
    "check_call(\n",
    "    \"module load python && ./case.build\",\n",
    "    cwd=caseroot,\n",
    "    shell=True,\n",
    ")"
   ]
  },
  {
   "cell_type": "code",
   "execution_count": 14,
   "id": "8b8777bb-65c9-45e7-abf1-0e69ec457c5c",
   "metadata": {
    "tags": []
   },
   "outputs": [
    {
     "name": "stdout",
     "output_type": "stream",
     "text": [
      "Setting resource.RLIMIT_STACK to -1 from (8388608, -1)\n",
      "GET_REFCASE is false, the user is expected to stage the refcase to the run directory.\n",
      "Creating component namelists\n",
      "   Calling /global/u2/m/mattlong/codes/release-cesm2.1.5-SMYLE/cime/src/components/data_comps/datm/cime_config/buildnml\n",
      "   Calling /global/u2/m/mattlong/codes/release-cesm2.1.5-SMYLE/cime/src/components/stub_comps/slnd/cime_config/buildnml\n",
      "   Calling /global/u2/m/mattlong/codes/release-cesm2.1.5-SMYLE/components/cice//cime_config/buildnml\n",
      "   Calling /global/u2/m/mattlong/codes/release-cesm2.1.5-SMYLE/components/pop//cime_config/buildnml\n",
      "   Calling /global/u2/m/mattlong/codes/release-cesm2.1.5-SMYLE/cime/src/components/data_comps/drof/cime_config/buildnml\n",
      "   Calling /global/u2/m/mattlong/codes/release-cesm2.1.5-SMYLE/cime/src/components/stub_comps/sglc/cime_config/buildnml\n",
      "   Calling /global/u2/m/mattlong/codes/release-cesm2.1.5-SMYLE/components/ww3//cime_config/buildnml\n",
      "   Calling /global/u2/m/mattlong/codes/release-cesm2.1.5-SMYLE/cime/src/components/data_comps/desp/cime_config/buildnml\n",
      "   Calling /global/u2/m/mattlong/codes/release-cesm2.1.5-SMYLE/cime/src/drivers/mct/cime_config/buildnml\n",
      "Finished creating component namelists\n",
      "Checking that inputdata is available as part of case submission\n",
      "Setting resource.RLIMIT_STACK to -1 from (-1, -1)\n",
      "Loading input file list: 'Buildconf/cpl.input_data_list'\n",
      "Loading input file list: 'Buildconf/pop.input_data_list'\n",
      "Loading input file list: 'Buildconf/ww3.input_data_list'\n",
      "Loading input file list: 'Buildconf/datm.input_data_list'\n",
      "Loading input file list: 'Buildconf/desp.input_data_list'\n",
      "Loading input file list: 'Buildconf/drof.input_data_list'\n",
      "Loading input file list: 'Buildconf/cice.input_data_list'\n",
      "GET_REFCASE is false, the user is expected to stage the refcase to the run directory.\n",
      "GET_REFCASE is false, the user is expected to stage the refcase to the run directory.\n",
      "Creating component namelists\n",
      "Finished creating component namelists\n",
      "Check case OK\n",
      "Submitting job script sbatch --time 24:00:00 -q regular --account m4746 .case.run --resubmit\n"
     ]
    },
    {
     "name": "stderr",
     "output_type": "stream",
     "text": [
      "submit_jobs case.run\n",
      "Submit job case.run\n"
     ]
    },
    {
     "name": "stdout",
     "output_type": "stream",
     "text": [
      "Submitted job id is 30009267\n",
      "Submitting job script sbatch --time 24:00:00 -q regular --account m4746  --dependency=afterok:30009267 case.st_archive --resubmit\n"
     ]
    },
    {
     "name": "stderr",
     "output_type": "stream",
     "text": [
      "Submit job case.st_archive\n"
     ]
    },
    {
     "name": "stdout",
     "output_type": "stream",
     "text": [
      "Submitted job id is 30009268\n",
      "Submitted job case.run with id 30009267\n",
      "Submitted job case.st_archive with id 30009268\n"
     ]
    },
    {
     "data": {
      "text/plain": [
       "0"
      ]
     },
     "execution_count": 14,
     "metadata": {},
     "output_type": "execute_result"
    }
   ],
   "source": [
    "check_call(\n",
    "    \"module load python && ./case.submit\",\n",
    "    cwd=caseroot,\n",
    "    shell=True,\n",
    ")"
   ]
  },
  {
   "cell_type": "code",
   "execution_count": null,
   "id": "c0272fa3-0fbe-4854-896b-32781ae7de67",
   "metadata": {},
   "outputs": [],
   "source": []
  }
 ],
 "metadata": {
  "kernelspec": {
   "display_name": "cworthy",
   "language": "python",
   "name": "env"
  },
  "language_info": {
   "codemirror_mode": {
    "name": "ipython",
    "version": 3
   },
   "file_extension": ".py",
   "mimetype": "text/x-python",
   "name": "python",
   "nbconvert_exporter": "python",
   "pygments_lexer": "ipython3",
   "version": "3.12.5"
  },
  "toc-showtags": false
 },
 "nbformat": 4,
 "nbformat_minor": 5
}
