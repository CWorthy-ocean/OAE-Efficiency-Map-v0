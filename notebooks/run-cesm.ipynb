{
 "cells": [
  {
   "cell_type": "code",
   "execution_count": 41,
   "id": "5aaef2c0-8c5f-490d-aac6-a428407fc2f8",
   "metadata": {},
   "outputs": [
    {
     "name": "stdout",
     "output_type": "stream",
     "text": [
      "The autoreload extension is already loaded. To reload it, use:\n",
      "  %reload_ext autoreload\n"
     ]
    }
   ],
   "source": [
    "%load_ext autoreload\n",
    "%autoreload 2"
   ]
  },
  {
   "cell_type": "code",
   "execution_count": 42,
   "id": "1414c944-85c0-44fe-8c2f-cd46cb926b0d",
   "metadata": {},
   "outputs": [],
   "source": [
    "import os\n",
    "import socket\n",
    "from glob import glob\n",
    "\n",
    "import oae_smyle\n",
    "import config\n",
    "\n",
    "this_notebook = 'run-cesm.ipynb'\n",
    "assert 'cheyenne' in socket.gethostname(), (\n",
    "    'this notebook must be run on cheyenne login node'\n",
    ")"
   ]
  },
  {
   "cell_type": "code",
   "execution_count": 43,
   "id": "45eb0596-e9d8-4b17-aacb-95d9efc44ff4",
   "metadata": {},
   "outputs": [
    {
     "data": {
      "text/plain": [
       "['/glade/work/mclong/oae-dor-global-efficiency/data/alk-forcing-lat-range-basin.000.nc',\n",
       " '/glade/work/mclong/oae-dor-global-efficiency/data/alk-forcing-lat-range-basin.001.nc',\n",
       " '/glade/work/mclong/oae-dor-global-efficiency/data/alk-forcing-lat-range-basin.002.nc',\n",
       " '/glade/work/mclong/oae-dor-global-efficiency/data/alk-forcing-lat-range-basin.003.nc',\n",
       " '/glade/work/mclong/oae-dor-global-efficiency/data/alk-forcing-lat-range-basin.004.nc',\n",
       " '/glade/work/mclong/oae-dor-global-efficiency/data/alk-forcing-lat-range-basin.005.nc',\n",
       " '/glade/work/mclong/oae-dor-global-efficiency/data/alk-forcing-lat-range-basin.006.nc',\n",
       " '/glade/work/mclong/oae-dor-global-efficiency/data/alk-forcing-lat-range-basin.007.nc',\n",
       " '/glade/work/mclong/oae-dor-global-efficiency/data/alk-forcing-lat-range-basin.008.nc',\n",
       " '/glade/work/mclong/oae-dor-global-efficiency/data/alk-forcing-lat-range-basin.009.nc',\n",
       " '/glade/work/mclong/oae-dor-global-efficiency/data/alk-forcing-lat-range-basin.010.nc',\n",
       " '/glade/work/mclong/oae-dor-global-efficiency/data/alk-forcing-lat-range-basin.011.nc']"
      ]
     },
     "execution_count": 43,
     "metadata": {},
     "output_type": "execute_result"
    }
   ],
   "source": [
    "alk_forcing_spec = 'lat-range-basin'\n",
    "forcing_files = sorted(\n",
    "    glob(f\"{config.dir_data}/alk-forcing-{alk_forcing_spec}.*.nc\")\n",
    ")\n",
    "run_only_index_list = [i for i in range(len(forcing_files))]\n",
    "forcing_files"
   ]
  },
  {
   "cell_type": "code",
   "execution_count": 44,
   "id": "a99105cd-bf95-4535-88c1-ec52848d6d7e",
   "metadata": {
    "tags": []
   },
   "outputs": [
    {
     "name": "stdout",
     "output_type": "stream",
     "text": [
      " Successfully created new case smyle-fosi.lat-range-basin.alk-forcing-lat-range-basin.001 from clone case g.e22.GOMIPECOIAF_JRA-1p4-2018.TL319_g17.SMYLE.005 \n",
      "Setting Environment OMP_STACKSIZE=1024M\n",
      "Setting Environment TMPDIR=/glade/scratch/mclong\n",
      "Setting Environment MPI_TYPE_DEPTH=16\n",
      "Setting Environment MPI_IB_CONGESTED=1\n",
      "Setting resource.RLIMIT_STACK to -1 from (307200000, -1)\n",
      "job is case.run USER_REQUESTED_WALLTIME None USER_REQUESTED_QUEUE regular WALLTIME_FORMAT %H:%M:%S\n",
      "Creating batch scripts\n",
      "Writing case.run script from input template /glade/work/klindsay/cesm2_tags/cesm2.2.0/cime/config/cesm/machines/template.case.run\n",
      "Creating file .case.run\n",
      "Writing case.st_archive script from input template /glade/work/klindsay/cesm2_tags/cesm2.2.0/cime/config/cesm/machines/template.st_archive\n"
     ]
    },
    {
     "name": "stderr",
     "output_type": "stream",
     "text": [
      "/glade/work/mclong/oae-dor-global-efficiency/cesm-cases/smyle-fosi.lat-range-basin.alk-forcing-lat-range-basin.001/env_mach_specific.xml already exists, delete to replace\n",
      "/glade/work/mclong/oae-dor-global-efficiency/cesm-cases/smyle-fosi.lat-range-basin.alk-forcing-lat-range-basin.001/env_mach_specific.xml already exists, delete to replace\n"
     ]
    },
    {
     "name": "stdout",
     "output_type": "stream",
     "text": [
      "Creating file case.st_archive\n",
      "If an old case build already exists, might want to run 'case.build --clean' before building\n",
      "You can now run './preview_run' to get more info on how your case will be run\n"
     ]
    },
    {
     "name": "stderr",
     "output_type": "stream",
     "text": [
      "INFO: Running consistency check for /glade/u/home/mclong/codes/oae-dor-global-efficiency/notebooks/SourceMods-OAE/src.pop.curtail-output/diagnostics_latest.yaml\n",
      "INFO: Writing /glade/work/mclong/oae-dor-global-efficiency/cesm-cases/smyle-fosi.lat-range-basin.alk-forcing-lat-range-basin.001/SourceMods/src.pop/diagnostics_latest.json\n"
     ]
    },
    {
     "name": "stdout",
     "output_type": "stream",
     "text": [
      "Setting Environment OMP_STACKSIZE=1024M\n",
      "Setting Environment TMPDIR=/glade/scratch/mclong\n",
      "Setting Environment MPI_TYPE_DEPTH=16\n",
      "Setting Environment MPI_IB_CONGESTED=1\n",
      "Setting resource.RLIMIT_STACK to -1 from (307200000, -1)\n",
      "Machine/Decomp/Pes configuration has already been done ...skipping\n",
      "If an old case build already exists, might want to run 'case.build --clean' before building\n",
      "You can now run './preview_run' to get more info on how your case will be run\n",
      "Setting Environment OMP_STACKSIZE=1024M\n",
      "Setting Environment TMPDIR=/glade/scratch/mclong\n",
      "Setting Environment MPI_TYPE_DEPTH=16\n",
      "Setting Environment MPI_IB_CONGESTED=1\n",
      "Setting resource.RLIMIT_STACK to -1 from (307200000, -1)\n",
      "GET_REFCASE is false, the user is expected to stage the refcase to the run directory.\n",
      "Creating component namelists\n",
      "  2023-05-13 11:40:39 atm \n",
      "   Calling /glade/work/klindsay/cesm2_tags/cesm2.2.0/cime/src/components/data_comps_mct/datm/cime_config/buildnml\n",
      "  2023-05-13 11:40:40 lnd \n",
      "   Calling /glade/work/klindsay/cesm2_tags/cesm2.2.0/cime/src/components/stub_comps_mct/slnd/cime_config/buildnml\n",
      "  2023-05-13 11:40:40 ice \n",
      "   Calling /glade/work/klindsay/cesm2_tags/cesm2.2.0/cime/../components/cice//cime_config/buildnml\n",
      "     ...buildnml calling cice buildcpp to set build time options\n",
      "  2023-05-13 11:40:40 ocn \n",
      "   Calling /glade/work/klindsay/cesm2_tags/cesm2.2.0/cime/../components/pop//cime_config/buildnml\n",
      "     ... buildnml: calling pop buildcpp to set build time options\n",
      "  2023-05-13 11:40:41 rof \n",
      "   Calling /glade/work/klindsay/cesm2_tags/cesm2.2.0/cime/src/components/data_comps_mct/drof/cime_config/buildnml\n",
      "  2023-05-13 11:40:41 glc \n",
      "   Calling /glade/work/klindsay/cesm2_tags/cesm2.2.0/cime/src/components/stub_comps_mct/sglc/cime_config/buildnml\n",
      "  2023-05-13 11:40:41 wav \n",
      "   Calling /glade/work/klindsay/cesm2_tags/cesm2.2.0/cime/../components/ww3//cime_config/buildnml\n",
      "  2023-05-13 11:40:41 iac \n",
      "   Running /glade/work/klindsay/cesm2_tags/cesm2.2.0/cime/src/components/stub_comps_mct/siac/cime_config/buildnml \n",
      "  2023-05-13 11:40:41 esp \n",
      "   Calling /glade/work/klindsay/cesm2_tags/cesm2.2.0/cime/src/components/stub_comps_mct/sesp/cime_config/buildnml\n",
      "  2023-05-13 11:40:41 cpl \n",
      "   Calling /glade/work/klindsay/cesm2_tags/cesm2.2.0/cime/src/drivers/mct/cime_config/buildnml\n",
      "Submitting command to PBS using account P93300670:\n",
      "    ./case.build\n",
      "\n",
      "Requested custom PBS options:\n",
      "    -A P93300670 \n",
      "\n",
      "Waiting for job 192143.chadmin1.ib0.cheyenne.ucar.edu to start ... \n",
      "\n",
      "\n",
      "Building case in directory /glade/work/mclong/oae-dor-global-efficiency/cesm-cases/smyle-fosi.lat-range-basin.alk-forcing-lat-range-basin.001\n",
      "sharedlib_only is False\n",
      "model_only is False\n",
      "Setting Environment OMP_STACKSIZE=1024M\n",
      "Setting Environment TMPDIR=/glade/scratch/mclong\n",
      "Setting Environment MPI_TYPE_DEPTH=16\n",
      "Setting Environment MPI_IB_CONGESTED=1\n",
      "Setting resource.RLIMIT_STACK to -1 from (-1, -1)\n",
      "Generating component namelists as part of build\n",
      "GET_REFCASE is false, the user is expected to stage the refcase to the run directory.\n",
      "Creating component namelists\n",
      "  2023-05-13 11:41:45 atm \n",
      "   Calling /glade/work/klindsay/cesm2_tags/cesm2.2.0/cime/src/components/data_comps_mct/datm/cime_config/buildnml\n",
      "  2023-05-13 11:41:45 lnd \n",
      "   Calling /glade/work/klindsay/cesm2_tags/cesm2.2.0/cime/src/components/stub_comps_mct/slnd/cime_config/buildnml\n",
      "  2023-05-13 11:41:45 ice \n",
      "   Calling /glade/work/klindsay/cesm2_tags/cesm2.2.0/cime/../components/cice//cime_config/buildnml\n",
      "     ...buildnml calling cice buildcpp to set build time options\n",
      "  2023-05-13 11:41:46 ocn \n",
      "   Calling /glade/work/klindsay/cesm2_tags/cesm2.2.0/cime/../components/pop//cime_config/buildnml\n",
      "     ... buildnml: calling pop buildcpp to set build time options\n",
      "  2023-05-13 11:41:48 rof \n",
      "   Calling /glade/work/klindsay/cesm2_tags/cesm2.2.0/cime/src/components/data_comps_mct/drof/cime_config/buildnml\n",
      "  2023-05-13 11:41:48 glc \n",
      "   Calling /glade/work/klindsay/cesm2_tags/cesm2.2.0/cime/src/components/stub_comps_mct/sglc/cime_config/buildnml\n",
      "  2023-05-13 11:41:48 wav \n",
      "   Calling /glade/work/klindsay/cesm2_tags/cesm2.2.0/cime/../components/ww3//cime_config/buildnml\n",
      "  2023-05-13 11:41:48 iac \n",
      "   Running /glade/work/klindsay/cesm2_tags/cesm2.2.0/cime/src/components/stub_comps_mct/siac/cime_config/buildnml \n",
      "  2023-05-13 11:41:48 esp \n",
      "   Calling /glade/work/klindsay/cesm2_tags/cesm2.2.0/cime/src/components/stub_comps_mct/sesp/cime_config/buildnml\n",
      "  2023-05-13 11:41:48 cpl \n",
      "   Calling /glade/work/klindsay/cesm2_tags/cesm2.2.0/cime/src/drivers/mct/cime_config/buildnml\n",
      "Building gptl with output to file /glade/scratch/mclong/smyle-fosi.lat-range-basin.alk-forcing-lat-range-basin.001/bld/gptl.bldlog.230513-114144\n",
      "   Calling /glade/work/klindsay/cesm2_tags/cesm2.2.0/cime/src/build_scripts/buildlib.gptl\n",
      "Building mct with output to file /glade/scratch/mclong/smyle-fosi.lat-range-basin.alk-forcing-lat-range-basin.001/bld/mct.bldlog.230513-114144\n",
      "   Calling /glade/work/klindsay/cesm2_tags/cesm2.2.0/cime/src/build_scripts/buildlib.mct\n",
      "Building pio with output to file /glade/scratch/mclong/smyle-fosi.lat-range-basin.alk-forcing-lat-range-basin.001/bld/pio.bldlog.230513-114144\n",
      "   Calling /glade/work/klindsay/cesm2_tags/cesm2.2.0/cime/src/build_scripts/buildlib.pio\n",
      "Component pio build complete with 2 warnings\n",
      "Building csm_share with output to file /glade/scratch/mclong/smyle-fosi.lat-range-basin.alk-forcing-lat-range-basin.001/bld/csm_share.bldlog.230513-114144\n",
      "   Calling /glade/work/klindsay/cesm2_tags/cesm2.2.0/cime/src/build_scripts/buildlib.csm_share\n",
      "Component csm_share build complete with 20 warnings\n",
      "         - Building atm Library \n",
      "Building atm with output to /glade/scratch/mclong/smyle-fosi.lat-range-basin.alk-forcing-lat-range-basin.001/bld/atm.bldlog.230513-114144\n",
      "         - Building lnd Library \n",
      "Building lnd with output to /glade/scratch/mclong/smyle-fosi.lat-range-basin.alk-forcing-lat-range-basin.001/bld/lnd.bldlog.230513-114144\n",
      "         - Building ice Library \n",
      "Building ice with output to /glade/scratch/mclong/smyle-fosi.lat-range-basin.alk-forcing-lat-range-basin.001/bld/ice.bldlog.230513-114144\n",
      "         - Building ocn Library \n",
      "Building ocn with output to /glade/scratch/mclong/smyle-fosi.lat-range-basin.alk-forcing-lat-range-basin.001/bld/ocn.bldlog.230513-114144\n",
      "         - Building rof Library \n",
      "Building rof with output to /glade/scratch/mclong/smyle-fosi.lat-range-basin.alk-forcing-lat-range-basin.001/bld/rof.bldlog.230513-114144\n",
      "         - Building glc Library \n",
      "Building glc with output to /glade/scratch/mclong/smyle-fosi.lat-range-basin.alk-forcing-lat-range-basin.001/bld/glc.bldlog.230513-114144\n",
      "         - Building wav Library \n",
      "Building wav with output to /glade/scratch/mclong/smyle-fosi.lat-range-basin.alk-forcing-lat-range-basin.001/bld/wav.bldlog.230513-114144\n",
      "         - Building iac Library \n",
      "Building iac with output to /glade/scratch/mclong/smyle-fosi.lat-range-basin.alk-forcing-lat-range-basin.001/bld/iac.bldlog.230513-114144\n",
      "         - Building esp Library \n",
      "Building esp with output to /glade/scratch/mclong/smyle-fosi.lat-range-basin.alk-forcing-lat-range-basin.001/bld/esp.bldlog.230513-114144\n",
      "sglc built in 1.538501 seconds\n",
      "slnd built in 1.647542 seconds\n",
      "siac built in 1.647920 seconds\n",
      "sesp built in 1.866256 seconds\n",
      "drof built in 3.719569 seconds\n",
      "datm built in 6.121222 seconds\n",
      "ww built in 32.149123 seconds\n",
      "Component ice build complete with 1 warnings\n",
      "cice built in 75.121331 seconds\n",
      "Component ocn build complete with 13 warnings\n",
      "pop built in 429.581564 seconds\n",
      "Building cesm from /glade/work/klindsay/cesm2_tags/cesm2.2.0/cime/src/drivers/mct/cime_config/buildexe with output to /glade/scratch/mclong/smyle-fosi.lat-range-basin.alk-forcing-lat-range-basin.001/bld/cesm.bldlog.230513-114144 \n",
      "Time spent not building: 5.137976 sec\n",
      "Time spent building: 619.491172 sec\n",
      "MODEL BUILD HAS FINISHED SUCCESSFULLY\n"
     ]
    },
    {
     "name": "stderr",
     "output_type": "stream",
     "text": [
      "\n",
      "env_batch.xml appears to have changed, regenerating batch scripts\n",
      "manual edits to these file will be lost!\n",
      "\n"
     ]
    },
    {
     "name": "stdout",
     "output_type": "stream",
     "text": [
      "Creating batch scripts\n",
      "Writing case.run script from input template /glade/work/klindsay/cesm2_tags/cesm2.2.0/cime/config/cesm/machines/template.case.run\n",
      "Creating file .case.run\n",
      "Writing case.st_archive script from input template /glade/work/klindsay/cesm2_tags/cesm2.2.0/cime/config/cesm/machines/template.st_archive\n",
      "Creating file case.st_archive\n",
      "Setting Environment OMP_STACKSIZE=1024M\n",
      "Setting Environment TMPDIR=/glade/scratch/mclong\n",
      "Setting Environment MPI_TYPE_DEPTH=16\n",
      "Setting Environment MPI_IB_CONGESTED=1\n",
      "Setting resource.RLIMIT_STACK to -1 from (307200000, -1)\n",
      "GET_REFCASE is false, the user is expected to stage the refcase to the run directory.\n",
      "Creating component namelists\n",
      "  2023-05-13 11:52:27 atm \n",
      "   Calling /glade/work/klindsay/cesm2_tags/cesm2.2.0/cime/src/components/data_comps_mct/datm/cime_config/buildnml\n",
      "  2023-05-13 11:52:27 lnd \n",
      "   Calling /glade/work/klindsay/cesm2_tags/cesm2.2.0/cime/src/components/stub_comps_mct/slnd/cime_config/buildnml\n",
      "  2023-05-13 11:52:27 ice \n",
      "   Calling /glade/work/klindsay/cesm2_tags/cesm2.2.0/cime/../components/cice//cime_config/buildnml\n",
      "  2023-05-13 11:52:28 ocn \n",
      "   Calling /glade/work/klindsay/cesm2_tags/cesm2.2.0/cime/../components/pop//cime_config/buildnml\n",
      "  2023-05-13 11:52:29 rof \n",
      "   Calling /glade/work/klindsay/cesm2_tags/cesm2.2.0/cime/src/components/data_comps_mct/drof/cime_config/buildnml\n",
      "  2023-05-13 11:52:29 glc \n",
      "   Calling /glade/work/klindsay/cesm2_tags/cesm2.2.0/cime/src/components/stub_comps_mct/sglc/cime_config/buildnml\n",
      "  2023-05-13 11:52:29 wav \n",
      "   Calling /glade/work/klindsay/cesm2_tags/cesm2.2.0/cime/../components/ww3//cime_config/buildnml\n",
      "  2023-05-13 11:52:29 iac \n",
      "   Running /glade/work/klindsay/cesm2_tags/cesm2.2.0/cime/src/components/stub_comps_mct/siac/cime_config/buildnml \n",
      "  2023-05-13 11:52:29 esp \n",
      "   Calling /glade/work/klindsay/cesm2_tags/cesm2.2.0/cime/src/components/stub_comps_mct/sesp/cime_config/buildnml\n",
      "  2023-05-13 11:52:29 cpl \n",
      "   Calling /glade/work/klindsay/cesm2_tags/cesm2.2.0/cime/src/drivers/mct/cime_config/buildnml\n",
      "Checking that inputdata is available as part of case submission\n",
      "Setting Environment OMP_STACKSIZE=1024M\n",
      "Setting Environment TMPDIR=/glade/scratch/mclong\n",
      "Setting Environment MPI_TYPE_DEPTH=16\n",
      "Setting Environment MPI_IB_CONGESTED=1\n",
      "Setting resource.RLIMIT_STACK to -1 from (-1, -1)\n",
      "Loading input file list: 'Buildconf/cpl.input_data_list'\n",
      "Loading input file list: 'Buildconf/pop.input_data_list'\n",
      "Loading input file list: 'Buildconf/ww3.input_data_list'\n",
      "Loading input file list: 'Buildconf/datm.input_data_list'\n",
      "Loading input file list: 'Buildconf/drof.input_data_list'\n",
      "Loading input file list: 'Buildconf/cice.input_data_list'\n",
      "GET_REFCASE is false, the user is expected to stage the refcase to the run directory.\n",
      "GET_REFCASE is false, the user is expected to stage the refcase to the run directory.\n",
      "Creating component namelists\n",
      "  2023-05-13 11:52:31 atm \n",
      "  2023-05-13 11:52:31 lnd \n",
      "  2023-05-13 11:52:31 ice \n",
      "  2023-05-13 11:52:31 ocn \n",
      "  2023-05-13 11:52:31 rof \n",
      "  2023-05-13 11:52:31 glc \n",
      "  2023-05-13 11:52:31 wav \n",
      "  2023-05-13 11:52:31 iac \n",
      "  2023-05-13 11:52:31 esp \n",
      "  2023-05-13 11:52:31 cpl \n",
      "Check case OK\n",
      "Submitting job script qsub -q economy -l walltime=12:00:00 -A P93300670 -m ea -v ARGS_FOR_SCRIPT='--resubmit' .case.run\n"
     ]
    },
    {
     "name": "stderr",
     "output_type": "stream",
     "text": [
      "submit_jobs case.run\n",
      "Submit job case.run\n"
     ]
    },
    {
     "name": "stdout",
     "output_type": "stream",
     "text": [
      "Submitted job id is 192279.chadmin1.ib0.cheyenne.ucar.edu\n",
      "Submitting job script qsub -q economy -l walltime=12:00:00 -A P93300670  -W depend=afterok:192279.chadmin1.ib0.cheyenne.ucar.edu -m ea -v ARGS_FOR_SCRIPT='--resubmit' case.st_archive\n",
      "Submitted job id is 192281.chadmin1.ib0.cheyenne.ucar.edu\n",
      "Submitted job case.run with id 192279.chadmin1.ib0.cheyenne.ucar.edu\n",
      "Submitted job case.st_archive with id 192281.chadmin1.ib0.cheyenne.ucar.edu\n"
     ]
    },
    {
     "name": "stderr",
     "output_type": "stream",
     "text": [
      "Submit job case.st_archive\n"
     ]
    }
   ],
   "source": [
    "clobber = True\n",
    "\n",
    "run_settings = dict(\n",
    "    stop_n=10,\n",
    "    stop_option=\"nyear\",\n",
    "    job_queue=\"economy\",\n",
    "    wallclock=\"12:00:00\",\n",
    "    resubmit=0, \n",
    ")\n",
    "\n",
    "run_only_index_list = [1] # use this list to run only select indexes \n",
    "\n",
    "for n, f in enumerate(forcing_files):\n",
    "    \n",
    "    if n not in run_only_index_list:\n",
    "        continue\n",
    "    \n",
    "    alk_forcing = os.path.basename(f).replace('.nc', '')\n",
    "    case = f\"smyle-fosi.{alk_forcing_spec}.{alk_forcing}\"\n",
    "    oae_smyle.create_clone(\n",
    "        case, \n",
    "        alk_forcing_file=f, \n",
    "        submit=True, \n",
    "        clobber=clobber, \n",
    "        curtail_output=True,\n",
    "        **run_settings\n",
    "    )\n",
    "    "
   ]
  },
  {
   "cell_type": "code",
   "execution_count": null,
   "id": "74fd2fe4-9f89-4b01-902f-3130bbb5d11a",
   "metadata": {},
   "outputs": [],
   "source": []
  },
  {
   "cell_type": "code",
   "execution_count": null,
   "id": "1abe54a9-b9ca-47db-8e20-3257be27718a",
   "metadata": {},
   "outputs": [],
   "source": []
  }
 ],
 "metadata": {
  "kernelspec": {
   "display_name": "Python [conda env:miniconda3-mcdr]",
   "language": "python",
   "name": "conda-env-miniconda3-mcdr-py"
  },
  "language_info": {
   "codemirror_mode": {
    "name": "ipython",
    "version": 3
   },
   "file_extension": ".py",
   "mimetype": "text/x-python",
   "name": "python",
   "nbconvert_exporter": "python",
   "pygments_lexer": "ipython3",
   "version": "3.7.16"
  }
 },
 "nbformat": 4,
 "nbformat_minor": 5
}
