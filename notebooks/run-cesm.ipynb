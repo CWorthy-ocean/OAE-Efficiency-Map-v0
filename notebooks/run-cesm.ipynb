{
 "cells": [
  {
   "cell_type": "code",
   "execution_count": 1,
   "id": "5aaef2c0-8c5f-490d-aac6-a428407fc2f8",
   "metadata": {
    "tags": []
   },
   "outputs": [],
   "source": [
    "%load_ext autoreload\n",
    "%autoreload 2"
   ]
  },
  {
   "cell_type": "code",
   "execution_count": 2,
   "id": "1414c944-85c0-44fe-8c2f-cd46cb926b0d",
   "metadata": {
    "tags": []
   },
   "outputs": [],
   "source": [
    "import os\n",
    "from glob import glob\n",
    "\n",
    "import oae_smyle\n",
    "import project"
   ]
  },
  {
   "cell_type": "code",
   "execution_count": 3,
   "id": "45eb0596-e9d8-4b17-aacb-95d9efc44ff4",
   "metadata": {
    "tags": []
   },
   "outputs": [
    {
     "data": {
      "text/plain": [
       "['/global/cfs/projectdirs/m4746/Projects/OAE-Efficiency-Map/data/alk-forcing/lat-range-basin/alk-forcing-lat-range-basin_000.nc']"
      ]
     },
     "execution_count": 3,
     "metadata": {},
     "output_type": "execute_result"
    }
   ],
   "source": [
    "alk_forcing_spec = 'lat-range-basin'\n",
    "forcing_files = sorted(\n",
    "    glob(f\"{project.dir_data}/alk-forcing/{alk_forcing_spec}/alk-forcing-{alk_forcing_spec}_*.nc\")\n",
    ")\n",
    "run_only_index_list = [i for i in range(len(forcing_files))]\n",
    "forcing_files"
   ]
  },
  {
   "cell_type": "code",
   "execution_count": 4,
   "id": "a99105cd-bf95-4535-88c1-ec52848d6d7e",
   "metadata": {
    "tags": []
   },
   "outputs": [
    {
     "name": "stdout",
     "output_type": "stream",
     "text": [
      "Did not find an alias or longname compset match for OMIP_DATM%JRA-1p4-2018_SLND_CICE_POP2%ECO_DROF%JRA-1p4-2018_SGLC_WW3_SIAC_SESP \n",
      "Compset forcing is \n",
      "ATM component is  Data driven ATM interannual JRA55 forcing, v1.4, through 2018\n",
      "LND component is Stub land component\n",
      "ICE component is Sea ICE (cice) model version 5\n",
      "OCN component is POP2 Ecosystem\n",
      "ROF component is Data runoff modelJRA55 interannual forcing, v1.4, through 2018\n",
      "GLC component is Stub glacier (land ice) component\n",
      "WAV component is Wave Watch\n",
      "ESP component is \n",
      "Pes     specification file is /global/u2/m/mattlong/codes/release-cesm2.1.5-SMYLE/cime/../components/pop//cime_config/config_pes.xml\n",
      "Machine is perlmutter\n",
      "Pes setting: compset_match is _DATM.*_POP2 \n",
      "Pes setting: grid          is a%TL319_l%null_oi%gx1v7_r%JRA025v2_g%null_w%ww3a_m%gx1v7 \n",
      "Pes setting: compset       is OMIP_DATM%JRA-1p4-2018_SLND_CICE_POP2%ECO_DROF%JRA-1p4-2018_SGLC_WW3_SIAC_SESP \n",
      "Pes setting: tasks       is {'NTASKS_OCN': -1, 'NTASKS_ICE': -1, 'NTASKS_CPL': -1, 'NTASKS_WAV': -1, 'NTASKS_ATM': -1, 'NTASKS_GLC': -1, 'NTASKS_LND': -1, 'NTASKS_ROF': -1} \n",
      "Pes setting: threads     is {'NTHRDS_OCN': 1, 'NTHRDS_ICE': 1, 'NTHRDS_CPL': 1, 'NTHRDS_WAV': 1, 'NTHRDS_ATM': 1, 'NTHRDS_GLC': 1, 'NTHRDS_LND': 1, 'NTHRDS_ROF': 1} \n",
      "Pes setting: rootpe      is {'ROOTPE_OCN': 0, 'ROOTPE_ICE': 0, 'ROOTPE_CPL': 0, 'ROOTPE_WAV': 0, 'ROOTPE_ATM': 0, 'ROOTPE_GLC': 0, 'ROOTPE_LND': 0, 'ROOTPE_ROF': 0} \n",
      "Pes setting: pstrid      is {} \n",
      "Pes other settings: {}\n",
      "Pes comments: Either did not recognize the resolution or the machine name specified\n",
      " Compset is: OMIP_DATM%JRA-1p4-2018_SLND_CICE_POP2%ECO_DROF%JRA-1p4-2018_SGLC_WW3_SIAC_SESP \n",
      " Grid is: a%TL319_l%null_oi%gx1v7_r%JRA025v2_g%null_w%ww3a_m%gx1v7 \n",
      " Components in compset are: ['datm', 'slnd', 'cice', 'pop', 'drof', 'sglc', 'ww3', 'siac', 'sesp', 'drv', 'dart'] \n",
      "No charge_account info available, using value from PROJECT\n",
      "No project info available\n",
      "cesm model version found: release-cesm2.1.5\n",
      "Batch_system_type is slurm\n",
      "job is case.run USER_REQUESTED_WALLTIME None USER_REQUESTED_QUEUE None WALLTIME_FORMAT %H:%M:%S\n",
      "job is case.st_archive USER_REQUESTED_WALLTIME None USER_REQUESTED_QUEUE None WALLTIME_FORMAT %H:%M:%S\n",
      " Creating Case directory /global/cfs/projectdirs/m4746/Projects/OAE-Efficiency-Map/cesm-cases/smyle.oae.perlmutter.alk-forcing-lat-range-basin_000.001\n"
     ]
    },
    {
     "name": "stderr",
     "output_type": "stream",
     "text": [
      "Could not find machine match for 'login29.chn' or 'login29'\n"
     ]
    },
    {
     "name": "stdout",
     "output_type": "stream",
     "text": [
      "'/global/u2/m/mattlong/codes/oae-dor-global-efficiency/notebooks/CESM-RefCase/g.e22.GOMIPECOIAF_JRA-1p4-2018.TL319_g17.SMYLE.005/SourceMods/src.cice/README' -> '/global/cfs/projectdirs/m4746/Projects/OAE-Efficiency-Map/cesm-cases/smyle.oae.perlmutter.alk-forcing-lat-range-basin_000.001/SourceMods/src.cice/README'\n",
      "'/global/u2/m/mattlong/codes/oae-dor-global-efficiency/notebooks/CESM-RefCase/g.e22.GOMIPECOIAF_JRA-1p4-2018.TL319_g17.SMYLE.005/SourceMods/src.datm/README' -> '/global/cfs/projectdirs/m4746/Projects/OAE-Efficiency-Map/cesm-cases/smyle.oae.perlmutter.alk-forcing-lat-range-basin_000.001/SourceMods/src.datm/README'\n",
      "'/global/u2/m/mattlong/codes/oae-dor-global-efficiency/notebooks/CESM-RefCase/g.e22.GOMIPECOIAF_JRA-1p4-2018.TL319_g17.SMYLE.005/SourceMods/src.drof/README' -> '/global/cfs/projectdirs/m4746/Projects/OAE-Efficiency-Map/cesm-cases/smyle.oae.perlmutter.alk-forcing-lat-range-basin_000.001/SourceMods/src.drof/README'\n",
      "'/global/u2/m/mattlong/codes/oae-dor-global-efficiency/notebooks/CESM-RefCase/g.e22.GOMIPECOIAF_JRA-1p4-2018.TL319_g17.SMYLE.005/SourceMods/src.drv/README' -> '/global/cfs/projectdirs/m4746/Projects/OAE-Efficiency-Map/cesm-cases/smyle.oae.perlmutter.alk-forcing-lat-range-basin_000.001/SourceMods/src.drv/README'\n",
      "'/global/u2/m/mattlong/codes/oae-dor-global-efficiency/notebooks/CESM-RefCase/g.e22.GOMIPECOIAF_JRA-1p4-2018.TL319_g17.SMYLE.005/SourceMods/src.pop/README' -> '/global/cfs/projectdirs/m4746/Projects/OAE-Efficiency-Map/cesm-cases/smyle.oae.perlmutter.alk-forcing-lat-range-basin_000.001/SourceMods/src.pop/README'\n",
      "'/global/u2/m/mattlong/codes/oae-dor-global-efficiency/notebooks/CESM-RefCase/g.e22.GOMIPECOIAF_JRA-1p4-2018.TL319_g17.SMYLE.005/SourceMods/src.pop/forcing_shf.F90' -> '/global/cfs/projectdirs/m4746/Projects/OAE-Efficiency-Map/cesm-cases/smyle.oae.perlmutter.alk-forcing-lat-range-basin_000.001/SourceMods/src.pop/forcing_shf.F90'\n",
      "'/global/u2/m/mattlong/codes/oae-dor-global-efficiency/notebooks/CESM-RefCase/g.e22.GOMIPECOIAF_JRA-1p4-2018.TL319_g17.SMYLE.005/SourceMods/src.share/README' -> '/global/cfs/projectdirs/m4746/Projects/OAE-Efficiency-Map/cesm-cases/smyle.oae.perlmutter.alk-forcing-lat-range-basin_000.001/SourceMods/src.share/README'\n",
      "'/global/u2/m/mattlong/codes/oae-dor-global-efficiency/notebooks/CESM-RefCase/g.e22.GOMIPECOIAF_JRA-1p4-2018.TL319_g17.SMYLE.005/SourceMods/src.siac/README' -> '/global/cfs/projectdirs/m4746/Projects/OAE-Efficiency-Map/cesm-cases/smyle.oae.perlmutter.alk-forcing-lat-range-basin_000.001/SourceMods/src.siac/README'\n",
      "'/global/u2/m/mattlong/codes/oae-dor-global-efficiency/notebooks/CESM-RefCase/g.e22.GOMIPECOIAF_JRA-1p4-2018.TL319_g17.SMYLE.005/SourceMods/src.ww3/README' -> '/global/cfs/projectdirs/m4746/Projects/OAE-Efficiency-Map/cesm-cases/smyle.oae.perlmutter.alk-forcing-lat-range-basin_000.001/SourceMods/src.ww3/README'\n"
     ]
    },
    {
     "name": "stderr",
     "output_type": "stream",
     "text": [
      "INFO: Running consistency check for /global/u2/m/mattlong/codes/oae-dor-global-efficiency/notebooks/SourceMods-OAE/src.pop.full-output/diagnostics_latest.yaml\n",
      "INFO: Writing /global/cfs/projectdirs/m4746/Projects/OAE-Efficiency-Map/cesm-cases/smyle.oae.perlmutter.alk-forcing-lat-range-basin_000.001/SourceMods/src.pop/diagnostics_latest.json\n"
     ]
    },
    {
     "name": "stdout",
     "output_type": "stream",
     "text": [
      "Setting resource.RLIMIT_STACK to -1 from (8388608, -1)\n",
      "job is case.run USER_REQUESTED_WALLTIME 12:00:00 USER_REQUESTED_QUEUE regular WALLTIME_FORMAT %H:%M:%S\n",
      "Creating batch scripts\n",
      "Writing case.run script from input template /global/u2/m/mattlong/codes/release-cesm2.1.5-SMYLE/cime/config/cesm/machines/template.case.run\n"
     ]
    },
    {
     "name": "stderr",
     "output_type": "stream",
     "text": [
      "/global/cfs/projectdirs/m4746/Projects/OAE-Efficiency-Map/cesm-cases/smyle.oae.perlmutter.alk-forcing-lat-range-basin_000.001/env_mach_specific.xml already exists, delete to replace\n"
     ]
    },
    {
     "name": "stdout",
     "output_type": "stream",
     "text": [
      "Creating file .case.run\n",
      "Writing case.st_archive script from input template /global/u2/m/mattlong/codes/release-cesm2.1.5-SMYLE/cime/config/cesm/machines/template.st_archive\n",
      "Creating file case.st_archive\n",
      "Creating user_nl_xxx files for components and cpl\n",
      "If an old case build already exists, might want to run 'case.build --clean' before building\n",
      "You can now run './preview_run' to get more info on how your case will be run\n",
      "/global/u2/m/mattlong/codes/oae-dor-global-efficiency/notebooks/CESM-RefCase/g.e22.GOMIPECOIAF_JRA-1p4-2018.TL319_g17.SMYLE.005/user_nl_drof -> /global/cfs/projectdirs/m4746/Projects/OAE-Efficiency-Map/cesm-cases/smyle.oae.perlmutter.alk-forcing-lat-range-basin_000.001/user_nl_drof\n",
      "/global/u2/m/mattlong/codes/oae-dor-global-efficiency/notebooks/CESM-RefCase/g.e22.GOMIPECOIAF_JRA-1p4-2018.TL319_g17.SMYLE.005/user_nl_pop -> /global/cfs/projectdirs/m4746/Projects/OAE-Efficiency-Map/cesm-cases/smyle.oae.perlmutter.alk-forcing-lat-range-basin_000.001/user_nl_pop\n",
      "/global/u2/m/mattlong/codes/oae-dor-global-efficiency/notebooks/CESM-RefCase/g.e22.GOMIPECOIAF_JRA-1p4-2018.TL319_g17.SMYLE.005/user_nl_datm -> /global/cfs/projectdirs/m4746/Projects/OAE-Efficiency-Map/cesm-cases/smyle.oae.perlmutter.alk-forcing-lat-range-basin_000.001/user_nl_datm\n",
      "/global/u2/m/mattlong/codes/oae-dor-global-efficiency/notebooks/CESM-RefCase/g.e22.GOMIPECOIAF_JRA-1p4-2018.TL319_g17.SMYLE.005/user_nl_ww -> /global/cfs/projectdirs/m4746/Projects/OAE-Efficiency-Map/cesm-cases/smyle.oae.perlmutter.alk-forcing-lat-range-basin_000.001/user_nl_ww\n",
      "/global/u2/m/mattlong/codes/oae-dor-global-efficiency/notebooks/CESM-RefCase/g.e22.GOMIPECOIAF_JRA-1p4-2018.TL319_g17.SMYLE.005/user_nl_cice -> /global/cfs/projectdirs/m4746/Projects/OAE-Efficiency-Map/cesm-cases/smyle.oae.perlmutter.alk-forcing-lat-range-basin_000.001/user_nl_cice\n",
      "/global/u2/m/mattlong/codes/oae-dor-global-efficiency/notebooks/CESM-RefCase/g.e22.GOMIPECOIAF_JRA-1p4-2018.TL319_g17.SMYLE.005/user_nl_cpl -> /global/cfs/projectdirs/m4746/Projects/OAE-Efficiency-Map/cesm-cases/smyle.oae.perlmutter.alk-forcing-lat-range-basin_000.001/user_nl_cpl\n",
      "/global/u2/m/mattlong/codes/oae-dor-global-efficiency/notebooks/CESM-RefCase/g.e22.GOMIPECOIAF_JRA-1p4-2018.TL319_g17.SMYLE.005/user_datm.streams.txt.co2tseries.omip -> /global/cfs/projectdirs/m4746/Projects/OAE-Efficiency-Map/cesm-cases/smyle.oae.perlmutter.alk-forcing-lat-range-basin_000.001/user_datm.streams.txt.co2tseries.omip\n",
      "/global/u2/m/mattlong/codes/oae-dor-global-efficiency/notebooks/CESM-RefCase/g.e22.GOMIPECOIAF_JRA-1p4-2018.TL319_g17.SMYLE.005/user_datm.streams.txt.presaero.cesm2_SMYLE -> /global/cfs/projectdirs/m4746/Projects/OAE-Efficiency-Map/cesm-cases/smyle.oae.perlmutter.alk-forcing-lat-range-basin_000.001/user_datm.streams.txt.presaero.cesm2_SMYLE\n",
      "/global/u2/m/mattlong/codes/oae-dor-global-efficiency/notebooks/CESM-RefCase/g.e22.GOMIPECOIAF_JRA-1p4-2018.TL319_g17.SMYLE.005/user_datm.streams.txt.presaero.clim_1850 -> /global/cfs/projectdirs/m4746/Projects/OAE-Efficiency-Map/cesm-cases/smyle.oae.perlmutter.alk-forcing-lat-range-basin_000.001/user_datm.streams.txt.presaero.clim_1850\n",
      "Building case in directory /global/cfs/cdirs/m4746/Projects/OAE-Efficiency-Map/cesm-cases/smyle.oae.perlmutter.alk-forcing-lat-range-basin_000.001\n",
      "sharedlib_only is False\n",
      "model_only is False\n",
      "Setting resource.RLIMIT_STACK to -1 from (8388608, -1)\n",
      "Generating component namelists as part of build\n",
      "GET_REFCASE is false, the user is expected to stage the refcase to the run directory.\n",
      "Creating component namelists\n",
      "   Calling /global/u2/m/mattlong/codes/release-cesm2.1.5-SMYLE/cime/src/components/data_comps/datm/cime_config/buildnml\n",
      "   Calling /global/u2/m/mattlong/codes/release-cesm2.1.5-SMYLE/cime/src/components/stub_comps/slnd/cime_config/buildnml\n",
      "   Calling /global/u2/m/mattlong/codes/release-cesm2.1.5-SMYLE/components/cice//cime_config/buildnml\n",
      "     ...buildnml calling cice buildcpp to set build time options\n",
      "   Calling /global/u2/m/mattlong/codes/release-cesm2.1.5-SMYLE/components/pop//cime_config/buildnml\n",
      "     ... buildnml: calling pop buildcpp to set build time options\n",
      "   Calling /global/u2/m/mattlong/codes/release-cesm2.1.5-SMYLE/cime/src/components/data_comps/drof/cime_config/buildnml\n",
      "   Calling /global/u2/m/mattlong/codes/release-cesm2.1.5-SMYLE/cime/src/components/stub_comps/sglc/cime_config/buildnml\n",
      "   Calling /global/u2/m/mattlong/codes/release-cesm2.1.5-SMYLE/components/ww3//cime_config/buildnml\n",
      "   Calling /global/u2/m/mattlong/codes/release-cesm2.1.5-SMYLE/cime/src/components/data_comps/desp/cime_config/buildnml\n",
      "   Calling /global/u2/m/mattlong/codes/release-cesm2.1.5-SMYLE/cime/src/drivers/mct/cime_config/buildnml\n",
      "Finished creating component namelists\n",
      "Building gptl with output to file /pscratch/sd/m/mattlong/smyle.oae.perlmutter.alk-forcing-lat-range-basin_000.001/bld/gptl.bldlog.240830-183518\n",
      "   Calling /global/u2/m/mattlong/codes/release-cesm2.1.5-SMYLE/cime/src/build_scripts/buildlib.gptl\n",
      "Building mct with output to file /pscratch/sd/m/mattlong/smyle.oae.perlmutter.alk-forcing-lat-range-basin_000.001/bld/mct.bldlog.240830-183518\n",
      "   Calling /global/u2/m/mattlong/codes/release-cesm2.1.5-SMYLE/cime/src/build_scripts/buildlib.mct\n",
      "Building pio with output to file /pscratch/sd/m/mattlong/smyle.oae.perlmutter.alk-forcing-lat-range-basin_000.001/bld/pio.bldlog.240830-183518\n",
      "   Calling /global/u2/m/mattlong/codes/release-cesm2.1.5-SMYLE/cime/src/build_scripts/buildlib.pio\n",
      "Component pio build complete with 2 warnings\n",
      "Building csm_share with output to file /pscratch/sd/m/mattlong/smyle.oae.perlmutter.alk-forcing-lat-range-basin_000.001/bld/csm_share.bldlog.240830-183518\n",
      "   Calling /global/u2/m/mattlong/codes/release-cesm2.1.5-SMYLE/cime/src/build_scripts/buildlib.csm_share\n",
      "Component csm_share build complete with 16 warnings\n",
      "Building atm with output to /pscratch/sd/m/mattlong/smyle.oae.perlmutter.alk-forcing-lat-range-basin_000.001/bld/atm.bldlog.240830-183518\n",
      "Building lnd with output to /pscratch/sd/m/mattlong/smyle.oae.perlmutter.alk-forcing-lat-range-basin_000.001/bld/lnd.bldlog.240830-183518\n",
      "Building ice with output to /pscratch/sd/m/mattlong/smyle.oae.perlmutter.alk-forcing-lat-range-basin_000.001/bld/ice.bldlog.240830-183518\n",
      "Building ocn with output to /pscratch/sd/m/mattlong/smyle.oae.perlmutter.alk-forcing-lat-range-basin_000.001/bld/ocn.bldlog.240830-183518\n",
      "Building rof with output to /pscratch/sd/m/mattlong/smyle.oae.perlmutter.alk-forcing-lat-range-basin_000.001/bld/rof.bldlog.240830-183518\n",
      "Building glc with output to /pscratch/sd/m/mattlong/smyle.oae.perlmutter.alk-forcing-lat-range-basin_000.001/bld/glc.bldlog.240830-183518\n",
      "Building wav with output to /pscratch/sd/m/mattlong/smyle.oae.perlmutter.alk-forcing-lat-range-basin_000.001/bld/wav.bldlog.240830-183518\n",
      "Building esp with output to /pscratch/sd/m/mattlong/smyle.oae.perlmutter.alk-forcing-lat-range-basin_000.001/bld/esp.bldlog.240830-183518\n",
      "sglc built in 5.366384 seconds\n",
      "slnd built in 5.375536 seconds\n",
      "drof built in 6.119132 seconds\n",
      "desp built in 6.461527 seconds\n",
      "datm built in 7.089038 seconds\n",
      "ww built in 26.130406 seconds\n",
      "Component ice build complete with 1 warnings\n",
      "cice built in 49.676901 seconds\n",
      "Component ocn build complete with 26 warnings\n",
      "pop built in 291.852631 seconds\n",
      "Building cesm with output to /pscratch/sd/m/mattlong/smyle.oae.perlmutter.alk-forcing-lat-range-basin_000.001/bld/cesm.bldlog.240830-183518 \n",
      "Time spent not building: 3.279907 sec\n",
      "Time spent building: 390.273550 sec\n",
      "MODEL BUILD HAS FINISHED SUCCESSFULLY\n"
     ]
    },
    {
     "name": "stderr",
     "output_type": "stream",
     "text": [
      "\n",
      "_______________________________________________________________________________________________________\n",
      "     The Extreme-Scale Scientific Software Stack (E4S) is accessible via the\n",
      "Spack package manager.\n",
      "\n",
      "     In order to access the production stack, you will need to load a spack\n",
      "environment. Here are some tips to get started:\n",
      "\n",
      "\n",
      "     'spack env list' - List all Spack environments\n",
      "     'spack env activate gcc' - Activate the \"gcc\" Spack environment\n",
      "     'spack env status' - Display the active Spack environment\n",
      "     'spack load amrex' - Load the \"amrex\" Spack package into your user\n",
      "environment\n",
      "\n",
      "     For additional support, please refer to the following references:\n",
      "\n",
      "       NERSC E4S Documentation: https://docs.nersc.gov/applications/e4s/\n",
      "       E4S Documentation: https://e4s.readthedocs.io\n",
      "       Spack Documentation: https://spack.readthedocs.io/en/latest/\n",
      "       Spack Slack: https://spackpm.slack.com\n",
      "\n",
      "\n",
      "______________________________________________________________________________________________________\n",
      "     \n"
     ]
    },
    {
     "name": "stdout",
     "output_type": "stream",
     "text": [
      "Setting resource.RLIMIT_STACK to -1 from (8388608, -1)\n",
      "GET_REFCASE is false, the user is expected to stage the refcase to the run directory.\n",
      "Creating component namelists\n",
      "   Calling /global/u2/m/mattlong/codes/release-cesm2.1.5-SMYLE/cime/src/components/data_comps/datm/cime_config/buildnml\n",
      "   Calling /global/u2/m/mattlong/codes/release-cesm2.1.5-SMYLE/cime/src/components/stub_comps/slnd/cime_config/buildnml\n",
      "   Calling /global/u2/m/mattlong/codes/release-cesm2.1.5-SMYLE/components/cice//cime_config/buildnml\n",
      "   Calling /global/u2/m/mattlong/codes/release-cesm2.1.5-SMYLE/components/pop//cime_config/buildnml\n",
      "   Calling /global/u2/m/mattlong/codes/release-cesm2.1.5-SMYLE/cime/src/components/data_comps/drof/cime_config/buildnml\n",
      "   Calling /global/u2/m/mattlong/codes/release-cesm2.1.5-SMYLE/cime/src/components/stub_comps/sglc/cime_config/buildnml\n",
      "   Calling /global/u2/m/mattlong/codes/release-cesm2.1.5-SMYLE/components/ww3//cime_config/buildnml\n",
      "   Calling /global/u2/m/mattlong/codes/release-cesm2.1.5-SMYLE/cime/src/components/data_comps/desp/cime_config/buildnml\n",
      "   Calling /global/u2/m/mattlong/codes/release-cesm2.1.5-SMYLE/cime/src/drivers/mct/cime_config/buildnml\n",
      "Finished creating component namelists\n",
      "Checking that inputdata is available as part of case submission\n",
      "Setting resource.RLIMIT_STACK to -1 from (-1, -1)\n",
      "Loading input file list: 'Buildconf/cpl.input_data_list'\n",
      "Loading input file list: 'Buildconf/pop.input_data_list'\n",
      "Loading input file list: 'Buildconf/ww3.input_data_list'\n",
      "Loading input file list: 'Buildconf/datm.input_data_list'\n",
      "Loading input file list: 'Buildconf/desp.input_data_list'\n",
      "Loading input file list: 'Buildconf/drof.input_data_list'\n",
      "Loading input file list: 'Buildconf/cice.input_data_list'\n",
      "GET_REFCASE is false, the user is expected to stage the refcase to the run directory.\n",
      "GET_REFCASE is false, the user is expected to stage the refcase to the run directory.\n",
      "Creating component namelists\n",
      "Finished creating component namelists\n",
      "Check case OK\n",
      "Submitting job script sbatch --time 12:00:00 -q regular --account m4746 .case.run --resubmit\n"
     ]
    },
    {
     "name": "stderr",
     "output_type": "stream",
     "text": [
      "submit_jobs case.run\n",
      "Submit job case.run\n"
     ]
    },
    {
     "name": "stdout",
     "output_type": "stream",
     "text": [
      "Submitted job id is 30009348\n",
      "Submitting job script sbatch --time 12:00:00 -q regular --account m4746  --dependency=afterok:30009348 case.st_archive --resubmit\n"
     ]
    },
    {
     "name": "stderr",
     "output_type": "stream",
     "text": [
      "Submit job case.st_archive\n"
     ]
    },
    {
     "name": "stdout",
     "output_type": "stream",
     "text": [
      "Submitted job id is 30009349\n",
      "Submitted job case.run with id 30009348\n",
      "Submitted job case.st_archive with id 30009349\n"
     ]
    }
   ],
   "source": [
    "clobber = True\n",
    "\n",
    "run_only_index_list = [0] # use this list to run only select indexes \n",
    "\n",
    "for n, f in enumerate(forcing_files):\n",
    "\n",
    "    if n not in run_only_index_list:\n",
    "        continue\n",
    "\n",
    "    alk_forcing = os.path.basename(f).replace('.nc', '')\n",
    "    case = f\"smyle.oae.{project.mach}.{alk_forcing}.001\"\n",
    "\n",
    "    oae_smyle.create_oae_case(\n",
    "        case, \n",
    "        alk_forcing_file=f, \n",
    "        submit=True, \n",
    "        clobber=clobber, \n",
    "        curtail_output=False,\n",
    "        stop_n=15,\n",
    "        stop_option=\"nyear\",\n",
    "        wallclock=\"12:00:00\",\n",
    "        resubmit=0,\n",
    "    )"
   ]
  },
  {
   "cell_type": "code",
   "execution_count": null,
   "id": "1abe54a9-b9ca-47db-8e20-3257be27718a",
   "metadata": {},
   "outputs": [],
   "source": []
  }
 ],
 "metadata": {
  "kernelspec": {
   "display_name": "cworthy",
   "language": "python",
   "name": "env"
  },
  "language_info": {
   "codemirror_mode": {
    "name": "ipython",
    "version": 3
   },
   "file_extension": ".py",
   "mimetype": "text/x-python",
   "name": "python",
   "nbconvert_exporter": "python",
   "pygments_lexer": "ipython3",
   "version": "3.12.5"
  }
 },
 "nbformat": 4,
 "nbformat_minor": 5
}
