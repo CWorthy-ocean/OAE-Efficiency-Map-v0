{
 "cells": [
  {
   "cell_type": "code",
   "execution_count": null,
   "id": "5aaef2c0-8c5f-490d-aac6-a428407fc2f8",
   "metadata": {},
   "outputs": [],
   "source": [
    "%load_ext autoreload\n",
    "%autoreload 2"
   ]
  },
  {
   "cell_type": "code",
   "execution_count": null,
   "id": "1414c944-85c0-44fe-8c2f-cd46cb926b0d",
   "metadata": {},
   "outputs": [],
   "source": [
    "import os\n",
    "import socket\n",
    "from glob import glob\n",
    "\n",
    "import oae_smyle\n",
    "import config\n",
    "\n",
    "this_notebook = 'run-cesm.ipynb'\n",
    "assert 'dec' in socket.gethostname(), (\n",
    "    'this notebook must be run on derecho login node'\n",
    ")"
   ]
  },
  {
   "cell_type": "code",
   "execution_count": null,
   "id": "45eb0596-e9d8-4b17-aacb-95d9efc44ff4",
   "metadata": {},
   "outputs": [],
   "source": [
    "alk_forcing_spec = 'lat-range-basin'\n",
    "forcing_files = sorted(\n",
    "    glob(f\"{config.dir_data}/alk-forcing-{alk_forcing_spec}.*.nc\")\n",
    ")\n",
    "run_only_index_list = [i for i in range(len(forcing_files))]\n",
    "forcing_files"
   ]
  },
  {
   "cell_type": "code",
   "execution_count": null,
   "id": "720d21e7-8f04-4415-94da-f983c1ddd62f",
   "metadata": {},
   "outputs": [],
   "source": [
    "# from subprocess import check_call\n",
    "# coderoot = \"/glade/work/klindsay/cesm2_tags/cesm2.2.0\"\n",
    "# refcase = \"g.e22.GOMIPECOIAF_JRA-1p4-2018.TL319_g17.SMYLE.005\"\n",
    "# refcase_root = \"/glade/work/klindsay/cesm22_cases/SMYLE\"\n",
    "# refcaserest_root = \"/glade/work/mclong/SMYLE-FOSI/rest\"\n",
    "# mach_dir = \"/glade/work/mlevy/codes/CESM/cesm2.2.2-dev/cime/config/cesm/machines\"\n",
    "\n",
    "# caseroot = \"/glade/derecho/scratch/mclong/test2.mach\"\n",
    "# #coderoot = \"/glade/work/mlevy/codes/CESM/cesm2.2.2-dev\"\n",
    "# check_call(\n",
    "#     [\n",
    "#         \"./create_newcase\",\n",
    "#         \"--case\",\n",
    "#         caseroot,\n",
    "#         \"--compset\",\n",
    "#         \"OMIP_DATM%JRA-1p4-2018_SLND_CICE_POP2%ECO_DROF%JRA-1p4-2018_SGLC_WW3_SIAC_SESP\",\n",
    "#         \"--res\",\n",
    "#         \"TL319_g17\",\n",
    "#         \"--project\",\n",
    "#         config.account,\n",
    "#         \"--extra-machines-dir\", \n",
    "#         mach_dir,\n",
    "#         \"--machine\", \n",
    "#         \"derecho\",\n",
    "#         \"--run-unsupported\"\n",
    "#     ],\n",
    "#     cwd=f\"{coderoot}/cime/scripts\",\n",
    "# )"
   ]
  },
  {
   "cell_type": "code",
   "execution_count": null,
   "id": "a99105cd-bf95-4535-88c1-ec52848d6d7e",
   "metadata": {
    "tags": []
   },
   "outputs": [],
   "source": [
    "clobber = True\n",
    "\n",
    "run_settings = dict(\n",
    "    stop_n=2,\n",
    "    stop_option=\"nyear\",\n",
    "    wallclock=\"12:00:00\",\n",
    "    resubmit=0,\n",
    ")\n",
    "\n",
    "run_only_index_list = [0] # use this list to run only select indexes \n",
    "\n",
    "for n, f in enumerate(forcing_files):\n",
    "\n",
    "    if n not in run_only_index_list:\n",
    "        continue\n",
    "\n",
    "    alk_forcing = os.path.basename(f).replace('.nc', '')\n",
    "    case = f\"smyle-fosi.derecho.test-2.{alk_forcing}\"\n",
    "\n",
    "    oae_smyle.create_clone(\n",
    "        case, \n",
    "        alk_forcing_file=f, \n",
    "        submit=True, \n",
    "        clobber=clobber, \n",
    "        curtail_output=False,\n",
    "        **run_settings\n",
    "    )\n"
   ]
  },
  {
   "cell_type": "code",
   "execution_count": null,
   "id": "1abe54a9-b9ca-47db-8e20-3257be27718a",
   "metadata": {},
   "outputs": [],
   "source": []
  }
 ],
 "metadata": {
  "kernelspec": {
   "display_name": "Python [conda env:miniconda3-mcdr]",
   "language": "python",
   "name": "conda-env-miniconda3-mcdr-py"
  },
  "language_info": {
   "codemirror_mode": {
    "name": "ipython",
    "version": 3
   },
   "file_extension": ".py",
   "mimetype": "text/x-python",
   "name": "python",
   "nbconvert_exporter": "python",
   "pygments_lexer": "ipython3",
   "version": "3.7.16"
  }
 },
 "nbformat": 4,
 "nbformat_minor": 5
}
