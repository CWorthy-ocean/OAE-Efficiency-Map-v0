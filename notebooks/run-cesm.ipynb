{
 "cells": [
  {
   "cell_type": "code",
   "execution_count": 1,
   "id": "5aaef2c0-8c5f-490d-aac6-a428407fc2f8",
   "metadata": {},
   "outputs": [],
   "source": [
    "%load_ext autoreload\n",
    "%autoreload 2"
   ]
  },
  {
   "cell_type": "code",
   "execution_count": 3,
   "id": "1414c944-85c0-44fe-8c2f-cd46cb926b0d",
   "metadata": {},
   "outputs": [],
   "source": [
    "import os\n",
    "import socket\n",
    "from glob import glob\n",
    "\n",
    "import oae_smyle\n",
    "import config\n",
    "\n",
    "this_notebook = 'run-cesm.ipynb'\n",
    "assert 'cheyenne' in socket.gethostname(), (\n",
    "    'this notebook must be run on cheyenne login node'\n",
    ")"
   ]
  },
  {
   "cell_type": "code",
   "execution_count": 5,
   "id": "45eb0596-e9d8-4b17-aacb-95d9efc44ff4",
   "metadata": {},
   "outputs": [
    {
     "data": {
      "text/plain": [
       "['/glade/work/mclong/oae-dor-global-efficiency/data/alk-forcing-lat-range-basin.000.nc',\n",
       " '/glade/work/mclong/oae-dor-global-efficiency/data/alk-forcing-lat-range-basin.001.nc',\n",
       " '/glade/work/mclong/oae-dor-global-efficiency/data/alk-forcing-lat-range-basin.002.nc',\n",
       " '/glade/work/mclong/oae-dor-global-efficiency/data/alk-forcing-lat-range-basin.003.nc',\n",
       " '/glade/work/mclong/oae-dor-global-efficiency/data/alk-forcing-lat-range-basin.004.nc',\n",
       " '/glade/work/mclong/oae-dor-global-efficiency/data/alk-forcing-lat-range-basin.005.nc',\n",
       " '/glade/work/mclong/oae-dor-global-efficiency/data/alk-forcing-lat-range-basin.006.nc',\n",
       " '/glade/work/mclong/oae-dor-global-efficiency/data/alk-forcing-lat-range-basin.007.nc',\n",
       " '/glade/work/mclong/oae-dor-global-efficiency/data/alk-forcing-lat-range-basin.008.nc',\n",
       " '/glade/work/mclong/oae-dor-global-efficiency/data/alk-forcing-lat-range-basin.009.nc',\n",
       " '/glade/work/mclong/oae-dor-global-efficiency/data/alk-forcing-lat-range-basin.010.nc',\n",
       " '/glade/work/mclong/oae-dor-global-efficiency/data/alk-forcing-lat-range-basin.011.nc']"
      ]
     },
     "execution_count": 5,
     "metadata": {},
     "output_type": "execute_result"
    }
   ],
   "source": [
    "alk_forcing_spec = 'lat-range-basin'\n",
    "forcing_files = sorted(\n",
    "    glob(f\"{config.dir_data}/alk-forcing-{alk_forcing_spec}.*.nc\")\n",
    ")\n",
    "forcing_files"
   ]
  },
  {
   "cell_type": "code",
   "execution_count": null,
   "id": "a99105cd-bf95-4535-88c1-ec52848d6d7e",
   "metadata": {
    "tags": []
   },
   "outputs": [
    {
     "name": "stdout",
     "output_type": "stream",
     "text": [
      " Successfully created new case smyle-fosi.lat-range-basin.alk-forcing-lat-range-basin.000 from clone case g.e22.GOMIPECOIAF_JRA-1p4-2018.TL319_g17.SMYLE.005 \n",
      "Setting Environment OMP_STACKSIZE=1024M\n",
      "Setting Environment TMPDIR=/glade/scratch/mclong\n",
      "Setting Environment MPI_TYPE_DEPTH=16\n",
      "Setting Environment MPI_IB_CONGESTED=1\n",
      "Setting resource.RLIMIT_STACK to -1 from (307200000, -1)\n",
      "job is case.run USER_REQUESTED_WALLTIME None USER_REQUESTED_QUEUE regular WALLTIME_FORMAT %H:%M:%S\n",
      "Creating batch scripts\n",
      "Writing case.run script from input template /glade/work/klindsay/cesm2_tags/cesm2.2.0/cime/config/cesm/machines/template.case.run\n"
     ]
    },
    {
     "name": "stderr",
     "output_type": "stream",
     "text": [
      "/glade/work/mclong/oae-dor-global-efficiency/cesm-cases/smyle-fosi.lat-range-basin.alk-forcing-lat-range-basin.000/env_mach_specific.xml already exists, delete to replace\n",
      "/glade/work/mclong/oae-dor-global-efficiency/cesm-cases/smyle-fosi.lat-range-basin.alk-forcing-lat-range-basin.000/env_mach_specific.xml already exists, delete to replace\n"
     ]
    },
    {
     "name": "stdout",
     "output_type": "stream",
     "text": [
      "Creating file .case.run\n",
      "Writing case.st_archive script from input template /glade/work/klindsay/cesm2_tags/cesm2.2.0/cime/config/cesm/machines/template.st_archive\n",
      "Creating file case.st_archive\n",
      "If an old case build already exists, might want to run 'case.build --clean' before building\n",
      "You can now run './preview_run' to get more info on how your case will be run\n"
     ]
    },
    {
     "name": "stderr",
     "output_type": "stream",
     "text": [
      "INFO: Running consistency check for /glade/u/home/mclong/codes/oae-dor-global-efficiency/notebooks/SourceMods-OAE/src.pop/diagnostics_latest.yaml\n",
      "INFO: Writing /glade/work/mclong/oae-dor-global-efficiency/cesm-cases/smyle-fosi.lat-range-basin.alk-forcing-lat-range-basin.000/SourceMods/src.pop/diagnostics_latest.json\n"
     ]
    },
    {
     "name": "stdout",
     "output_type": "stream",
     "text": [
      "Setting Environment OMP_STACKSIZE=1024M\n",
      "Setting Environment TMPDIR=/glade/scratch/mclong\n",
      "Setting Environment MPI_TYPE_DEPTH=16\n",
      "Setting Environment MPI_IB_CONGESTED=1\n",
      "Setting resource.RLIMIT_STACK to -1 from (307200000, -1)\n",
      "Machine/Decomp/Pes configuration has already been done ...skipping\n",
      "If an old case build already exists, might want to run 'case.build --clean' before building\n",
      "You can now run './preview_run' to get more info on how your case will be run\n",
      "Setting Environment OMP_STACKSIZE=1024M\n",
      "Setting Environment TMPDIR=/glade/scratch/mclong\n",
      "Setting Environment MPI_TYPE_DEPTH=16\n",
      "Setting Environment MPI_IB_CONGESTED=1\n",
      "Setting resource.RLIMIT_STACK to -1 from (307200000, -1)\n",
      "GET_REFCASE is false, the user is expected to stage the refcase to the run directory.\n",
      "Creating component namelists\n",
      "  2023-05-12 06:29:19 atm \n",
      "   Calling /glade/work/klindsay/cesm2_tags/cesm2.2.0/cime/src/components/data_comps_mct/datm/cime_config/buildnml\n",
      "  2023-05-12 06:29:19 lnd \n",
      "   Calling /glade/work/klindsay/cesm2_tags/cesm2.2.0/cime/src/components/stub_comps_mct/slnd/cime_config/buildnml\n",
      "  2023-05-12 06:29:19 ice \n",
      "   Calling /glade/work/klindsay/cesm2_tags/cesm2.2.0/cime/../components/cice//cime_config/buildnml\n",
      "     ...buildnml calling cice buildcpp to set build time options\n",
      "  2023-05-12 06:29:19 ocn \n",
      "   Calling /glade/work/klindsay/cesm2_tags/cesm2.2.0/cime/../components/pop//cime_config/buildnml\n",
      "     ... buildnml: calling pop buildcpp to set build time options\n",
      "  2023-05-12 06:29:21 rof \n",
      "   Calling /glade/work/klindsay/cesm2_tags/cesm2.2.0/cime/src/components/data_comps_mct/drof/cime_config/buildnml\n",
      "  2023-05-12 06:29:21 glc \n",
      "   Calling /glade/work/klindsay/cesm2_tags/cesm2.2.0/cime/src/components/stub_comps_mct/sglc/cime_config/buildnml\n",
      "  2023-05-12 06:29:21 wav \n",
      "   Calling /glade/work/klindsay/cesm2_tags/cesm2.2.0/cime/../components/ww3//cime_config/buildnml\n",
      "  2023-05-12 06:29:21 iac \n",
      "   Running /glade/work/klindsay/cesm2_tags/cesm2.2.0/cime/src/components/stub_comps_mct/siac/cime_config/buildnml \n",
      "  2023-05-12 06:29:21 esp \n",
      "   Calling /glade/work/klindsay/cesm2_tags/cesm2.2.0/cime/src/components/stub_comps_mct/sesp/cime_config/buildnml\n",
      "  2023-05-12 06:29:21 cpl \n",
      "   Calling /glade/work/klindsay/cesm2_tags/cesm2.2.0/cime/src/drivers/mct/cime_config/buildnml\n"
     ]
    },
    {
     "name": "stderr",
     "output_type": "stream",
     "text": [
      "Traceback (most recent call last):\n",
      "  File \"/ncar/opt/sam/sam_validate.py\", line 117, in <module>\n",
      "    print_shadow_info(user)\n",
      "  File \"/ncar/opt/sam/sam_validate.py\", line 84, in print_shadow_info\n",
      "    print(\"gecos: %s\" % pw.pw_gecos)\n",
      "IOError: [Errno 32] Broken pipe\n"
     ]
    },
    {
     "name": "stdout",
     "output_type": "stream",
     "text": [
      "Submitting command to PBS using account P41110002:\n",
      "    ./case.build\n",
      "\n",
      "Waiting for job 165577.chadmin1.ib0.cheyenne.ucar.edu to start ... \n",
      "\n",
      "\n",
      "Building case in directory /glade/work/mclong/oae-dor-global-efficiency/cesm-cases/smyle-fosi.lat-range-basin.alk-forcing-lat-range-basin.000\n",
      "sharedlib_only is False\n",
      "model_only is False\n",
      "Setting Environment OMP_STACKSIZE=1024M\n",
      "Setting Environment TMPDIR=/glade/scratch/mclong\n",
      "Setting Environment MPI_TYPE_DEPTH=16\n",
      "Setting Environment MPI_IB_CONGESTED=1\n",
      "Setting resource.RLIMIT_STACK to -1 from (-1, -1)\n",
      "Generating component namelists as part of build\n",
      "GET_REFCASE is false, the user is expected to stage the refcase to the run directory.\n",
      "Creating component namelists\n",
      "  2023-05-12 06:29:35 atm \n",
      "   Calling /glade/work/klindsay/cesm2_tags/cesm2.2.0/cime/src/components/data_comps_mct/datm/cime_config/buildnml\n",
      "  2023-05-12 06:29:35 lnd \n",
      "   Calling /glade/work/klindsay/cesm2_tags/cesm2.2.0/cime/src/components/stub_comps_mct/slnd/cime_config/buildnml\n",
      "  2023-05-12 06:29:35 ice \n",
      "   Calling /glade/work/klindsay/cesm2_tags/cesm2.2.0/cime/../components/cice//cime_config/buildnml\n",
      "     ...buildnml calling cice buildcpp to set build time options\n",
      "  2023-05-12 06:29:36 ocn \n",
      "   Calling /glade/work/klindsay/cesm2_tags/cesm2.2.0/cime/../components/pop//cime_config/buildnml\n",
      "     ... buildnml: calling pop buildcpp to set build time options\n",
      "  2023-05-12 06:29:38 rof \n",
      "   Calling /glade/work/klindsay/cesm2_tags/cesm2.2.0/cime/src/components/data_comps_mct/drof/cime_config/buildnml\n",
      "  2023-05-12 06:29:38 glc \n",
      "   Calling /glade/work/klindsay/cesm2_tags/cesm2.2.0/cime/src/components/stub_comps_mct/sglc/cime_config/buildnml\n",
      "  2023-05-12 06:29:38 wav \n",
      "   Calling /glade/work/klindsay/cesm2_tags/cesm2.2.0/cime/../components/ww3//cime_config/buildnml\n",
      "  2023-05-12 06:29:38 iac \n",
      "   Running /glade/work/klindsay/cesm2_tags/cesm2.2.0/cime/src/components/stub_comps_mct/siac/cime_config/buildnml \n",
      "  2023-05-12 06:29:38 esp \n",
      "   Calling /glade/work/klindsay/cesm2_tags/cesm2.2.0/cime/src/components/stub_comps_mct/sesp/cime_config/buildnml\n",
      "  2023-05-12 06:29:38 cpl \n",
      "   Calling /glade/work/klindsay/cesm2_tags/cesm2.2.0/cime/src/drivers/mct/cime_config/buildnml\n",
      "Building gptl with output to file /glade/scratch/mclong/smyle-fosi.lat-range-basin.alk-forcing-lat-range-basin.000/bld/gptl.bldlog.230512-062933\n",
      "   Calling /glade/work/klindsay/cesm2_tags/cesm2.2.0/cime/src/build_scripts/buildlib.gptl\n",
      "Building mct with output to file /glade/scratch/mclong/smyle-fosi.lat-range-basin.alk-forcing-lat-range-basin.000/bld/mct.bldlog.230512-062933\n",
      "   Calling /glade/work/klindsay/cesm2_tags/cesm2.2.0/cime/src/build_scripts/buildlib.mct\n",
      "Building pio with output to file /glade/scratch/mclong/smyle-fosi.lat-range-basin.alk-forcing-lat-range-basin.000/bld/pio.bldlog.230512-062933\n",
      "   Calling /glade/work/klindsay/cesm2_tags/cesm2.2.0/cime/src/build_scripts/buildlib.pio\n",
      "Component pio build complete with 2 warnings\n",
      "Building csm_share with output to file /glade/scratch/mclong/smyle-fosi.lat-range-basin.alk-forcing-lat-range-basin.000/bld/csm_share.bldlog.230512-062933\n",
      "   Calling /glade/work/klindsay/cesm2_tags/cesm2.2.0/cime/src/build_scripts/buildlib.csm_share\n",
      "Component csm_share build complete with 20 warnings\n",
      "         - Building atm Library \n",
      "Building atm with output to /glade/scratch/mclong/smyle-fosi.lat-range-basin.alk-forcing-lat-range-basin.000/bld/atm.bldlog.230512-062933\n",
      "         - Building lnd Library \n",
      "Building lnd with output to /glade/scratch/mclong/smyle-fosi.lat-range-basin.alk-forcing-lat-range-basin.000/bld/lnd.bldlog.230512-062933\n",
      "         - Building ice Library \n",
      "Building ice with output to /glade/scratch/mclong/smyle-fosi.lat-range-basin.alk-forcing-lat-range-basin.000/bld/ice.bldlog.230512-062933\n",
      "         - Building ocn Library \n",
      "Building ocn with output to /glade/scratch/mclong/smyle-fosi.lat-range-basin.alk-forcing-lat-range-basin.000/bld/ocn.bldlog.230512-062933\n",
      "         - Building rof Library \n",
      "Building rof with output to /glade/scratch/mclong/smyle-fosi.lat-range-basin.alk-forcing-lat-range-basin.000/bld/rof.bldlog.230512-062933\n",
      "         - Building glc Library \n",
      "Building glc with output to /glade/scratch/mclong/smyle-fosi.lat-range-basin.alk-forcing-lat-range-basin.000/bld/glc.bldlog.230512-062933\n",
      "         - Building wav Library \n",
      "Building wav with output to /glade/scratch/mclong/smyle-fosi.lat-range-basin.alk-forcing-lat-range-basin.000/bld/wav.bldlog.230512-062933\n",
      "         - Building iac Library \n",
      "Building iac with output to /glade/scratch/mclong/smyle-fosi.lat-range-basin.alk-forcing-lat-range-basin.000/bld/iac.bldlog.230512-062933\n",
      "         - Building esp Library \n",
      "Building esp with output to /glade/scratch/mclong/smyle-fosi.lat-range-basin.alk-forcing-lat-range-basin.000/bld/esp.bldlog.230512-062933\n",
      "sesp built in 1.602548 seconds\n",
      "sglc built in 1.651457 seconds\n",
      "slnd built in 1.698537 seconds\n",
      "siac built in 1.799428 seconds\n",
      "drof built in 3.836254 seconds\n",
      "datm built in 5.798769 seconds\n"
     ]
    }
   ],
   "source": [
    "clobber = True\n",
    "\n",
    "run_settings = dict(\n",
    "    stop_n=5,\n",
    "    stop_option=\"nyear\",\n",
    "    job_queue=\"economy\",\n",
    "    wallclock=\"12:00:00\",\n",
    "    resubmit=0, \n",
    ")\n",
    "\n",
    "for f in forcing_files:\n",
    "    alk_forcing = os.path.basename(f).replace('.nc', '')\n",
    "    case = f\"smyle-fosi.{alk_forcing_spec}.{alk_forcing}\"\n",
    "    oae_smyle.create_clone(\n",
    "        case, alk_forcing_file=f, submit=True, clobber=clobber, **run_settings\n",
    "    )\n",
    "    \n",
    "    break"
   ]
  },
  {
   "cell_type": "code",
   "execution_count": null,
   "id": "32e03e42-7f25-4dae-a7a7-46f220967c60",
   "metadata": {},
   "outputs": [],
   "source": []
  }
 ],
 "metadata": {
  "kernelspec": {
   "display_name": "Python [conda env:miniconda3-mcdr]",
   "language": "python",
   "name": "conda-env-miniconda3-mcdr-py"
  },
  "language_info": {
   "codemirror_mode": {
    "name": "ipython",
    "version": 3
   },
   "file_extension": ".py",
   "mimetype": "text/x-python",
   "name": "python",
   "nbconvert_exporter": "python",
   "pygments_lexer": "ipython3",
   "version": "3.7.16"
  }
 },
 "nbformat": 4,
 "nbformat_minor": 5
}
