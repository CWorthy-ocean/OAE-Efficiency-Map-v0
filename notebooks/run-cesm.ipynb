{
 "cells": [
  {
   "cell_type": "code",
   "execution_count": 1,
   "id": "5aaef2c0-8c5f-490d-aac6-a428407fc2f8",
   "metadata": {
    "tags": []
   },
   "outputs": [],
   "source": [
    "%load_ext autoreload\n",
    "%autoreload 2"
   ]
  },
  {
   "cell_type": "code",
   "execution_count": 2,
   "id": "1414c944-85c0-44fe-8c2f-cd46cb926b0d",
   "metadata": {
    "tags": []
   },
   "outputs": [],
   "source": [
    "import os\n",
    "from glob import glob\n",
    "\n",
    "import oae_smyle\n",
    "import project"
   ]
  },
  {
   "cell_type": "code",
   "execution_count": 3,
   "id": "45eb0596-e9d8-4b17-aacb-95d9efc44ff4",
   "metadata": {
    "tags": []
   },
   "outputs": [
    {
     "data": {
      "text/plain": [
       "['/global/cfs/projectdirs/m4746/Projects/OAE-Efficiency-Map/data/alk-forcing/lat-range-basin/alk-forcing-lat-range-basin.000.nc']"
      ]
     },
     "execution_count": 3,
     "metadata": {},
     "output_type": "execute_result"
    }
   ],
   "source": [
    "alk_forcing_spec = 'lat-range-basin'\n",
    "forcing_files = sorted(\n",
    "    glob(f\"{project.dir_data}/alk-forcing/{alk_forcing_spec}/alk-forcing-{alk_forcing_spec}.*.nc\")\n",
    ")\n",
    "run_only_index_list = [i for i in range(len(forcing_files))]\n",
    "forcing_files"
   ]
  },
  {
   "cell_type": "code",
   "execution_count": 7,
   "id": "a99105cd-bf95-4535-88c1-ec52848d6d7e",
   "metadata": {
    "tags": []
   },
   "outputs": [
    {
     "name": "stdout",
     "output_type": "stream",
     "text": [
      "Did not find an alias or longname compset match for OMIP_DATM%JRA-1p4-2018_SLND_CICE_POP2%ECO_DROF%JRA-1p4-2018_SGLC_WW3_SIAC_SESP \n",
      "Compset forcing is \n",
      "ATM component is  Data driven ATM interannual JRA55 forcing, v1.4, through 2018\n",
      "LND component is Stub land component\n",
      "ICE component is Sea ICE (cice) model version 5\n",
      "OCN component is POP2 Ecosystem\n",
      "ROF component is Data runoff modelJRA55 interannual forcing, v1.4, through 2018\n",
      "GLC component is Stub glacier (land ice) component\n",
      "WAV component is Wave Watch\n",
      "ESP component is \n",
      "Pes     specification file is /global/cfs/cdirs/m4746/Projects/OAE-Efficiency-Map/codes/release-cesm2.1.5/cime/../components/pop//cime_config/config_pes.xml\n",
      "Machine is perlmutter\n",
      "Pes setting: compset_match is _DATM.*_POP2 \n",
      "Pes setting: grid          is a%TL319_l%null_oi%gx1v7_r%JRA025v2_g%null_w%ww3a_m%gx1v7 \n",
      "Pes setting: compset       is OMIP_DATM%JRA-1p4-2018_SLND_CICE_POP2%ECO_DROF%JRA-1p4-2018_SGLC_WW3_SIAC_SESP \n",
      "Pes setting: tasks       is {'NTASKS_OCN': -1, 'NTASKS_ICE': -1, 'NTASKS_CPL': -1, 'NTASKS_WAV': -1, 'NTASKS_ATM': -1, 'NTASKS_GLC': -1, 'NTASKS_LND': -1, 'NTASKS_ROF': -1} \n",
      "Pes setting: threads     is {'NTHRDS_OCN': 1, 'NTHRDS_ICE': 1, 'NTHRDS_CPL': 1, 'NTHRDS_WAV': 1, 'NTHRDS_ATM': 1, 'NTHRDS_GLC': 1, 'NTHRDS_LND': 1, 'NTHRDS_ROF': 1} \n",
      "Pes setting: rootpe      is {'ROOTPE_OCN': 0, 'ROOTPE_ICE': 0, 'ROOTPE_CPL': 0, 'ROOTPE_WAV': 0, 'ROOTPE_ATM': 0, 'ROOTPE_GLC': 0, 'ROOTPE_LND': 0, 'ROOTPE_ROF': 0} \n",
      "Pes setting: pstrid      is {} \n",
      "Pes other settings: {}\n",
      "Pes comments: Either did not recognize the resolution or the machine name specified\n",
      " Compset is: OMIP_DATM%JRA-1p4-2018_SLND_CICE_POP2%ECO_DROF%JRA-1p4-2018_SGLC_WW3_SIAC_SESP \n",
      " Grid is: a%TL319_l%null_oi%gx1v7_r%JRA025v2_g%null_w%ww3a_m%gx1v7 \n",
      " Components in compset are: ['datm', 'slnd', 'cice', 'pop', 'drof', 'sglc', 'ww3', 'siac', 'sesp', 'drv', 'dart'] \n",
      "No charge_account info available, using value from PROJECT\n",
      "No project info available\n",
      "cesm model version found: release-cesm2.1.5\n",
      "Batch_system_type is slurm\n",
      "job is case.run USER_REQUESTED_WALLTIME None USER_REQUESTED_QUEUE None WALLTIME_FORMAT %H:%M:%S\n",
      "job is case.st_archive USER_REQUESTED_WALLTIME None USER_REQUESTED_QUEUE None WALLTIME_FORMAT %H:%M:%S\n",
      " Creating Case directory /global/cfs/projectdirs/m4746/Projects/OAE-Efficiency-Map/cesm-cases/smyle.oae.perlmutter.alk-forcing-lat-range-basin.000.001\n"
     ]
    },
    {
     "name": "stderr",
     "output_type": "stream",
     "text": [
      "Could not find machine match for 'login29.chn' or 'login29'\n"
     ]
    },
    {
     "name": "stdout",
     "output_type": "stream",
     "text": [
      "'/global/u2/m/mattlong/codes/oae-dor-global-efficiency/notebooks/CESM-RefCase/g.e22.GOMIPECOIAF_JRA-1p4-2018.TL319_g17.SMYLE.005/SourceMods/src.cice/README' -> '/global/cfs/projectdirs/m4746/Projects/OAE-Efficiency-Map/cesm-cases/smyle.oae.perlmutter.alk-forcing-lat-range-basin.000.001/SourceMods/src.cice/README'\n",
      "'/global/u2/m/mattlong/codes/oae-dor-global-efficiency/notebooks/CESM-RefCase/g.e22.GOMIPECOIAF_JRA-1p4-2018.TL319_g17.SMYLE.005/SourceMods/src.datm/README' -> '/global/cfs/projectdirs/m4746/Projects/OAE-Efficiency-Map/cesm-cases/smyle.oae.perlmutter.alk-forcing-lat-range-basin.000.001/SourceMods/src.datm/README'\n",
      "'/global/u2/m/mattlong/codes/oae-dor-global-efficiency/notebooks/CESM-RefCase/g.e22.GOMIPECOIAF_JRA-1p4-2018.TL319_g17.SMYLE.005/SourceMods/src.drof/README' -> '/global/cfs/projectdirs/m4746/Projects/OAE-Efficiency-Map/cesm-cases/smyle.oae.perlmutter.alk-forcing-lat-range-basin.000.001/SourceMods/src.drof/README'\n",
      "'/global/u2/m/mattlong/codes/oae-dor-global-efficiency/notebooks/CESM-RefCase/g.e22.GOMIPECOIAF_JRA-1p4-2018.TL319_g17.SMYLE.005/SourceMods/src.drv/README' -> '/global/cfs/projectdirs/m4746/Projects/OAE-Efficiency-Map/cesm-cases/smyle.oae.perlmutter.alk-forcing-lat-range-basin.000.001/SourceMods/src.drv/README'\n",
      "'/global/u2/m/mattlong/codes/oae-dor-global-efficiency/notebooks/CESM-RefCase/g.e22.GOMIPECOIAF_JRA-1p4-2018.TL319_g17.SMYLE.005/SourceMods/src.pop/README' -> '/global/cfs/projectdirs/m4746/Projects/OAE-Efficiency-Map/cesm-cases/smyle.oae.perlmutter.alk-forcing-lat-range-basin.000.001/SourceMods/src.pop/README'\n",
      "'/global/u2/m/mattlong/codes/oae-dor-global-efficiency/notebooks/CESM-RefCase/g.e22.GOMIPECOIAF_JRA-1p4-2018.TL319_g17.SMYLE.005/SourceMods/src.pop/forcing_shf.F90' -> '/global/cfs/projectdirs/m4746/Projects/OAE-Efficiency-Map/cesm-cases/smyle.oae.perlmutter.alk-forcing-lat-range-basin.000.001/SourceMods/src.pop/forcing_shf.F90'\n",
      "'/global/u2/m/mattlong/codes/oae-dor-global-efficiency/notebooks/CESM-RefCase/g.e22.GOMIPECOIAF_JRA-1p4-2018.TL319_g17.SMYLE.005/SourceMods/src.share/README' -> '/global/cfs/projectdirs/m4746/Projects/OAE-Efficiency-Map/cesm-cases/smyle.oae.perlmutter.alk-forcing-lat-range-basin.000.001/SourceMods/src.share/README'\n",
      "'/global/u2/m/mattlong/codes/oae-dor-global-efficiency/notebooks/CESM-RefCase/g.e22.GOMIPECOIAF_JRA-1p4-2018.TL319_g17.SMYLE.005/SourceMods/src.siac/README' -> '/global/cfs/projectdirs/m4746/Projects/OAE-Efficiency-Map/cesm-cases/smyle.oae.perlmutter.alk-forcing-lat-range-basin.000.001/SourceMods/src.siac/README'\n",
      "'/global/u2/m/mattlong/codes/oae-dor-global-efficiency/notebooks/CESM-RefCase/g.e22.GOMIPECOIAF_JRA-1p4-2018.TL319_g17.SMYLE.005/SourceMods/src.ww3/README' -> '/global/cfs/projectdirs/m4746/Projects/OAE-Efficiency-Map/cesm-cases/smyle.oae.perlmutter.alk-forcing-lat-range-basin.000.001/SourceMods/src.ww3/README'\n"
     ]
    },
    {
     "name": "stderr",
     "output_type": "stream",
     "text": [
      "INFO: Running consistency check for /global/u2/m/mattlong/codes/oae-dor-global-efficiency/notebooks/SourceMods-OAE/src.pop.full-output/diagnostics_latest.yaml\n",
      "INFO: Writing /global/cfs/projectdirs/m4746/Projects/OAE-Efficiency-Map/cesm-cases/smyle.oae.perlmutter.alk-forcing-lat-range-basin.000.001/SourceMods/src.pop/diagnostics_latest.json\n"
     ]
    },
    {
     "name": "stdout",
     "output_type": "stream",
     "text": [
      "Setting resource.RLIMIT_STACK to -1 from (8388608, -1)\n",
      "job is case.run USER_REQUESTED_WALLTIME 12:00:00 USER_REQUESTED_QUEUE regular WALLTIME_FORMAT %H:%M:%S\n",
      "Creating batch scripts\n",
      "Writing case.run script from input template /global/cfs/cdirs/m4746/Projects/OAE-Efficiency-Map/codes/release-cesm2.1.5/cime/config/cesm/machines/template.case.run\n"
     ]
    },
    {
     "name": "stderr",
     "output_type": "stream",
     "text": [
      "/global/cfs/projectdirs/m4746/Projects/OAE-Efficiency-Map/cesm-cases/smyle.oae.perlmutter.alk-forcing-lat-range-basin.000.001/env_mach_specific.xml already exists, delete to replace\n"
     ]
    },
    {
     "name": "stdout",
     "output_type": "stream",
     "text": [
      "Creating file .case.run\n",
      "Writing case.st_archive script from input template /global/cfs/cdirs/m4746/Projects/OAE-Efficiency-Map/codes/release-cesm2.1.5/cime/config/cesm/machines/template.st_archive\n",
      "Creating file case.st_archive\n",
      "Creating user_nl_xxx files for components and cpl\n",
      "If an old case build already exists, might want to run 'case.build --clean' before building\n",
      "You can now run './preview_run' to get more info on how your case will be run\n",
      "/global/u2/m/mattlong/codes/oae-dor-global-efficiency/notebooks/CESM-RefCase/g.e22.GOMIPECOIAF_JRA-1p4-2018.TL319_g17.SMYLE.005/user_nl_drof -> /global/cfs/projectdirs/m4746/Projects/OAE-Efficiency-Map/cesm-cases/smyle.oae.perlmutter.alk-forcing-lat-range-basin.000.001/user_nl_drof\n",
      "/global/u2/m/mattlong/codes/oae-dor-global-efficiency/notebooks/CESM-RefCase/g.e22.GOMIPECOIAF_JRA-1p4-2018.TL319_g17.SMYLE.005/user_nl_pop -> /global/cfs/projectdirs/m4746/Projects/OAE-Efficiency-Map/cesm-cases/smyle.oae.perlmutter.alk-forcing-lat-range-basin.000.001/user_nl_pop\n",
      "/global/u2/m/mattlong/codes/oae-dor-global-efficiency/notebooks/CESM-RefCase/g.e22.GOMIPECOIAF_JRA-1p4-2018.TL319_g17.SMYLE.005/user_nl_datm -> /global/cfs/projectdirs/m4746/Projects/OAE-Efficiency-Map/cesm-cases/smyle.oae.perlmutter.alk-forcing-lat-range-basin.000.001/user_nl_datm\n",
      "/global/u2/m/mattlong/codes/oae-dor-global-efficiency/notebooks/CESM-RefCase/g.e22.GOMIPECOIAF_JRA-1p4-2018.TL319_g17.SMYLE.005/user_nl_ww -> /global/cfs/projectdirs/m4746/Projects/OAE-Efficiency-Map/cesm-cases/smyle.oae.perlmutter.alk-forcing-lat-range-basin.000.001/user_nl_ww\n",
      "/global/u2/m/mattlong/codes/oae-dor-global-efficiency/notebooks/CESM-RefCase/g.e22.GOMIPECOIAF_JRA-1p4-2018.TL319_g17.SMYLE.005/user_nl_cice -> /global/cfs/projectdirs/m4746/Projects/OAE-Efficiency-Map/cesm-cases/smyle.oae.perlmutter.alk-forcing-lat-range-basin.000.001/user_nl_cice\n",
      "/global/u2/m/mattlong/codes/oae-dor-global-efficiency/notebooks/CESM-RefCase/g.e22.GOMIPECOIAF_JRA-1p4-2018.TL319_g17.SMYLE.005/user_nl_cpl -> /global/cfs/projectdirs/m4746/Projects/OAE-Efficiency-Map/cesm-cases/smyle.oae.perlmutter.alk-forcing-lat-range-basin.000.001/user_nl_cpl\n",
      "/global/u2/m/mattlong/codes/oae-dor-global-efficiency/notebooks/CESM-RefCase/g.e22.GOMIPECOIAF_JRA-1p4-2018.TL319_g17.SMYLE.005/user_datm.streams.txt.co2tseries.omip -> /global/cfs/projectdirs/m4746/Projects/OAE-Efficiency-Map/cesm-cases/smyle.oae.perlmutter.alk-forcing-lat-range-basin.000.001/user_datm.streams.txt.co2tseries.omip\n",
      "/global/u2/m/mattlong/codes/oae-dor-global-efficiency/notebooks/CESM-RefCase/g.e22.GOMIPECOIAF_JRA-1p4-2018.TL319_g17.SMYLE.005/user_datm.streams.txt.presaero.cesm2_SMYLE -> /global/cfs/projectdirs/m4746/Projects/OAE-Efficiency-Map/cesm-cases/smyle.oae.perlmutter.alk-forcing-lat-range-basin.000.001/user_datm.streams.txt.presaero.cesm2_SMYLE\n",
      "/global/u2/m/mattlong/codes/oae-dor-global-efficiency/notebooks/CESM-RefCase/g.e22.GOMIPECOIAF_JRA-1p4-2018.TL319_g17.SMYLE.005/user_datm.streams.txt.presaero.clim_1850 -> /global/cfs/projectdirs/m4746/Projects/OAE-Efficiency-Map/cesm-cases/smyle.oae.perlmutter.alk-forcing-lat-range-basin.000.001/user_datm.streams.txt.presaero.clim_1850\n"
     ]
    },
    {
     "name": "stderr",
     "output_type": "stream",
     "text": [
      "\n",
      "_______________________________________________________________________________________________________\n",
      "     The Extreme-Scale Scientific Software Stack (E4S) is accessible via the\n",
      "Spack package manager.\n",
      "\n",
      "     In order to access the production stack, you will need to load a spack\n",
      "environment. Here are some tips to get started:\n",
      "\n",
      "\n",
      "     'spack env list' - List all Spack environments\n",
      "     'spack env activate gcc' - Activate the \"gcc\" Spack environment\n",
      "     'spack env status' - Display the active Spack environment\n",
      "     'spack load amrex' - Load the \"amrex\" Spack package into your user\n",
      "environment\n",
      "\n",
      "     For additional support, please refer to the following references:\n",
      "\n",
      "       NERSC E4S Documentation: https://docs.nersc.gov/applications/e4s/\n",
      "       E4S Documentation: https://e4s.readthedocs.io\n",
      "       Spack Documentation: https://spack.readthedocs.io/en/latest/\n",
      "       Spack Slack: https://spackpm.slack.com\n",
      "\n",
      "\n",
      "______________________________________________________________________________________________________\n",
      "     \n"
     ]
    },
    {
     "name": "stdout",
     "output_type": "stream",
     "text": [
      "Building case in directory /global/cfs/cdirs/m4746/Projects/OAE-Efficiency-Map/cesm-cases/smyle.oae.perlmutter.alk-forcing-lat-range-basin.000.001\n",
      "sharedlib_only is False\n",
      "model_only is False\n",
      "Setting resource.RLIMIT_STACK to -1 from (8388608, -1)\n",
      "Generating component namelists as part of build\n",
      "GET_REFCASE is false, the user is expected to stage the refcase to the run directory.\n",
      "Creating component namelists\n",
      "   Calling /global/cfs/cdirs/m4746/Projects/OAE-Efficiency-Map/codes/release-cesm2.1.5/cime/src/components/data_comps/datm/cime_config/buildnml\n",
      "   Calling /global/cfs/cdirs/m4746/Projects/OAE-Efficiency-Map/codes/release-cesm2.1.5/cime/src/components/stub_comps/slnd/cime_config/buildnml\n",
      "   Calling /global/cfs/cdirs/m4746/Projects/OAE-Efficiency-Map/codes/release-cesm2.1.5/components/cice//cime_config/buildnml\n",
      "     ...buildnml calling cice buildcpp to set build time options\n",
      "   Calling /global/cfs/cdirs/m4746/Projects/OAE-Efficiency-Map/codes/release-cesm2.1.5/components/pop//cime_config/buildnml\n",
      "     ... buildnml: calling pop buildcpp to set build time options\n"
     ]
    },
    {
     "name": "stderr",
     "output_type": "stream",
     "text": [
      "Unknown dependency '((autotroph_is_carbon_limited))'\n"
     ]
    },
    {
     "ename": "CalledProcessError",
     "evalue": "Command 'module load python && ./case.build' returned non-zero exit status 1.",
     "output_type": "error",
     "traceback": [
      "\u001b[0;31m---------------------------------------------------------------------------\u001b[0m",
      "\u001b[0;31mCalledProcessError\u001b[0m                        Traceback (most recent call last)",
      "Cell \u001b[0;32mIn[7], line 13\u001b[0m\n\u001b[1;32m     10\u001b[0m alk_forcing \u001b[38;5;241m=\u001b[39m os\u001b[38;5;241m.\u001b[39mpath\u001b[38;5;241m.\u001b[39mbasename(f)\u001b[38;5;241m.\u001b[39mreplace(\u001b[38;5;124m'\u001b[39m\u001b[38;5;124m.nc\u001b[39m\u001b[38;5;124m'\u001b[39m, \u001b[38;5;124m'\u001b[39m\u001b[38;5;124m'\u001b[39m)\n\u001b[1;32m     11\u001b[0m case \u001b[38;5;241m=\u001b[39m \u001b[38;5;124mf\u001b[39m\u001b[38;5;124m\"\u001b[39m\u001b[38;5;124msmyle.oae.\u001b[39m\u001b[38;5;132;01m{\u001b[39;00mproject\u001b[38;5;241m.\u001b[39mmach\u001b[38;5;132;01m}\u001b[39;00m\u001b[38;5;124m.\u001b[39m\u001b[38;5;132;01m{\u001b[39;00malk_forcing\u001b[38;5;132;01m}\u001b[39;00m\u001b[38;5;124m.001\u001b[39m\u001b[38;5;124m\"\u001b[39m\n\u001b[0;32m---> 13\u001b[0m \u001b[43moae_smyle\u001b[49m\u001b[38;5;241;43m.\u001b[39;49m\u001b[43mcreate_oae_case\u001b[49m\u001b[43m(\u001b[49m\n\u001b[1;32m     14\u001b[0m \u001b[43m    \u001b[49m\u001b[43mcase\u001b[49m\u001b[43m,\u001b[49m\u001b[43m \u001b[49m\n\u001b[1;32m     15\u001b[0m \u001b[43m    \u001b[49m\u001b[43malk_forcing_file\u001b[49m\u001b[38;5;241;43m=\u001b[39;49m\u001b[43mf\u001b[49m\u001b[43m,\u001b[49m\u001b[43m \u001b[49m\n\u001b[1;32m     16\u001b[0m \u001b[43m    \u001b[49m\u001b[43msubmit\u001b[49m\u001b[38;5;241;43m=\u001b[39;49m\u001b[38;5;28;43;01mTrue\u001b[39;49;00m\u001b[43m,\u001b[49m\u001b[43m \u001b[49m\n\u001b[1;32m     17\u001b[0m \u001b[43m    \u001b[49m\u001b[43mclobber\u001b[49m\u001b[38;5;241;43m=\u001b[39;49m\u001b[43mclobber\u001b[49m\u001b[43m,\u001b[49m\u001b[43m \u001b[49m\n\u001b[1;32m     18\u001b[0m \u001b[43m    \u001b[49m\u001b[43mcurtail_output\u001b[49m\u001b[38;5;241;43m=\u001b[39;49m\u001b[38;5;28;43;01mFalse\u001b[39;49;00m\u001b[43m,\u001b[49m\n\u001b[1;32m     19\u001b[0m \u001b[43m    \u001b[49m\u001b[43mstop_n\u001b[49m\u001b[38;5;241;43m=\u001b[39;49m\u001b[38;5;241;43m2\u001b[39;49m\u001b[43m,\u001b[49m\n\u001b[1;32m     20\u001b[0m \u001b[43m    \u001b[49m\u001b[43mstop_option\u001b[49m\u001b[38;5;241;43m=\u001b[39;49m\u001b[38;5;124;43m\"\u001b[39;49m\u001b[38;5;124;43mnyear\u001b[39;49m\u001b[38;5;124;43m\"\u001b[39;49m\u001b[43m,\u001b[49m\n\u001b[1;32m     21\u001b[0m \u001b[43m    \u001b[49m\u001b[43mwallclock\u001b[49m\u001b[38;5;241;43m=\u001b[39;49m\u001b[38;5;124;43m\"\u001b[39;49m\u001b[38;5;124;43m12:00:00\u001b[39;49m\u001b[38;5;124;43m\"\u001b[39;49m\u001b[43m,\u001b[49m\n\u001b[1;32m     22\u001b[0m \u001b[43m    \u001b[49m\u001b[43mresubmit\u001b[49m\u001b[38;5;241;43m=\u001b[39;49m\u001b[38;5;241;43m0\u001b[39;49m\u001b[43m,\u001b[49m\n\u001b[1;32m     23\u001b[0m \u001b[43m    \u001b[49m\u001b[43mcode_checkout\u001b[49m\u001b[38;5;241;43m=\u001b[39;49m\u001b[38;5;28;43;01mFalse\u001b[39;49;00m\u001b[43m,\u001b[49m\n\u001b[1;32m     24\u001b[0m \u001b[43m\u001b[49m\u001b[43m)\u001b[49m\n",
      "File \u001b[0;32m/global/u2/m/mattlong/codes/oae-dor-global-efficiency/notebooks/oae_smyle.py:276\u001b[0m, in \u001b[0;36mcreate_oae_case\u001b[0;34m(case, alk_forcing_file, refdate, stop_n, stop_option, wallclock, resubmit, clobber, submit, curtail_output, queue, code_checkout)\u001b[0m\n\u001b[1;32m    263\u001b[0m \u001b[38;5;66;03m# check_call(\u001b[39;00m\n\u001b[1;32m    264\u001b[0m \u001b[38;5;66;03m#     \"module load python && ./preview_namelists\", \u001b[39;00m\n\u001b[1;32m    265\u001b[0m \u001b[38;5;66;03m#     cwd=caseroot,\u001b[39;00m\n\u001b[0;32m   (...)\u001b[0m\n\u001b[1;32m    268\u001b[0m \n\u001b[1;32m    269\u001b[0m \u001b[38;5;66;03m# set ALT_CO2 tracers to CO2 tracers\u001b[39;00m\n\u001b[1;32m    270\u001b[0m check_call(\n\u001b[1;32m    271\u001b[0m     [\u001b[38;5;124m\"\u001b[39m\u001b[38;5;124m./set-alt-co2.sh\u001b[39m\u001b[38;5;124m\"\u001b[39m, \u001b[38;5;124mf\u001b[39m\u001b[38;5;124m\"\u001b[39m\u001b[38;5;132;01m{\u001b[39;00mrundir\u001b[38;5;132;01m}\u001b[39;00m\u001b[38;5;124m/run/\u001b[39m\u001b[38;5;132;01m{\u001b[39;00mrefcase\u001b[38;5;132;01m}\u001b[39;00m\u001b[38;5;124m.pop.r.\u001b[39m\u001b[38;5;132;01m{\u001b[39;00mrefdate\u001b[38;5;132;01m}\u001b[39;00m\u001b[38;5;124m-00000.nc\u001b[39m\u001b[38;5;124m\"\u001b[39m],\n\u001b[1;32m    272\u001b[0m     cwd\u001b[38;5;241m=\u001b[39mscriptroot,\n\u001b[1;32m    273\u001b[0m )\n\u001b[0;32m--> 276\u001b[0m \u001b[43mcheck_call\u001b[49m\u001b[43m(\u001b[49m\n\u001b[1;32m    277\u001b[0m \u001b[43m    \u001b[49m\u001b[38;5;124;43m\"\u001b[39;49m\u001b[38;5;124;43mmodule load python && ./case.build\u001b[39;49m\u001b[38;5;124;43m\"\u001b[39;49m\u001b[43m,\u001b[49m\n\u001b[1;32m    278\u001b[0m \u001b[43m    \u001b[49m\u001b[43mcwd\u001b[49m\u001b[38;5;241;43m=\u001b[39;49m\u001b[43mcaseroot\u001b[49m\u001b[43m,\u001b[49m\n\u001b[1;32m    279\u001b[0m \u001b[43m    \u001b[49m\u001b[43mshell\u001b[49m\u001b[38;5;241;43m=\u001b[39;49m\u001b[38;5;28;43;01mTrue\u001b[39;49;00m\u001b[43m,\u001b[49m\n\u001b[1;32m    280\u001b[0m \u001b[43m\u001b[49m\u001b[43m)\u001b[49m\n\u001b[1;32m    282\u001b[0m \u001b[38;5;28;01mif\u001b[39;00m submit:\n\u001b[1;32m    283\u001b[0m     check_call(\n\u001b[1;32m    284\u001b[0m         \u001b[38;5;124m\"\u001b[39m\u001b[38;5;124mmodule load python && ./case.submit\u001b[39m\u001b[38;5;124m\"\u001b[39m,\n\u001b[1;32m    285\u001b[0m         cwd\u001b[38;5;241m=\u001b[39mcaseroot,\n\u001b[1;32m    286\u001b[0m         shell\u001b[38;5;241m=\u001b[39m\u001b[38;5;28;01mTrue\u001b[39;00m,\n\u001b[1;32m    287\u001b[0m     )\n",
      "File \u001b[0;32m~/.conda/envs/cworthy/lib/python3.12/subprocess.py:413\u001b[0m, in \u001b[0;36mcheck_call\u001b[0;34m(*popenargs, **kwargs)\u001b[0m\n\u001b[1;32m    411\u001b[0m     \u001b[38;5;28;01mif\u001b[39;00m cmd \u001b[38;5;129;01mis\u001b[39;00m \u001b[38;5;28;01mNone\u001b[39;00m:\n\u001b[1;32m    412\u001b[0m         cmd \u001b[38;5;241m=\u001b[39m popenargs[\u001b[38;5;241m0\u001b[39m]\n\u001b[0;32m--> 413\u001b[0m     \u001b[38;5;28;01mraise\u001b[39;00m CalledProcessError(retcode, cmd)\n\u001b[1;32m    414\u001b[0m \u001b[38;5;28;01mreturn\u001b[39;00m \u001b[38;5;241m0\u001b[39m\n",
      "\u001b[0;31mCalledProcessError\u001b[0m: Command 'module load python && ./case.build' returned non-zero exit status 1."
     ]
    }
   ],
   "source": [
    "clobber = True\n",
    "\n",
    "run_only_index_list = [0] # use this list to run only select indexes \n",
    "\n",
    "for n, f in enumerate(forcing_files):\n",
    "\n",
    "    if n not in run_only_index_list:\n",
    "        continue\n",
    "\n",
    "    alk_forcing = os.path.basename(f).replace('.nc', '')\n",
    "    case = f\"smyle.oae.{project.mach}.{alk_forcing}.001\"\n",
    "\n",
    "    oae_smyle.create_oae_case(\n",
    "        case, \n",
    "        alk_forcing_file=f, \n",
    "        submit=True, \n",
    "        clobber=clobber, \n",
    "        curtail_output=False,\n",
    "        stop_n=2,\n",
    "        stop_option=\"nyear\",\n",
    "        wallclock=\"12:00:00\",\n",
    "        resubmit=0,\n",
    "        code_checkout=False,\n",
    "    )"
   ]
  },
  {
   "cell_type": "code",
   "execution_count": null,
   "id": "1abe54a9-b9ca-47db-8e20-3257be27718a",
   "metadata": {},
   "outputs": [],
   "source": []
  }
 ],
 "metadata": {
  "kernelspec": {
   "display_name": "cworthy",
   "language": "python",
   "name": "env"
  },
  "language_info": {
   "codemirror_mode": {
    "name": "ipython",
    "version": 3
   },
   "file_extension": ".py",
   "mimetype": "text/x-python",
   "name": "python",
   "nbconvert_exporter": "python",
   "pygments_lexer": "ipython3",
   "version": "3.12.5"
  }
 },
 "nbformat": 4,
 "nbformat_minor": 5
}
